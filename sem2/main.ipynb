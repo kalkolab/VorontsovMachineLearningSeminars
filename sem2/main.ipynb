{
  "nbformat": 4,
  "nbformat_minor": 0,
  "metadata": {
    "celltoolbar": "Slideshow",
    "kernelspec": {
      "display_name": "Python 3",
      "language": "python",
      "name": "python3"
    },
    "language_info": {
      "codemirror_mode": {
        "name": "ipython",
        "version": 3
      },
      "file_extension": ".py",
      "mimetype": "text/x-python",
      "name": "python",
      "nbconvert_exporter": "python",
      "pygments_lexer": "ipython3",
      "version": "3.6.2"
    },
    "colab": {
      "name": "main.ipynb",
      "provenance": [],
      "include_colab_link": true
    },
    "widgets": {
      "application/vnd.jupyter.widget-state+json": {
        "ecd78d93b4064071a57e3e20acaa3d26": {
          "model_module": "@jupyter-widgets/controls",
          "model_name": "HBoxModel",
          "state": {
            "_view_name": "HBoxView",
            "_dom_classes": [],
            "_model_name": "HBoxModel",
            "_view_module": "@jupyter-widgets/controls",
            "_model_module_version": "1.5.0",
            "_view_count": null,
            "_view_module_version": "1.5.0",
            "box_style": "",
            "layout": "IPY_MODEL_c8ea87fae35343448fa2cd6609ee2000",
            "_model_module": "@jupyter-widgets/controls",
            "children": [
              "IPY_MODEL_d8e73be6f3504937908321069f8df854",
              "IPY_MODEL_f69747da114543c890be62faefb226c7"
            ]
          }
        },
        "c8ea87fae35343448fa2cd6609ee2000": {
          "model_module": "@jupyter-widgets/base",
          "model_name": "LayoutModel",
          "state": {
            "_view_name": "LayoutView",
            "grid_template_rows": null,
            "right": null,
            "justify_content": null,
            "_view_module": "@jupyter-widgets/base",
            "overflow": null,
            "_model_module_version": "1.2.0",
            "_view_count": null,
            "flex_flow": null,
            "width": null,
            "min_width": null,
            "border": null,
            "align_items": null,
            "bottom": null,
            "_model_module": "@jupyter-widgets/base",
            "top": null,
            "grid_column": null,
            "overflow_y": null,
            "overflow_x": null,
            "grid_auto_flow": null,
            "grid_area": null,
            "grid_template_columns": null,
            "flex": null,
            "_model_name": "LayoutModel",
            "justify_items": null,
            "grid_row": null,
            "max_height": null,
            "align_content": null,
            "visibility": null,
            "align_self": null,
            "height": null,
            "min_height": null,
            "padding": null,
            "grid_auto_rows": null,
            "grid_gap": null,
            "max_width": null,
            "order": null,
            "_view_module_version": "1.2.0",
            "grid_template_areas": null,
            "object_position": null,
            "object_fit": null,
            "grid_auto_columns": null,
            "margin": null,
            "display": null,
            "left": null
          }
        },
        "d8e73be6f3504937908321069f8df854": {
          "model_module": "@jupyter-widgets/controls",
          "model_name": "FloatProgressModel",
          "state": {
            "_view_name": "ProgressView",
            "style": "IPY_MODEL_8c89afc1d8d34706b7eeefa63271b8c1",
            "_dom_classes": [],
            "description": "100%",
            "_model_name": "FloatProgressModel",
            "bar_style": "success",
            "max": 11,
            "_view_module": "@jupyter-widgets/controls",
            "_model_module_version": "1.5.0",
            "value": 11,
            "_view_count": null,
            "_view_module_version": "1.5.0",
            "orientation": "horizontal",
            "min": 0,
            "description_tooltip": null,
            "_model_module": "@jupyter-widgets/controls",
            "layout": "IPY_MODEL_186ab10bd6f64123b64dbdfc83efa5dc"
          }
        },
        "f69747da114543c890be62faefb226c7": {
          "model_module": "@jupyter-widgets/controls",
          "model_name": "HTMLModel",
          "state": {
            "_view_name": "HTMLView",
            "style": "IPY_MODEL_3f62d8e1a0c643b59ad751dd3944897b",
            "_dom_classes": [],
            "description": "",
            "_model_name": "HTMLModel",
            "placeholder": "​",
            "_view_module": "@jupyter-widgets/controls",
            "_model_module_version": "1.5.0",
            "value": " 11/11 [00:34&lt;00:00,  3.18s/it]",
            "_view_count": null,
            "_view_module_version": "1.5.0",
            "description_tooltip": null,
            "_model_module": "@jupyter-widgets/controls",
            "layout": "IPY_MODEL_c0d56728b2e542ff9530056491d3bf39"
          }
        },
        "8c89afc1d8d34706b7eeefa63271b8c1": {
          "model_module": "@jupyter-widgets/controls",
          "model_name": "ProgressStyleModel",
          "state": {
            "_view_name": "StyleView",
            "_model_name": "ProgressStyleModel",
            "description_width": "initial",
            "_view_module": "@jupyter-widgets/base",
            "_model_module_version": "1.5.0",
            "_view_count": null,
            "_view_module_version": "1.2.0",
            "bar_color": null,
            "_model_module": "@jupyter-widgets/controls"
          }
        },
        "186ab10bd6f64123b64dbdfc83efa5dc": {
          "model_module": "@jupyter-widgets/base",
          "model_name": "LayoutModel",
          "state": {
            "_view_name": "LayoutView",
            "grid_template_rows": null,
            "right": null,
            "justify_content": null,
            "_view_module": "@jupyter-widgets/base",
            "overflow": null,
            "_model_module_version": "1.2.0",
            "_view_count": null,
            "flex_flow": null,
            "width": null,
            "min_width": null,
            "border": null,
            "align_items": null,
            "bottom": null,
            "_model_module": "@jupyter-widgets/base",
            "top": null,
            "grid_column": null,
            "overflow_y": null,
            "overflow_x": null,
            "grid_auto_flow": null,
            "grid_area": null,
            "grid_template_columns": null,
            "flex": null,
            "_model_name": "LayoutModel",
            "justify_items": null,
            "grid_row": null,
            "max_height": null,
            "align_content": null,
            "visibility": null,
            "align_self": null,
            "height": null,
            "min_height": null,
            "padding": null,
            "grid_auto_rows": null,
            "grid_gap": null,
            "max_width": null,
            "order": null,
            "_view_module_version": "1.2.0",
            "grid_template_areas": null,
            "object_position": null,
            "object_fit": null,
            "grid_auto_columns": null,
            "margin": null,
            "display": null,
            "left": null
          }
        },
        "3f62d8e1a0c643b59ad751dd3944897b": {
          "model_module": "@jupyter-widgets/controls",
          "model_name": "DescriptionStyleModel",
          "state": {
            "_view_name": "StyleView",
            "_model_name": "DescriptionStyleModel",
            "description_width": "",
            "_view_module": "@jupyter-widgets/base",
            "_model_module_version": "1.5.0",
            "_view_count": null,
            "_view_module_version": "1.2.0",
            "_model_module": "@jupyter-widgets/controls"
          }
        },
        "c0d56728b2e542ff9530056491d3bf39": {
          "model_module": "@jupyter-widgets/base",
          "model_name": "LayoutModel",
          "state": {
            "_view_name": "LayoutView",
            "grid_template_rows": null,
            "right": null,
            "justify_content": null,
            "_view_module": "@jupyter-widgets/base",
            "overflow": null,
            "_model_module_version": "1.2.0",
            "_view_count": null,
            "flex_flow": null,
            "width": null,
            "min_width": null,
            "border": null,
            "align_items": null,
            "bottom": null,
            "_model_module": "@jupyter-widgets/base",
            "top": null,
            "grid_column": null,
            "overflow_y": null,
            "overflow_x": null,
            "grid_auto_flow": null,
            "grid_area": null,
            "grid_template_columns": null,
            "flex": null,
            "_model_name": "LayoutModel",
            "justify_items": null,
            "grid_row": null,
            "max_height": null,
            "align_content": null,
            "visibility": null,
            "align_self": null,
            "height": null,
            "min_height": null,
            "padding": null,
            "grid_auto_rows": null,
            "grid_gap": null,
            "max_width": null,
            "order": null,
            "_view_module_version": "1.2.0",
            "grid_template_areas": null,
            "object_position": null,
            "object_fit": null,
            "grid_auto_columns": null,
            "margin": null,
            "display": null,
            "left": null
          }
        },
        "6728818703af4d79b6a17a5180ee41ea": {
          "model_module": "@jupyter-widgets/controls",
          "model_name": "HBoxModel",
          "state": {
            "_view_name": "HBoxView",
            "_dom_classes": [],
            "_model_name": "HBoxModel",
            "_view_module": "@jupyter-widgets/controls",
            "_model_module_version": "1.5.0",
            "_view_count": null,
            "_view_module_version": "1.5.0",
            "box_style": "",
            "layout": "IPY_MODEL_80a2023513fe4c32b09a577b47cf16ee",
            "_model_module": "@jupyter-widgets/controls",
            "children": [
              "IPY_MODEL_4cc3ffe91d994fa5a4171697d6b81c2c",
              "IPY_MODEL_2ca35750dc83413a9668cc06f55f1f19"
            ]
          }
        },
        "80a2023513fe4c32b09a577b47cf16ee": {
          "model_module": "@jupyter-widgets/base",
          "model_name": "LayoutModel",
          "state": {
            "_view_name": "LayoutView",
            "grid_template_rows": null,
            "right": null,
            "justify_content": null,
            "_view_module": "@jupyter-widgets/base",
            "overflow": null,
            "_model_module_version": "1.2.0",
            "_view_count": null,
            "flex_flow": null,
            "width": null,
            "min_width": null,
            "border": null,
            "align_items": null,
            "bottom": null,
            "_model_module": "@jupyter-widgets/base",
            "top": null,
            "grid_column": null,
            "overflow_y": null,
            "overflow_x": null,
            "grid_auto_flow": null,
            "grid_area": null,
            "grid_template_columns": null,
            "flex": null,
            "_model_name": "LayoutModel",
            "justify_items": null,
            "grid_row": null,
            "max_height": null,
            "align_content": null,
            "visibility": null,
            "align_self": null,
            "height": null,
            "min_height": null,
            "padding": null,
            "grid_auto_rows": null,
            "grid_gap": null,
            "max_width": null,
            "order": null,
            "_view_module_version": "1.2.0",
            "grid_template_areas": null,
            "object_position": null,
            "object_fit": null,
            "grid_auto_columns": null,
            "margin": null,
            "display": null,
            "left": null
          }
        },
        "4cc3ffe91d994fa5a4171697d6b81c2c": {
          "model_module": "@jupyter-widgets/controls",
          "model_name": "FloatProgressModel",
          "state": {
            "_view_name": "ProgressView",
            "style": "IPY_MODEL_bf7009f6a77747dd8832e5030acaeb22",
            "_dom_classes": [],
            "description": "100%",
            "_model_name": "FloatProgressModel",
            "bar_style": "",
            "max": 1000,
            "_view_module": "@jupyter-widgets/controls",
            "_model_module_version": "1.5.0",
            "value": 1000,
            "_view_count": null,
            "_view_module_version": "1.5.0",
            "orientation": "horizontal",
            "min": 0,
            "description_tooltip": null,
            "_model_module": "@jupyter-widgets/controls",
            "layout": "IPY_MODEL_eb53a61c940f4ee9939645a2b2bd3d07"
          }
        },
        "2ca35750dc83413a9668cc06f55f1f19": {
          "model_module": "@jupyter-widgets/controls",
          "model_name": "HTMLModel",
          "state": {
            "_view_name": "HTMLView",
            "style": "IPY_MODEL_2266cdf1e7db4dc79df8ee16cb6b2d98",
            "_dom_classes": [],
            "description": "",
            "_model_name": "HTMLModel",
            "placeholder": "​",
            "_view_module": "@jupyter-widgets/controls",
            "_model_module_version": "1.5.0",
            "value": " 1000/1000 [00:03&lt;00:00, 308.57it/s]",
            "_view_count": null,
            "_view_module_version": "1.5.0",
            "description_tooltip": null,
            "_model_module": "@jupyter-widgets/controls",
            "layout": "IPY_MODEL_6d4008f58c0b4937a7f3db1df7ba7541"
          }
        },
        "bf7009f6a77747dd8832e5030acaeb22": {
          "model_module": "@jupyter-widgets/controls",
          "model_name": "ProgressStyleModel",
          "state": {
            "_view_name": "StyleView",
            "_model_name": "ProgressStyleModel",
            "description_width": "initial",
            "_view_module": "@jupyter-widgets/base",
            "_model_module_version": "1.5.0",
            "_view_count": null,
            "_view_module_version": "1.2.0",
            "bar_color": null,
            "_model_module": "@jupyter-widgets/controls"
          }
        },
        "eb53a61c940f4ee9939645a2b2bd3d07": {
          "model_module": "@jupyter-widgets/base",
          "model_name": "LayoutModel",
          "state": {
            "_view_name": "LayoutView",
            "grid_template_rows": null,
            "right": null,
            "justify_content": null,
            "_view_module": "@jupyter-widgets/base",
            "overflow": null,
            "_model_module_version": "1.2.0",
            "_view_count": null,
            "flex_flow": null,
            "width": null,
            "min_width": null,
            "border": null,
            "align_items": null,
            "bottom": null,
            "_model_module": "@jupyter-widgets/base",
            "top": null,
            "grid_column": null,
            "overflow_y": null,
            "overflow_x": null,
            "grid_auto_flow": null,
            "grid_area": null,
            "grid_template_columns": null,
            "flex": null,
            "_model_name": "LayoutModel",
            "justify_items": null,
            "grid_row": null,
            "max_height": null,
            "align_content": null,
            "visibility": null,
            "align_self": null,
            "height": null,
            "min_height": null,
            "padding": null,
            "grid_auto_rows": null,
            "grid_gap": null,
            "max_width": null,
            "order": null,
            "_view_module_version": "1.2.0",
            "grid_template_areas": null,
            "object_position": null,
            "object_fit": null,
            "grid_auto_columns": null,
            "margin": null,
            "display": null,
            "left": null
          }
        },
        "2266cdf1e7db4dc79df8ee16cb6b2d98": {
          "model_module": "@jupyter-widgets/controls",
          "model_name": "DescriptionStyleModel",
          "state": {
            "_view_name": "StyleView",
            "_model_name": "DescriptionStyleModel",
            "description_width": "",
            "_view_module": "@jupyter-widgets/base",
            "_model_module_version": "1.5.0",
            "_view_count": null,
            "_view_module_version": "1.2.0",
            "_model_module": "@jupyter-widgets/controls"
          }
        },
        "6d4008f58c0b4937a7f3db1df7ba7541": {
          "model_module": "@jupyter-widgets/base",
          "model_name": "LayoutModel",
          "state": {
            "_view_name": "LayoutView",
            "grid_template_rows": null,
            "right": null,
            "justify_content": null,
            "_view_module": "@jupyter-widgets/base",
            "overflow": null,
            "_model_module_version": "1.2.0",
            "_view_count": null,
            "flex_flow": null,
            "width": null,
            "min_width": null,
            "border": null,
            "align_items": null,
            "bottom": null,
            "_model_module": "@jupyter-widgets/base",
            "top": null,
            "grid_column": null,
            "overflow_y": null,
            "overflow_x": null,
            "grid_auto_flow": null,
            "grid_area": null,
            "grid_template_columns": null,
            "flex": null,
            "_model_name": "LayoutModel",
            "justify_items": null,
            "grid_row": null,
            "max_height": null,
            "align_content": null,
            "visibility": null,
            "align_self": null,
            "height": null,
            "min_height": null,
            "padding": null,
            "grid_auto_rows": null,
            "grid_gap": null,
            "max_width": null,
            "order": null,
            "_view_module_version": "1.2.0",
            "grid_template_areas": null,
            "object_position": null,
            "object_fit": null,
            "grid_auto_columns": null,
            "margin": null,
            "display": null,
            "left": null
          }
        },
        "62ba9e6158044e09ae5652f49b20f481": {
          "model_module": "@jupyter-widgets/controls",
          "model_name": "HBoxModel",
          "state": {
            "_view_name": "HBoxView",
            "_dom_classes": [],
            "_model_name": "HBoxModel",
            "_view_module": "@jupyter-widgets/controls",
            "_model_module_version": "1.5.0",
            "_view_count": null,
            "_view_module_version": "1.5.0",
            "box_style": "",
            "layout": "IPY_MODEL_6380d5a56fa147d28518d2e670901e29",
            "_model_module": "@jupyter-widgets/controls",
            "children": [
              "IPY_MODEL_30d946e68ee04a5d86a38dde8d187ffb",
              "IPY_MODEL_89e42cb115124296b4b5309d4620bef2"
            ]
          }
        },
        "6380d5a56fa147d28518d2e670901e29": {
          "model_module": "@jupyter-widgets/base",
          "model_name": "LayoutModel",
          "state": {
            "_view_name": "LayoutView",
            "grid_template_rows": null,
            "right": null,
            "justify_content": null,
            "_view_module": "@jupyter-widgets/base",
            "overflow": null,
            "_model_module_version": "1.2.0",
            "_view_count": null,
            "flex_flow": null,
            "width": null,
            "min_width": null,
            "border": null,
            "align_items": null,
            "bottom": null,
            "_model_module": "@jupyter-widgets/base",
            "top": null,
            "grid_column": null,
            "overflow_y": null,
            "overflow_x": null,
            "grid_auto_flow": null,
            "grid_area": null,
            "grid_template_columns": null,
            "flex": null,
            "_model_name": "LayoutModel",
            "justify_items": null,
            "grid_row": null,
            "max_height": null,
            "align_content": null,
            "visibility": null,
            "align_self": null,
            "height": null,
            "min_height": null,
            "padding": null,
            "grid_auto_rows": null,
            "grid_gap": null,
            "max_width": null,
            "order": null,
            "_view_module_version": "1.2.0",
            "grid_template_areas": null,
            "object_position": null,
            "object_fit": null,
            "grid_auto_columns": null,
            "margin": null,
            "display": null,
            "left": null
          }
        },
        "30d946e68ee04a5d86a38dde8d187ffb": {
          "model_module": "@jupyter-widgets/controls",
          "model_name": "FloatProgressModel",
          "state": {
            "_view_name": "ProgressView",
            "style": "IPY_MODEL_e5c73cbb21a9473ea2b7ae54b4a5d8a3",
            "_dom_classes": [],
            "description": "100%",
            "_model_name": "FloatProgressModel",
            "bar_style": "",
            "max": 1000,
            "_view_module": "@jupyter-widgets/controls",
            "_model_module_version": "1.5.0",
            "value": 1000,
            "_view_count": null,
            "_view_module_version": "1.5.0",
            "orientation": "horizontal",
            "min": 0,
            "description_tooltip": null,
            "_model_module": "@jupyter-widgets/controls",
            "layout": "IPY_MODEL_d9feea1637084f4f915842b1cd4f54b1"
          }
        },
        "89e42cb115124296b4b5309d4620bef2": {
          "model_module": "@jupyter-widgets/controls",
          "model_name": "HTMLModel",
          "state": {
            "_view_name": "HTMLView",
            "style": "IPY_MODEL_0b38b6e381fe4f9c9c3d36b7676da356",
            "_dom_classes": [],
            "description": "",
            "_model_name": "HTMLModel",
            "placeholder": "​",
            "_view_module": "@jupyter-widgets/controls",
            "_model_module_version": "1.5.0",
            "value": " 1000/1000 [00:03&lt;00:00, 296.41it/s]",
            "_view_count": null,
            "_view_module_version": "1.5.0",
            "description_tooltip": null,
            "_model_module": "@jupyter-widgets/controls",
            "layout": "IPY_MODEL_5ebcaf8cb6ea4a4eaca863fa7828748a"
          }
        },
        "e5c73cbb21a9473ea2b7ae54b4a5d8a3": {
          "model_module": "@jupyter-widgets/controls",
          "model_name": "ProgressStyleModel",
          "state": {
            "_view_name": "StyleView",
            "_model_name": "ProgressStyleModel",
            "description_width": "initial",
            "_view_module": "@jupyter-widgets/base",
            "_model_module_version": "1.5.0",
            "_view_count": null,
            "_view_module_version": "1.2.0",
            "bar_color": null,
            "_model_module": "@jupyter-widgets/controls"
          }
        },
        "d9feea1637084f4f915842b1cd4f54b1": {
          "model_module": "@jupyter-widgets/base",
          "model_name": "LayoutModel",
          "state": {
            "_view_name": "LayoutView",
            "grid_template_rows": null,
            "right": null,
            "justify_content": null,
            "_view_module": "@jupyter-widgets/base",
            "overflow": null,
            "_model_module_version": "1.2.0",
            "_view_count": null,
            "flex_flow": null,
            "width": null,
            "min_width": null,
            "border": null,
            "align_items": null,
            "bottom": null,
            "_model_module": "@jupyter-widgets/base",
            "top": null,
            "grid_column": null,
            "overflow_y": null,
            "overflow_x": null,
            "grid_auto_flow": null,
            "grid_area": null,
            "grid_template_columns": null,
            "flex": null,
            "_model_name": "LayoutModel",
            "justify_items": null,
            "grid_row": null,
            "max_height": null,
            "align_content": null,
            "visibility": null,
            "align_self": null,
            "height": null,
            "min_height": null,
            "padding": null,
            "grid_auto_rows": null,
            "grid_gap": null,
            "max_width": null,
            "order": null,
            "_view_module_version": "1.2.0",
            "grid_template_areas": null,
            "object_position": null,
            "object_fit": null,
            "grid_auto_columns": null,
            "margin": null,
            "display": null,
            "left": null
          }
        },
        "0b38b6e381fe4f9c9c3d36b7676da356": {
          "model_module": "@jupyter-widgets/controls",
          "model_name": "DescriptionStyleModel",
          "state": {
            "_view_name": "StyleView",
            "_model_name": "DescriptionStyleModel",
            "description_width": "",
            "_view_module": "@jupyter-widgets/base",
            "_model_module_version": "1.5.0",
            "_view_count": null,
            "_view_module_version": "1.2.0",
            "_model_module": "@jupyter-widgets/controls"
          }
        },
        "5ebcaf8cb6ea4a4eaca863fa7828748a": {
          "model_module": "@jupyter-widgets/base",
          "model_name": "LayoutModel",
          "state": {
            "_view_name": "LayoutView",
            "grid_template_rows": null,
            "right": null,
            "justify_content": null,
            "_view_module": "@jupyter-widgets/base",
            "overflow": null,
            "_model_module_version": "1.2.0",
            "_view_count": null,
            "flex_flow": null,
            "width": null,
            "min_width": null,
            "border": null,
            "align_items": null,
            "bottom": null,
            "_model_module": "@jupyter-widgets/base",
            "top": null,
            "grid_column": null,
            "overflow_y": null,
            "overflow_x": null,
            "grid_auto_flow": null,
            "grid_area": null,
            "grid_template_columns": null,
            "flex": null,
            "_model_name": "LayoutModel",
            "justify_items": null,
            "grid_row": null,
            "max_height": null,
            "align_content": null,
            "visibility": null,
            "align_self": null,
            "height": null,
            "min_height": null,
            "padding": null,
            "grid_auto_rows": null,
            "grid_gap": null,
            "max_width": null,
            "order": null,
            "_view_module_version": "1.2.0",
            "grid_template_areas": null,
            "object_position": null,
            "object_fit": null,
            "grid_auto_columns": null,
            "margin": null,
            "display": null,
            "left": null
          }
        },
        "42ea0f0bacd240eab3710462f15d12ea": {
          "model_module": "@jupyter-widgets/controls",
          "model_name": "HBoxModel",
          "state": {
            "_view_name": "HBoxView",
            "_dom_classes": [],
            "_model_name": "HBoxModel",
            "_view_module": "@jupyter-widgets/controls",
            "_model_module_version": "1.5.0",
            "_view_count": null,
            "_view_module_version": "1.5.0",
            "box_style": "",
            "layout": "IPY_MODEL_8de0dc43501946b99aa20bc2a937a265",
            "_model_module": "@jupyter-widgets/controls",
            "children": [
              "IPY_MODEL_0f880e4412344cc59037abb00732979d",
              "IPY_MODEL_8e8dc03a8c8b4f67a6721d2a73685449"
            ]
          }
        },
        "8de0dc43501946b99aa20bc2a937a265": {
          "model_module": "@jupyter-widgets/base",
          "model_name": "LayoutModel",
          "state": {
            "_view_name": "LayoutView",
            "grid_template_rows": null,
            "right": null,
            "justify_content": null,
            "_view_module": "@jupyter-widgets/base",
            "overflow": null,
            "_model_module_version": "1.2.0",
            "_view_count": null,
            "flex_flow": null,
            "width": null,
            "min_width": null,
            "border": null,
            "align_items": null,
            "bottom": null,
            "_model_module": "@jupyter-widgets/base",
            "top": null,
            "grid_column": null,
            "overflow_y": null,
            "overflow_x": null,
            "grid_auto_flow": null,
            "grid_area": null,
            "grid_template_columns": null,
            "flex": null,
            "_model_name": "LayoutModel",
            "justify_items": null,
            "grid_row": null,
            "max_height": null,
            "align_content": null,
            "visibility": null,
            "align_self": null,
            "height": null,
            "min_height": null,
            "padding": null,
            "grid_auto_rows": null,
            "grid_gap": null,
            "max_width": null,
            "order": null,
            "_view_module_version": "1.2.0",
            "grid_template_areas": null,
            "object_position": null,
            "object_fit": null,
            "grid_auto_columns": null,
            "margin": null,
            "display": null,
            "left": null
          }
        },
        "0f880e4412344cc59037abb00732979d": {
          "model_module": "@jupyter-widgets/controls",
          "model_name": "FloatProgressModel",
          "state": {
            "_view_name": "ProgressView",
            "style": "IPY_MODEL_6135958ae4f941859139fa9745509db6",
            "_dom_classes": [],
            "description": "100%",
            "_model_name": "FloatProgressModel",
            "bar_style": "",
            "max": 1000,
            "_view_module": "@jupyter-widgets/controls",
            "_model_module_version": "1.5.0",
            "value": 1000,
            "_view_count": null,
            "_view_module_version": "1.5.0",
            "orientation": "horizontal",
            "min": 0,
            "description_tooltip": null,
            "_model_module": "@jupyter-widgets/controls",
            "layout": "IPY_MODEL_e16b5f58582d44ef9ec7ad4275002c7f"
          }
        },
        "8e8dc03a8c8b4f67a6721d2a73685449": {
          "model_module": "@jupyter-widgets/controls",
          "model_name": "HTMLModel",
          "state": {
            "_view_name": "HTMLView",
            "style": "IPY_MODEL_b908faad27b147a59f2fa5009ff22e57",
            "_dom_classes": [],
            "description": "",
            "_model_name": "HTMLModel",
            "placeholder": "​",
            "_view_module": "@jupyter-widgets/controls",
            "_model_module_version": "1.5.0",
            "value": " 1000/1000 [00:03&lt;00:00, 302.41it/s]",
            "_view_count": null,
            "_view_module_version": "1.5.0",
            "description_tooltip": null,
            "_model_module": "@jupyter-widgets/controls",
            "layout": "IPY_MODEL_f3af855f27a64a89a9310b5a40b2ed82"
          }
        },
        "6135958ae4f941859139fa9745509db6": {
          "model_module": "@jupyter-widgets/controls",
          "model_name": "ProgressStyleModel",
          "state": {
            "_view_name": "StyleView",
            "_model_name": "ProgressStyleModel",
            "description_width": "initial",
            "_view_module": "@jupyter-widgets/base",
            "_model_module_version": "1.5.0",
            "_view_count": null,
            "_view_module_version": "1.2.0",
            "bar_color": null,
            "_model_module": "@jupyter-widgets/controls"
          }
        },
        "e16b5f58582d44ef9ec7ad4275002c7f": {
          "model_module": "@jupyter-widgets/base",
          "model_name": "LayoutModel",
          "state": {
            "_view_name": "LayoutView",
            "grid_template_rows": null,
            "right": null,
            "justify_content": null,
            "_view_module": "@jupyter-widgets/base",
            "overflow": null,
            "_model_module_version": "1.2.0",
            "_view_count": null,
            "flex_flow": null,
            "width": null,
            "min_width": null,
            "border": null,
            "align_items": null,
            "bottom": null,
            "_model_module": "@jupyter-widgets/base",
            "top": null,
            "grid_column": null,
            "overflow_y": null,
            "overflow_x": null,
            "grid_auto_flow": null,
            "grid_area": null,
            "grid_template_columns": null,
            "flex": null,
            "_model_name": "LayoutModel",
            "justify_items": null,
            "grid_row": null,
            "max_height": null,
            "align_content": null,
            "visibility": null,
            "align_self": null,
            "height": null,
            "min_height": null,
            "padding": null,
            "grid_auto_rows": null,
            "grid_gap": null,
            "max_width": null,
            "order": null,
            "_view_module_version": "1.2.0",
            "grid_template_areas": null,
            "object_position": null,
            "object_fit": null,
            "grid_auto_columns": null,
            "margin": null,
            "display": null,
            "left": null
          }
        },
        "b908faad27b147a59f2fa5009ff22e57": {
          "model_module": "@jupyter-widgets/controls",
          "model_name": "DescriptionStyleModel",
          "state": {
            "_view_name": "StyleView",
            "_model_name": "DescriptionStyleModel",
            "description_width": "",
            "_view_module": "@jupyter-widgets/base",
            "_model_module_version": "1.5.0",
            "_view_count": null,
            "_view_module_version": "1.2.0",
            "_model_module": "@jupyter-widgets/controls"
          }
        },
        "f3af855f27a64a89a9310b5a40b2ed82": {
          "model_module": "@jupyter-widgets/base",
          "model_name": "LayoutModel",
          "state": {
            "_view_name": "LayoutView",
            "grid_template_rows": null,
            "right": null,
            "justify_content": null,
            "_view_module": "@jupyter-widgets/base",
            "overflow": null,
            "_model_module_version": "1.2.0",
            "_view_count": null,
            "flex_flow": null,
            "width": null,
            "min_width": null,
            "border": null,
            "align_items": null,
            "bottom": null,
            "_model_module": "@jupyter-widgets/base",
            "top": null,
            "grid_column": null,
            "overflow_y": null,
            "overflow_x": null,
            "grid_auto_flow": null,
            "grid_area": null,
            "grid_template_columns": null,
            "flex": null,
            "_model_name": "LayoutModel",
            "justify_items": null,
            "grid_row": null,
            "max_height": null,
            "align_content": null,
            "visibility": null,
            "align_self": null,
            "height": null,
            "min_height": null,
            "padding": null,
            "grid_auto_rows": null,
            "grid_gap": null,
            "max_width": null,
            "order": null,
            "_view_module_version": "1.2.0",
            "grid_template_areas": null,
            "object_position": null,
            "object_fit": null,
            "grid_auto_columns": null,
            "margin": null,
            "display": null,
            "left": null
          }
        },
        "3ec94ebaee734b3988b71180017ecb1a": {
          "model_module": "@jupyter-widgets/controls",
          "model_name": "HBoxModel",
          "state": {
            "_view_name": "HBoxView",
            "_dom_classes": [],
            "_model_name": "HBoxModel",
            "_view_module": "@jupyter-widgets/controls",
            "_model_module_version": "1.5.0",
            "_view_count": null,
            "_view_module_version": "1.5.0",
            "box_style": "",
            "layout": "IPY_MODEL_70fbce24a7f9474ea3fcd3b1f9c136d6",
            "_model_module": "@jupyter-widgets/controls",
            "children": [
              "IPY_MODEL_81b751326b4f415585a79bd1301e5dd4",
              "IPY_MODEL_5fcf8f7804724f7b99b5d6bc7ef44d50"
            ]
          }
        },
        "70fbce24a7f9474ea3fcd3b1f9c136d6": {
          "model_module": "@jupyter-widgets/base",
          "model_name": "LayoutModel",
          "state": {
            "_view_name": "LayoutView",
            "grid_template_rows": null,
            "right": null,
            "justify_content": null,
            "_view_module": "@jupyter-widgets/base",
            "overflow": null,
            "_model_module_version": "1.2.0",
            "_view_count": null,
            "flex_flow": null,
            "width": null,
            "min_width": null,
            "border": null,
            "align_items": null,
            "bottom": null,
            "_model_module": "@jupyter-widgets/base",
            "top": null,
            "grid_column": null,
            "overflow_y": null,
            "overflow_x": null,
            "grid_auto_flow": null,
            "grid_area": null,
            "grid_template_columns": null,
            "flex": null,
            "_model_name": "LayoutModel",
            "justify_items": null,
            "grid_row": null,
            "max_height": null,
            "align_content": null,
            "visibility": null,
            "align_self": null,
            "height": null,
            "min_height": null,
            "padding": null,
            "grid_auto_rows": null,
            "grid_gap": null,
            "max_width": null,
            "order": null,
            "_view_module_version": "1.2.0",
            "grid_template_areas": null,
            "object_position": null,
            "object_fit": null,
            "grid_auto_columns": null,
            "margin": null,
            "display": null,
            "left": null
          }
        },
        "81b751326b4f415585a79bd1301e5dd4": {
          "model_module": "@jupyter-widgets/controls",
          "model_name": "FloatProgressModel",
          "state": {
            "_view_name": "ProgressView",
            "style": "IPY_MODEL_c1be1eda30844dbdb1cca4cf60e73dab",
            "_dom_classes": [],
            "description": "100%",
            "_model_name": "FloatProgressModel",
            "bar_style": "",
            "max": 1000,
            "_view_module": "@jupyter-widgets/controls",
            "_model_module_version": "1.5.0",
            "value": 1000,
            "_view_count": null,
            "_view_module_version": "1.5.0",
            "orientation": "horizontal",
            "min": 0,
            "description_tooltip": null,
            "_model_module": "@jupyter-widgets/controls",
            "layout": "IPY_MODEL_17978a3e0f984635b5b4e1caddbe069b"
          }
        },
        "5fcf8f7804724f7b99b5d6bc7ef44d50": {
          "model_module": "@jupyter-widgets/controls",
          "model_name": "HTMLModel",
          "state": {
            "_view_name": "HTMLView",
            "style": "IPY_MODEL_b0105a3e26544c20b0a7f0a77a802543",
            "_dom_classes": [],
            "description": "",
            "_model_name": "HTMLModel",
            "placeholder": "​",
            "_view_module": "@jupyter-widgets/controls",
            "_model_module_version": "1.5.0",
            "value": " 1000/1000 [00:03&lt;00:00, 317.22it/s]",
            "_view_count": null,
            "_view_module_version": "1.5.0",
            "description_tooltip": null,
            "_model_module": "@jupyter-widgets/controls",
            "layout": "IPY_MODEL_f16d552b164c4a6b8657d32cf3126f1d"
          }
        },
        "c1be1eda30844dbdb1cca4cf60e73dab": {
          "model_module": "@jupyter-widgets/controls",
          "model_name": "ProgressStyleModel",
          "state": {
            "_view_name": "StyleView",
            "_model_name": "ProgressStyleModel",
            "description_width": "initial",
            "_view_module": "@jupyter-widgets/base",
            "_model_module_version": "1.5.0",
            "_view_count": null,
            "_view_module_version": "1.2.0",
            "bar_color": null,
            "_model_module": "@jupyter-widgets/controls"
          }
        },
        "17978a3e0f984635b5b4e1caddbe069b": {
          "model_module": "@jupyter-widgets/base",
          "model_name": "LayoutModel",
          "state": {
            "_view_name": "LayoutView",
            "grid_template_rows": null,
            "right": null,
            "justify_content": null,
            "_view_module": "@jupyter-widgets/base",
            "overflow": null,
            "_model_module_version": "1.2.0",
            "_view_count": null,
            "flex_flow": null,
            "width": null,
            "min_width": null,
            "border": null,
            "align_items": null,
            "bottom": null,
            "_model_module": "@jupyter-widgets/base",
            "top": null,
            "grid_column": null,
            "overflow_y": null,
            "overflow_x": null,
            "grid_auto_flow": null,
            "grid_area": null,
            "grid_template_columns": null,
            "flex": null,
            "_model_name": "LayoutModel",
            "justify_items": null,
            "grid_row": null,
            "max_height": null,
            "align_content": null,
            "visibility": null,
            "align_self": null,
            "height": null,
            "min_height": null,
            "padding": null,
            "grid_auto_rows": null,
            "grid_gap": null,
            "max_width": null,
            "order": null,
            "_view_module_version": "1.2.0",
            "grid_template_areas": null,
            "object_position": null,
            "object_fit": null,
            "grid_auto_columns": null,
            "margin": null,
            "display": null,
            "left": null
          }
        },
        "b0105a3e26544c20b0a7f0a77a802543": {
          "model_module": "@jupyter-widgets/controls",
          "model_name": "DescriptionStyleModel",
          "state": {
            "_view_name": "StyleView",
            "_model_name": "DescriptionStyleModel",
            "description_width": "",
            "_view_module": "@jupyter-widgets/base",
            "_model_module_version": "1.5.0",
            "_view_count": null,
            "_view_module_version": "1.2.0",
            "_model_module": "@jupyter-widgets/controls"
          }
        },
        "f16d552b164c4a6b8657d32cf3126f1d": {
          "model_module": "@jupyter-widgets/base",
          "model_name": "LayoutModel",
          "state": {
            "_view_name": "LayoutView",
            "grid_template_rows": null,
            "right": null,
            "justify_content": null,
            "_view_module": "@jupyter-widgets/base",
            "overflow": null,
            "_model_module_version": "1.2.0",
            "_view_count": null,
            "flex_flow": null,
            "width": null,
            "min_width": null,
            "border": null,
            "align_items": null,
            "bottom": null,
            "_model_module": "@jupyter-widgets/base",
            "top": null,
            "grid_column": null,
            "overflow_y": null,
            "overflow_x": null,
            "grid_auto_flow": null,
            "grid_area": null,
            "grid_template_columns": null,
            "flex": null,
            "_model_name": "LayoutModel",
            "justify_items": null,
            "grid_row": null,
            "max_height": null,
            "align_content": null,
            "visibility": null,
            "align_self": null,
            "height": null,
            "min_height": null,
            "padding": null,
            "grid_auto_rows": null,
            "grid_gap": null,
            "max_width": null,
            "order": null,
            "_view_module_version": "1.2.0",
            "grid_template_areas": null,
            "object_position": null,
            "object_fit": null,
            "grid_auto_columns": null,
            "margin": null,
            "display": null,
            "left": null
          }
        },
        "1726cdf2351242feb88906442a59ed23": {
          "model_module": "@jupyter-widgets/controls",
          "model_name": "HBoxModel",
          "state": {
            "_view_name": "HBoxView",
            "_dom_classes": [],
            "_model_name": "HBoxModel",
            "_view_module": "@jupyter-widgets/controls",
            "_model_module_version": "1.5.0",
            "_view_count": null,
            "_view_module_version": "1.5.0",
            "box_style": "",
            "layout": "IPY_MODEL_1be556a771f2421abe2df75d78f9c4c4",
            "_model_module": "@jupyter-widgets/controls",
            "children": [
              "IPY_MODEL_6b63c3174b09414d8f70f8d185c97046",
              "IPY_MODEL_4f35789fad1d49c0addec21ceda2358b"
            ]
          }
        },
        "1be556a771f2421abe2df75d78f9c4c4": {
          "model_module": "@jupyter-widgets/base",
          "model_name": "LayoutModel",
          "state": {
            "_view_name": "LayoutView",
            "grid_template_rows": null,
            "right": null,
            "justify_content": null,
            "_view_module": "@jupyter-widgets/base",
            "overflow": null,
            "_model_module_version": "1.2.0",
            "_view_count": null,
            "flex_flow": null,
            "width": null,
            "min_width": null,
            "border": null,
            "align_items": null,
            "bottom": null,
            "_model_module": "@jupyter-widgets/base",
            "top": null,
            "grid_column": null,
            "overflow_y": null,
            "overflow_x": null,
            "grid_auto_flow": null,
            "grid_area": null,
            "grid_template_columns": null,
            "flex": null,
            "_model_name": "LayoutModel",
            "justify_items": null,
            "grid_row": null,
            "max_height": null,
            "align_content": null,
            "visibility": null,
            "align_self": null,
            "height": null,
            "min_height": null,
            "padding": null,
            "grid_auto_rows": null,
            "grid_gap": null,
            "max_width": null,
            "order": null,
            "_view_module_version": "1.2.0",
            "grid_template_areas": null,
            "object_position": null,
            "object_fit": null,
            "grid_auto_columns": null,
            "margin": null,
            "display": null,
            "left": null
          }
        },
        "6b63c3174b09414d8f70f8d185c97046": {
          "model_module": "@jupyter-widgets/controls",
          "model_name": "FloatProgressModel",
          "state": {
            "_view_name": "ProgressView",
            "style": "IPY_MODEL_2f812aa54c4e42f297b9dc5f28a1e86a",
            "_dom_classes": [],
            "description": "100%",
            "_model_name": "FloatProgressModel",
            "bar_style": "",
            "max": 1000,
            "_view_module": "@jupyter-widgets/controls",
            "_model_module_version": "1.5.0",
            "value": 1000,
            "_view_count": null,
            "_view_module_version": "1.5.0",
            "orientation": "horizontal",
            "min": 0,
            "description_tooltip": null,
            "_model_module": "@jupyter-widgets/controls",
            "layout": "IPY_MODEL_ad24c43f008c412f8488b1309f8ef1c5"
          }
        },
        "4f35789fad1d49c0addec21ceda2358b": {
          "model_module": "@jupyter-widgets/controls",
          "model_name": "HTMLModel",
          "state": {
            "_view_name": "HTMLView",
            "style": "IPY_MODEL_7b04cc44c7034038ab2bb8641b344d8e",
            "_dom_classes": [],
            "description": "",
            "_model_name": "HTMLModel",
            "placeholder": "​",
            "_view_module": "@jupyter-widgets/controls",
            "_model_module_version": "1.5.0",
            "value": " 1000/1000 [00:03&lt;00:00, 288.97it/s]",
            "_view_count": null,
            "_view_module_version": "1.5.0",
            "description_tooltip": null,
            "_model_module": "@jupyter-widgets/controls",
            "layout": "IPY_MODEL_dbeb6cf4f7484b4ea98bf0b7f27f50b7"
          }
        },
        "2f812aa54c4e42f297b9dc5f28a1e86a": {
          "model_module": "@jupyter-widgets/controls",
          "model_name": "ProgressStyleModel",
          "state": {
            "_view_name": "StyleView",
            "_model_name": "ProgressStyleModel",
            "description_width": "initial",
            "_view_module": "@jupyter-widgets/base",
            "_model_module_version": "1.5.0",
            "_view_count": null,
            "_view_module_version": "1.2.0",
            "bar_color": null,
            "_model_module": "@jupyter-widgets/controls"
          }
        },
        "ad24c43f008c412f8488b1309f8ef1c5": {
          "model_module": "@jupyter-widgets/base",
          "model_name": "LayoutModel",
          "state": {
            "_view_name": "LayoutView",
            "grid_template_rows": null,
            "right": null,
            "justify_content": null,
            "_view_module": "@jupyter-widgets/base",
            "overflow": null,
            "_model_module_version": "1.2.0",
            "_view_count": null,
            "flex_flow": null,
            "width": null,
            "min_width": null,
            "border": null,
            "align_items": null,
            "bottom": null,
            "_model_module": "@jupyter-widgets/base",
            "top": null,
            "grid_column": null,
            "overflow_y": null,
            "overflow_x": null,
            "grid_auto_flow": null,
            "grid_area": null,
            "grid_template_columns": null,
            "flex": null,
            "_model_name": "LayoutModel",
            "justify_items": null,
            "grid_row": null,
            "max_height": null,
            "align_content": null,
            "visibility": null,
            "align_self": null,
            "height": null,
            "min_height": null,
            "padding": null,
            "grid_auto_rows": null,
            "grid_gap": null,
            "max_width": null,
            "order": null,
            "_view_module_version": "1.2.0",
            "grid_template_areas": null,
            "object_position": null,
            "object_fit": null,
            "grid_auto_columns": null,
            "margin": null,
            "display": null,
            "left": null
          }
        },
        "7b04cc44c7034038ab2bb8641b344d8e": {
          "model_module": "@jupyter-widgets/controls",
          "model_name": "DescriptionStyleModel",
          "state": {
            "_view_name": "StyleView",
            "_model_name": "DescriptionStyleModel",
            "description_width": "",
            "_view_module": "@jupyter-widgets/base",
            "_model_module_version": "1.5.0",
            "_view_count": null,
            "_view_module_version": "1.2.0",
            "_model_module": "@jupyter-widgets/controls"
          }
        },
        "dbeb6cf4f7484b4ea98bf0b7f27f50b7": {
          "model_module": "@jupyter-widgets/base",
          "model_name": "LayoutModel",
          "state": {
            "_view_name": "LayoutView",
            "grid_template_rows": null,
            "right": null,
            "justify_content": null,
            "_view_module": "@jupyter-widgets/base",
            "overflow": null,
            "_model_module_version": "1.2.0",
            "_view_count": null,
            "flex_flow": null,
            "width": null,
            "min_width": null,
            "border": null,
            "align_items": null,
            "bottom": null,
            "_model_module": "@jupyter-widgets/base",
            "top": null,
            "grid_column": null,
            "overflow_y": null,
            "overflow_x": null,
            "grid_auto_flow": null,
            "grid_area": null,
            "grid_template_columns": null,
            "flex": null,
            "_model_name": "LayoutModel",
            "justify_items": null,
            "grid_row": null,
            "max_height": null,
            "align_content": null,
            "visibility": null,
            "align_self": null,
            "height": null,
            "min_height": null,
            "padding": null,
            "grid_auto_rows": null,
            "grid_gap": null,
            "max_width": null,
            "order": null,
            "_view_module_version": "1.2.0",
            "grid_template_areas": null,
            "object_position": null,
            "object_fit": null,
            "grid_auto_columns": null,
            "margin": null,
            "display": null,
            "left": null
          }
        },
        "201d5a45ffc34a12a099c21412867c56": {
          "model_module": "@jupyter-widgets/controls",
          "model_name": "HBoxModel",
          "state": {
            "_view_name": "HBoxView",
            "_dom_classes": [],
            "_model_name": "HBoxModel",
            "_view_module": "@jupyter-widgets/controls",
            "_model_module_version": "1.5.0",
            "_view_count": null,
            "_view_module_version": "1.5.0",
            "box_style": "",
            "layout": "IPY_MODEL_e9f3f38df61b4eb48f36228d1e98a7d5",
            "_model_module": "@jupyter-widgets/controls",
            "children": [
              "IPY_MODEL_364bbaa7d0704f20899cc8034c5442f7",
              "IPY_MODEL_929dbba45c4e46beb7eb0a0b202222c6"
            ]
          }
        },
        "e9f3f38df61b4eb48f36228d1e98a7d5": {
          "model_module": "@jupyter-widgets/base",
          "model_name": "LayoutModel",
          "state": {
            "_view_name": "LayoutView",
            "grid_template_rows": null,
            "right": null,
            "justify_content": null,
            "_view_module": "@jupyter-widgets/base",
            "overflow": null,
            "_model_module_version": "1.2.0",
            "_view_count": null,
            "flex_flow": null,
            "width": null,
            "min_width": null,
            "border": null,
            "align_items": null,
            "bottom": null,
            "_model_module": "@jupyter-widgets/base",
            "top": null,
            "grid_column": null,
            "overflow_y": null,
            "overflow_x": null,
            "grid_auto_flow": null,
            "grid_area": null,
            "grid_template_columns": null,
            "flex": null,
            "_model_name": "LayoutModel",
            "justify_items": null,
            "grid_row": null,
            "max_height": null,
            "align_content": null,
            "visibility": null,
            "align_self": null,
            "height": null,
            "min_height": null,
            "padding": null,
            "grid_auto_rows": null,
            "grid_gap": null,
            "max_width": null,
            "order": null,
            "_view_module_version": "1.2.0",
            "grid_template_areas": null,
            "object_position": null,
            "object_fit": null,
            "grid_auto_columns": null,
            "margin": null,
            "display": null,
            "left": null
          }
        },
        "364bbaa7d0704f20899cc8034c5442f7": {
          "model_module": "@jupyter-widgets/controls",
          "model_name": "FloatProgressModel",
          "state": {
            "_view_name": "ProgressView",
            "style": "IPY_MODEL_659d6ec60e83489b9f0961d86666d5dd",
            "_dom_classes": [],
            "description": "100%",
            "_model_name": "FloatProgressModel",
            "bar_style": "",
            "max": 1000,
            "_view_module": "@jupyter-widgets/controls",
            "_model_module_version": "1.5.0",
            "value": 1000,
            "_view_count": null,
            "_view_module_version": "1.5.0",
            "orientation": "horizontal",
            "min": 0,
            "description_tooltip": null,
            "_model_module": "@jupyter-widgets/controls",
            "layout": "IPY_MODEL_227badebaf4a4a58a5d0f8ad70160bfa"
          }
        },
        "929dbba45c4e46beb7eb0a0b202222c6": {
          "model_module": "@jupyter-widgets/controls",
          "model_name": "HTMLModel",
          "state": {
            "_view_name": "HTMLView",
            "style": "IPY_MODEL_efce87faedad4866aab46a15a5ec6547",
            "_dom_classes": [],
            "description": "",
            "_model_name": "HTMLModel",
            "placeholder": "​",
            "_view_module": "@jupyter-widgets/controls",
            "_model_module_version": "1.5.0",
            "value": " 1000/1000 [00:03&lt;00:00, 311.98it/s]",
            "_view_count": null,
            "_view_module_version": "1.5.0",
            "description_tooltip": null,
            "_model_module": "@jupyter-widgets/controls",
            "layout": "IPY_MODEL_2f757c238c0844f7b6518385bc2ce427"
          }
        },
        "659d6ec60e83489b9f0961d86666d5dd": {
          "model_module": "@jupyter-widgets/controls",
          "model_name": "ProgressStyleModel",
          "state": {
            "_view_name": "StyleView",
            "_model_name": "ProgressStyleModel",
            "description_width": "initial",
            "_view_module": "@jupyter-widgets/base",
            "_model_module_version": "1.5.0",
            "_view_count": null,
            "_view_module_version": "1.2.0",
            "bar_color": null,
            "_model_module": "@jupyter-widgets/controls"
          }
        },
        "227badebaf4a4a58a5d0f8ad70160bfa": {
          "model_module": "@jupyter-widgets/base",
          "model_name": "LayoutModel",
          "state": {
            "_view_name": "LayoutView",
            "grid_template_rows": null,
            "right": null,
            "justify_content": null,
            "_view_module": "@jupyter-widgets/base",
            "overflow": null,
            "_model_module_version": "1.2.0",
            "_view_count": null,
            "flex_flow": null,
            "width": null,
            "min_width": null,
            "border": null,
            "align_items": null,
            "bottom": null,
            "_model_module": "@jupyter-widgets/base",
            "top": null,
            "grid_column": null,
            "overflow_y": null,
            "overflow_x": null,
            "grid_auto_flow": null,
            "grid_area": null,
            "grid_template_columns": null,
            "flex": null,
            "_model_name": "LayoutModel",
            "justify_items": null,
            "grid_row": null,
            "max_height": null,
            "align_content": null,
            "visibility": null,
            "align_self": null,
            "height": null,
            "min_height": null,
            "padding": null,
            "grid_auto_rows": null,
            "grid_gap": null,
            "max_width": null,
            "order": null,
            "_view_module_version": "1.2.0",
            "grid_template_areas": null,
            "object_position": null,
            "object_fit": null,
            "grid_auto_columns": null,
            "margin": null,
            "display": null,
            "left": null
          }
        },
        "efce87faedad4866aab46a15a5ec6547": {
          "model_module": "@jupyter-widgets/controls",
          "model_name": "DescriptionStyleModel",
          "state": {
            "_view_name": "StyleView",
            "_model_name": "DescriptionStyleModel",
            "description_width": "",
            "_view_module": "@jupyter-widgets/base",
            "_model_module_version": "1.5.0",
            "_view_count": null,
            "_view_module_version": "1.2.0",
            "_model_module": "@jupyter-widgets/controls"
          }
        },
        "2f757c238c0844f7b6518385bc2ce427": {
          "model_module": "@jupyter-widgets/base",
          "model_name": "LayoutModel",
          "state": {
            "_view_name": "LayoutView",
            "grid_template_rows": null,
            "right": null,
            "justify_content": null,
            "_view_module": "@jupyter-widgets/base",
            "overflow": null,
            "_model_module_version": "1.2.0",
            "_view_count": null,
            "flex_flow": null,
            "width": null,
            "min_width": null,
            "border": null,
            "align_items": null,
            "bottom": null,
            "_model_module": "@jupyter-widgets/base",
            "top": null,
            "grid_column": null,
            "overflow_y": null,
            "overflow_x": null,
            "grid_auto_flow": null,
            "grid_area": null,
            "grid_template_columns": null,
            "flex": null,
            "_model_name": "LayoutModel",
            "justify_items": null,
            "grid_row": null,
            "max_height": null,
            "align_content": null,
            "visibility": null,
            "align_self": null,
            "height": null,
            "min_height": null,
            "padding": null,
            "grid_auto_rows": null,
            "grid_gap": null,
            "max_width": null,
            "order": null,
            "_view_module_version": "1.2.0",
            "grid_template_areas": null,
            "object_position": null,
            "object_fit": null,
            "grid_auto_columns": null,
            "margin": null,
            "display": null,
            "left": null
          }
        },
        "345f4646f3024b34a967b25bd959dd88": {
          "model_module": "@jupyter-widgets/controls",
          "model_name": "HBoxModel",
          "state": {
            "_view_name": "HBoxView",
            "_dom_classes": [],
            "_model_name": "HBoxModel",
            "_view_module": "@jupyter-widgets/controls",
            "_model_module_version": "1.5.0",
            "_view_count": null,
            "_view_module_version": "1.5.0",
            "box_style": "",
            "layout": "IPY_MODEL_b1b39dfafe424e77bf29444855d4b15d",
            "_model_module": "@jupyter-widgets/controls",
            "children": [
              "IPY_MODEL_af536c2d40ba469289e4aa07fe6afb72",
              "IPY_MODEL_5524745c3e364eb3a566db44c6044b92"
            ]
          }
        },
        "b1b39dfafe424e77bf29444855d4b15d": {
          "model_module": "@jupyter-widgets/base",
          "model_name": "LayoutModel",
          "state": {
            "_view_name": "LayoutView",
            "grid_template_rows": null,
            "right": null,
            "justify_content": null,
            "_view_module": "@jupyter-widgets/base",
            "overflow": null,
            "_model_module_version": "1.2.0",
            "_view_count": null,
            "flex_flow": null,
            "width": null,
            "min_width": null,
            "border": null,
            "align_items": null,
            "bottom": null,
            "_model_module": "@jupyter-widgets/base",
            "top": null,
            "grid_column": null,
            "overflow_y": null,
            "overflow_x": null,
            "grid_auto_flow": null,
            "grid_area": null,
            "grid_template_columns": null,
            "flex": null,
            "_model_name": "LayoutModel",
            "justify_items": null,
            "grid_row": null,
            "max_height": null,
            "align_content": null,
            "visibility": null,
            "align_self": null,
            "height": null,
            "min_height": null,
            "padding": null,
            "grid_auto_rows": null,
            "grid_gap": null,
            "max_width": null,
            "order": null,
            "_view_module_version": "1.2.0",
            "grid_template_areas": null,
            "object_position": null,
            "object_fit": null,
            "grid_auto_columns": null,
            "margin": null,
            "display": null,
            "left": null
          }
        },
        "af536c2d40ba469289e4aa07fe6afb72": {
          "model_module": "@jupyter-widgets/controls",
          "model_name": "FloatProgressModel",
          "state": {
            "_view_name": "ProgressView",
            "style": "IPY_MODEL_711fbae4c4794d0c8ed9423bfebcb0be",
            "_dom_classes": [],
            "description": "100%",
            "_model_name": "FloatProgressModel",
            "bar_style": "",
            "max": 1000,
            "_view_module": "@jupyter-widgets/controls",
            "_model_module_version": "1.5.0",
            "value": 1000,
            "_view_count": null,
            "_view_module_version": "1.5.0",
            "orientation": "horizontal",
            "min": 0,
            "description_tooltip": null,
            "_model_module": "@jupyter-widgets/controls",
            "layout": "IPY_MODEL_ac94facee0b94c8299febd790e15896a"
          }
        },
        "5524745c3e364eb3a566db44c6044b92": {
          "model_module": "@jupyter-widgets/controls",
          "model_name": "HTMLModel",
          "state": {
            "_view_name": "HTMLView",
            "style": "IPY_MODEL_d22e6cd642f049cf902cea889427f193",
            "_dom_classes": [],
            "description": "",
            "_model_name": "HTMLModel",
            "placeholder": "​",
            "_view_module": "@jupyter-widgets/controls",
            "_model_module_version": "1.5.0",
            "value": " 1000/1000 [00:03&lt;00:00, 329.84it/s]",
            "_view_count": null,
            "_view_module_version": "1.5.0",
            "description_tooltip": null,
            "_model_module": "@jupyter-widgets/controls",
            "layout": "IPY_MODEL_ceebe1c0cfc54ca39354e0720b117f8e"
          }
        },
        "711fbae4c4794d0c8ed9423bfebcb0be": {
          "model_module": "@jupyter-widgets/controls",
          "model_name": "ProgressStyleModel",
          "state": {
            "_view_name": "StyleView",
            "_model_name": "ProgressStyleModel",
            "description_width": "initial",
            "_view_module": "@jupyter-widgets/base",
            "_model_module_version": "1.5.0",
            "_view_count": null,
            "_view_module_version": "1.2.0",
            "bar_color": null,
            "_model_module": "@jupyter-widgets/controls"
          }
        },
        "ac94facee0b94c8299febd790e15896a": {
          "model_module": "@jupyter-widgets/base",
          "model_name": "LayoutModel",
          "state": {
            "_view_name": "LayoutView",
            "grid_template_rows": null,
            "right": null,
            "justify_content": null,
            "_view_module": "@jupyter-widgets/base",
            "overflow": null,
            "_model_module_version": "1.2.0",
            "_view_count": null,
            "flex_flow": null,
            "width": null,
            "min_width": null,
            "border": null,
            "align_items": null,
            "bottom": null,
            "_model_module": "@jupyter-widgets/base",
            "top": null,
            "grid_column": null,
            "overflow_y": null,
            "overflow_x": null,
            "grid_auto_flow": null,
            "grid_area": null,
            "grid_template_columns": null,
            "flex": null,
            "_model_name": "LayoutModel",
            "justify_items": null,
            "grid_row": null,
            "max_height": null,
            "align_content": null,
            "visibility": null,
            "align_self": null,
            "height": null,
            "min_height": null,
            "padding": null,
            "grid_auto_rows": null,
            "grid_gap": null,
            "max_width": null,
            "order": null,
            "_view_module_version": "1.2.0",
            "grid_template_areas": null,
            "object_position": null,
            "object_fit": null,
            "grid_auto_columns": null,
            "margin": null,
            "display": null,
            "left": null
          }
        },
        "d22e6cd642f049cf902cea889427f193": {
          "model_module": "@jupyter-widgets/controls",
          "model_name": "DescriptionStyleModel",
          "state": {
            "_view_name": "StyleView",
            "_model_name": "DescriptionStyleModel",
            "description_width": "",
            "_view_module": "@jupyter-widgets/base",
            "_model_module_version": "1.5.0",
            "_view_count": null,
            "_view_module_version": "1.2.0",
            "_model_module": "@jupyter-widgets/controls"
          }
        },
        "ceebe1c0cfc54ca39354e0720b117f8e": {
          "model_module": "@jupyter-widgets/base",
          "model_name": "LayoutModel",
          "state": {
            "_view_name": "LayoutView",
            "grid_template_rows": null,
            "right": null,
            "justify_content": null,
            "_view_module": "@jupyter-widgets/base",
            "overflow": null,
            "_model_module_version": "1.2.0",
            "_view_count": null,
            "flex_flow": null,
            "width": null,
            "min_width": null,
            "border": null,
            "align_items": null,
            "bottom": null,
            "_model_module": "@jupyter-widgets/base",
            "top": null,
            "grid_column": null,
            "overflow_y": null,
            "overflow_x": null,
            "grid_auto_flow": null,
            "grid_area": null,
            "grid_template_columns": null,
            "flex": null,
            "_model_name": "LayoutModel",
            "justify_items": null,
            "grid_row": null,
            "max_height": null,
            "align_content": null,
            "visibility": null,
            "align_self": null,
            "height": null,
            "min_height": null,
            "padding": null,
            "grid_auto_rows": null,
            "grid_gap": null,
            "max_width": null,
            "order": null,
            "_view_module_version": "1.2.0",
            "grid_template_areas": null,
            "object_position": null,
            "object_fit": null,
            "grid_auto_columns": null,
            "margin": null,
            "display": null,
            "left": null
          }
        },
        "03b13338c92b4ecc8f771206d36fa7cd": {
          "model_module": "@jupyter-widgets/controls",
          "model_name": "HBoxModel",
          "state": {
            "_view_name": "HBoxView",
            "_dom_classes": [],
            "_model_name": "HBoxModel",
            "_view_module": "@jupyter-widgets/controls",
            "_model_module_version": "1.5.0",
            "_view_count": null,
            "_view_module_version": "1.5.0",
            "box_style": "",
            "layout": "IPY_MODEL_6faf93c18f584b91ac414ab32d06b836",
            "_model_module": "@jupyter-widgets/controls",
            "children": [
              "IPY_MODEL_5194a93adeb04e8297d9fd0aeaabb562",
              "IPY_MODEL_c78c2c9a4cae4ffb93cc7c76db7d735d"
            ]
          }
        },
        "6faf93c18f584b91ac414ab32d06b836": {
          "model_module": "@jupyter-widgets/base",
          "model_name": "LayoutModel",
          "state": {
            "_view_name": "LayoutView",
            "grid_template_rows": null,
            "right": null,
            "justify_content": null,
            "_view_module": "@jupyter-widgets/base",
            "overflow": null,
            "_model_module_version": "1.2.0",
            "_view_count": null,
            "flex_flow": null,
            "width": null,
            "min_width": null,
            "border": null,
            "align_items": null,
            "bottom": null,
            "_model_module": "@jupyter-widgets/base",
            "top": null,
            "grid_column": null,
            "overflow_y": null,
            "overflow_x": null,
            "grid_auto_flow": null,
            "grid_area": null,
            "grid_template_columns": null,
            "flex": null,
            "_model_name": "LayoutModel",
            "justify_items": null,
            "grid_row": null,
            "max_height": null,
            "align_content": null,
            "visibility": null,
            "align_self": null,
            "height": null,
            "min_height": null,
            "padding": null,
            "grid_auto_rows": null,
            "grid_gap": null,
            "max_width": null,
            "order": null,
            "_view_module_version": "1.2.0",
            "grid_template_areas": null,
            "object_position": null,
            "object_fit": null,
            "grid_auto_columns": null,
            "margin": null,
            "display": null,
            "left": null
          }
        },
        "5194a93adeb04e8297d9fd0aeaabb562": {
          "model_module": "@jupyter-widgets/controls",
          "model_name": "FloatProgressModel",
          "state": {
            "_view_name": "ProgressView",
            "style": "IPY_MODEL_201520fa36584fc9bc186199d84493d8",
            "_dom_classes": [],
            "description": "100%",
            "_model_name": "FloatProgressModel",
            "bar_style": "",
            "max": 1000,
            "_view_module": "@jupyter-widgets/controls",
            "_model_module_version": "1.5.0",
            "value": 1000,
            "_view_count": null,
            "_view_module_version": "1.5.0",
            "orientation": "horizontal",
            "min": 0,
            "description_tooltip": null,
            "_model_module": "@jupyter-widgets/controls",
            "layout": "IPY_MODEL_b68ce6c2da7a4892b893bb6c5f7a2c93"
          }
        },
        "c78c2c9a4cae4ffb93cc7c76db7d735d": {
          "model_module": "@jupyter-widgets/controls",
          "model_name": "HTMLModel",
          "state": {
            "_view_name": "HTMLView",
            "style": "IPY_MODEL_1451ebf7162347278c4a90155e4b0e37",
            "_dom_classes": [],
            "description": "",
            "_model_name": "HTMLModel",
            "placeholder": "​",
            "_view_module": "@jupyter-widgets/controls",
            "_model_module_version": "1.5.0",
            "value": " 1000/1000 [00:03&lt;00:00, 306.09it/s]",
            "_view_count": null,
            "_view_module_version": "1.5.0",
            "description_tooltip": null,
            "_model_module": "@jupyter-widgets/controls",
            "layout": "IPY_MODEL_6d72b20d274b4ee1892ebc8792fd5bdf"
          }
        },
        "201520fa36584fc9bc186199d84493d8": {
          "model_module": "@jupyter-widgets/controls",
          "model_name": "ProgressStyleModel",
          "state": {
            "_view_name": "StyleView",
            "_model_name": "ProgressStyleModel",
            "description_width": "initial",
            "_view_module": "@jupyter-widgets/base",
            "_model_module_version": "1.5.0",
            "_view_count": null,
            "_view_module_version": "1.2.0",
            "bar_color": null,
            "_model_module": "@jupyter-widgets/controls"
          }
        },
        "b68ce6c2da7a4892b893bb6c5f7a2c93": {
          "model_module": "@jupyter-widgets/base",
          "model_name": "LayoutModel",
          "state": {
            "_view_name": "LayoutView",
            "grid_template_rows": null,
            "right": null,
            "justify_content": null,
            "_view_module": "@jupyter-widgets/base",
            "overflow": null,
            "_model_module_version": "1.2.0",
            "_view_count": null,
            "flex_flow": null,
            "width": null,
            "min_width": null,
            "border": null,
            "align_items": null,
            "bottom": null,
            "_model_module": "@jupyter-widgets/base",
            "top": null,
            "grid_column": null,
            "overflow_y": null,
            "overflow_x": null,
            "grid_auto_flow": null,
            "grid_area": null,
            "grid_template_columns": null,
            "flex": null,
            "_model_name": "LayoutModel",
            "justify_items": null,
            "grid_row": null,
            "max_height": null,
            "align_content": null,
            "visibility": null,
            "align_self": null,
            "height": null,
            "min_height": null,
            "padding": null,
            "grid_auto_rows": null,
            "grid_gap": null,
            "max_width": null,
            "order": null,
            "_view_module_version": "1.2.0",
            "grid_template_areas": null,
            "object_position": null,
            "object_fit": null,
            "grid_auto_columns": null,
            "margin": null,
            "display": null,
            "left": null
          }
        },
        "1451ebf7162347278c4a90155e4b0e37": {
          "model_module": "@jupyter-widgets/controls",
          "model_name": "DescriptionStyleModel",
          "state": {
            "_view_name": "StyleView",
            "_model_name": "DescriptionStyleModel",
            "description_width": "",
            "_view_module": "@jupyter-widgets/base",
            "_model_module_version": "1.5.0",
            "_view_count": null,
            "_view_module_version": "1.2.0",
            "_model_module": "@jupyter-widgets/controls"
          }
        },
        "6d72b20d274b4ee1892ebc8792fd5bdf": {
          "model_module": "@jupyter-widgets/base",
          "model_name": "LayoutModel",
          "state": {
            "_view_name": "LayoutView",
            "grid_template_rows": null,
            "right": null,
            "justify_content": null,
            "_view_module": "@jupyter-widgets/base",
            "overflow": null,
            "_model_module_version": "1.2.0",
            "_view_count": null,
            "flex_flow": null,
            "width": null,
            "min_width": null,
            "border": null,
            "align_items": null,
            "bottom": null,
            "_model_module": "@jupyter-widgets/base",
            "top": null,
            "grid_column": null,
            "overflow_y": null,
            "overflow_x": null,
            "grid_auto_flow": null,
            "grid_area": null,
            "grid_template_columns": null,
            "flex": null,
            "_model_name": "LayoutModel",
            "justify_items": null,
            "grid_row": null,
            "max_height": null,
            "align_content": null,
            "visibility": null,
            "align_self": null,
            "height": null,
            "min_height": null,
            "padding": null,
            "grid_auto_rows": null,
            "grid_gap": null,
            "max_width": null,
            "order": null,
            "_view_module_version": "1.2.0",
            "grid_template_areas": null,
            "object_position": null,
            "object_fit": null,
            "grid_auto_columns": null,
            "margin": null,
            "display": null,
            "left": null
          }
        },
        "15d63443108f4df19022739e2aa14ade": {
          "model_module": "@jupyter-widgets/controls",
          "model_name": "HBoxModel",
          "state": {
            "_view_name": "HBoxView",
            "_dom_classes": [],
            "_model_name": "HBoxModel",
            "_view_module": "@jupyter-widgets/controls",
            "_model_module_version": "1.5.0",
            "_view_count": null,
            "_view_module_version": "1.5.0",
            "box_style": "",
            "layout": "IPY_MODEL_3d2b35386a5a4113ad7835927b8a2abb",
            "_model_module": "@jupyter-widgets/controls",
            "children": [
              "IPY_MODEL_e5aae145c7ce435aa97d640e64779263",
              "IPY_MODEL_851d7601d20a4a7cb1dbe6bc3170df55"
            ]
          }
        },
        "3d2b35386a5a4113ad7835927b8a2abb": {
          "model_module": "@jupyter-widgets/base",
          "model_name": "LayoutModel",
          "state": {
            "_view_name": "LayoutView",
            "grid_template_rows": null,
            "right": null,
            "justify_content": null,
            "_view_module": "@jupyter-widgets/base",
            "overflow": null,
            "_model_module_version": "1.2.0",
            "_view_count": null,
            "flex_flow": null,
            "width": null,
            "min_width": null,
            "border": null,
            "align_items": null,
            "bottom": null,
            "_model_module": "@jupyter-widgets/base",
            "top": null,
            "grid_column": null,
            "overflow_y": null,
            "overflow_x": null,
            "grid_auto_flow": null,
            "grid_area": null,
            "grid_template_columns": null,
            "flex": null,
            "_model_name": "LayoutModel",
            "justify_items": null,
            "grid_row": null,
            "max_height": null,
            "align_content": null,
            "visibility": null,
            "align_self": null,
            "height": null,
            "min_height": null,
            "padding": null,
            "grid_auto_rows": null,
            "grid_gap": null,
            "max_width": null,
            "order": null,
            "_view_module_version": "1.2.0",
            "grid_template_areas": null,
            "object_position": null,
            "object_fit": null,
            "grid_auto_columns": null,
            "margin": null,
            "display": null,
            "left": null
          }
        },
        "e5aae145c7ce435aa97d640e64779263": {
          "model_module": "@jupyter-widgets/controls",
          "model_name": "FloatProgressModel",
          "state": {
            "_view_name": "ProgressView",
            "style": "IPY_MODEL_2ca92b82734741599c5727d11533137b",
            "_dom_classes": [],
            "description": "100%",
            "_model_name": "FloatProgressModel",
            "bar_style": "",
            "max": 1000,
            "_view_module": "@jupyter-widgets/controls",
            "_model_module_version": "1.5.0",
            "value": 1000,
            "_view_count": null,
            "_view_module_version": "1.5.0",
            "orientation": "horizontal",
            "min": 0,
            "description_tooltip": null,
            "_model_module": "@jupyter-widgets/controls",
            "layout": "IPY_MODEL_9416fb819f114057a94bc027a7dd0f83"
          }
        },
        "851d7601d20a4a7cb1dbe6bc3170df55": {
          "model_module": "@jupyter-widgets/controls",
          "model_name": "HTMLModel",
          "state": {
            "_view_name": "HTMLView",
            "style": "IPY_MODEL_26a7c01c303741428ca027cca8b478cb",
            "_dom_classes": [],
            "description": "",
            "_model_name": "HTMLModel",
            "placeholder": "​",
            "_view_module": "@jupyter-widgets/controls",
            "_model_module_version": "1.5.0",
            "value": " 1000/1000 [00:03&lt;00:00, 342.63it/s]",
            "_view_count": null,
            "_view_module_version": "1.5.0",
            "description_tooltip": null,
            "_model_module": "@jupyter-widgets/controls",
            "layout": "IPY_MODEL_0a9b27068d674fa9ab2e89b0e39de8f7"
          }
        },
        "2ca92b82734741599c5727d11533137b": {
          "model_module": "@jupyter-widgets/controls",
          "model_name": "ProgressStyleModel",
          "state": {
            "_view_name": "StyleView",
            "_model_name": "ProgressStyleModel",
            "description_width": "initial",
            "_view_module": "@jupyter-widgets/base",
            "_model_module_version": "1.5.0",
            "_view_count": null,
            "_view_module_version": "1.2.0",
            "bar_color": null,
            "_model_module": "@jupyter-widgets/controls"
          }
        },
        "9416fb819f114057a94bc027a7dd0f83": {
          "model_module": "@jupyter-widgets/base",
          "model_name": "LayoutModel",
          "state": {
            "_view_name": "LayoutView",
            "grid_template_rows": null,
            "right": null,
            "justify_content": null,
            "_view_module": "@jupyter-widgets/base",
            "overflow": null,
            "_model_module_version": "1.2.0",
            "_view_count": null,
            "flex_flow": null,
            "width": null,
            "min_width": null,
            "border": null,
            "align_items": null,
            "bottom": null,
            "_model_module": "@jupyter-widgets/base",
            "top": null,
            "grid_column": null,
            "overflow_y": null,
            "overflow_x": null,
            "grid_auto_flow": null,
            "grid_area": null,
            "grid_template_columns": null,
            "flex": null,
            "_model_name": "LayoutModel",
            "justify_items": null,
            "grid_row": null,
            "max_height": null,
            "align_content": null,
            "visibility": null,
            "align_self": null,
            "height": null,
            "min_height": null,
            "padding": null,
            "grid_auto_rows": null,
            "grid_gap": null,
            "max_width": null,
            "order": null,
            "_view_module_version": "1.2.0",
            "grid_template_areas": null,
            "object_position": null,
            "object_fit": null,
            "grid_auto_columns": null,
            "margin": null,
            "display": null,
            "left": null
          }
        },
        "26a7c01c303741428ca027cca8b478cb": {
          "model_module": "@jupyter-widgets/controls",
          "model_name": "DescriptionStyleModel",
          "state": {
            "_view_name": "StyleView",
            "_model_name": "DescriptionStyleModel",
            "description_width": "",
            "_view_module": "@jupyter-widgets/base",
            "_model_module_version": "1.5.0",
            "_view_count": null,
            "_view_module_version": "1.2.0",
            "_model_module": "@jupyter-widgets/controls"
          }
        },
        "0a9b27068d674fa9ab2e89b0e39de8f7": {
          "model_module": "@jupyter-widgets/base",
          "model_name": "LayoutModel",
          "state": {
            "_view_name": "LayoutView",
            "grid_template_rows": null,
            "right": null,
            "justify_content": null,
            "_view_module": "@jupyter-widgets/base",
            "overflow": null,
            "_model_module_version": "1.2.0",
            "_view_count": null,
            "flex_flow": null,
            "width": null,
            "min_width": null,
            "border": null,
            "align_items": null,
            "bottom": null,
            "_model_module": "@jupyter-widgets/base",
            "top": null,
            "grid_column": null,
            "overflow_y": null,
            "overflow_x": null,
            "grid_auto_flow": null,
            "grid_area": null,
            "grid_template_columns": null,
            "flex": null,
            "_model_name": "LayoutModel",
            "justify_items": null,
            "grid_row": null,
            "max_height": null,
            "align_content": null,
            "visibility": null,
            "align_self": null,
            "height": null,
            "min_height": null,
            "padding": null,
            "grid_auto_rows": null,
            "grid_gap": null,
            "max_width": null,
            "order": null,
            "_view_module_version": "1.2.0",
            "grid_template_areas": null,
            "object_position": null,
            "object_fit": null,
            "grid_auto_columns": null,
            "margin": null,
            "display": null,
            "left": null
          }
        },
        "dd7caae9152049d2abcf34f732c3474d": {
          "model_module": "@jupyter-widgets/controls",
          "model_name": "HBoxModel",
          "state": {
            "_view_name": "HBoxView",
            "_dom_classes": [],
            "_model_name": "HBoxModel",
            "_view_module": "@jupyter-widgets/controls",
            "_model_module_version": "1.5.0",
            "_view_count": null,
            "_view_module_version": "1.5.0",
            "box_style": "",
            "layout": "IPY_MODEL_a42dd7464b17417fb109798de2637044",
            "_model_module": "@jupyter-widgets/controls",
            "children": [
              "IPY_MODEL_a3f07a9a71854b71943472c10f555c09",
              "IPY_MODEL_7d95c8ed7fca40dc8a818fa701c88679"
            ]
          }
        },
        "a42dd7464b17417fb109798de2637044": {
          "model_module": "@jupyter-widgets/base",
          "model_name": "LayoutModel",
          "state": {
            "_view_name": "LayoutView",
            "grid_template_rows": null,
            "right": null,
            "justify_content": null,
            "_view_module": "@jupyter-widgets/base",
            "overflow": null,
            "_model_module_version": "1.2.0",
            "_view_count": null,
            "flex_flow": null,
            "width": null,
            "min_width": null,
            "border": null,
            "align_items": null,
            "bottom": null,
            "_model_module": "@jupyter-widgets/base",
            "top": null,
            "grid_column": null,
            "overflow_y": null,
            "overflow_x": null,
            "grid_auto_flow": null,
            "grid_area": null,
            "grid_template_columns": null,
            "flex": null,
            "_model_name": "LayoutModel",
            "justify_items": null,
            "grid_row": null,
            "max_height": null,
            "align_content": null,
            "visibility": null,
            "align_self": null,
            "height": null,
            "min_height": null,
            "padding": null,
            "grid_auto_rows": null,
            "grid_gap": null,
            "max_width": null,
            "order": null,
            "_view_module_version": "1.2.0",
            "grid_template_areas": null,
            "object_position": null,
            "object_fit": null,
            "grid_auto_columns": null,
            "margin": null,
            "display": null,
            "left": null
          }
        },
        "a3f07a9a71854b71943472c10f555c09": {
          "model_module": "@jupyter-widgets/controls",
          "model_name": "FloatProgressModel",
          "state": {
            "_view_name": "ProgressView",
            "style": "IPY_MODEL_b1d52f924b91491cab9d0ff777e689d6",
            "_dom_classes": [],
            "description": "100%",
            "_model_name": "FloatProgressModel",
            "bar_style": "",
            "max": 1000,
            "_view_module": "@jupyter-widgets/controls",
            "_model_module_version": "1.5.0",
            "value": 1000,
            "_view_count": null,
            "_view_module_version": "1.5.0",
            "orientation": "horizontal",
            "min": 0,
            "description_tooltip": null,
            "_model_module": "@jupyter-widgets/controls",
            "layout": "IPY_MODEL_aee509357d8d45cb86f73354449ac7ed"
          }
        },
        "7d95c8ed7fca40dc8a818fa701c88679": {
          "model_module": "@jupyter-widgets/controls",
          "model_name": "HTMLModel",
          "state": {
            "_view_name": "HTMLView",
            "style": "IPY_MODEL_7492de94e8a84981a603c21e1cf4cd5b",
            "_dom_classes": [],
            "description": "",
            "_model_name": "HTMLModel",
            "placeholder": "​",
            "_view_module": "@jupyter-widgets/controls",
            "_model_module_version": "1.5.0",
            "value": " 1000/1000 [00:02&lt;00:00, 351.88it/s]",
            "_view_count": null,
            "_view_module_version": "1.5.0",
            "description_tooltip": null,
            "_model_module": "@jupyter-widgets/controls",
            "layout": "IPY_MODEL_a2bb7896c2d14ff3bfe6864e982fd065"
          }
        },
        "b1d52f924b91491cab9d0ff777e689d6": {
          "model_module": "@jupyter-widgets/controls",
          "model_name": "ProgressStyleModel",
          "state": {
            "_view_name": "StyleView",
            "_model_name": "ProgressStyleModel",
            "description_width": "initial",
            "_view_module": "@jupyter-widgets/base",
            "_model_module_version": "1.5.0",
            "_view_count": null,
            "_view_module_version": "1.2.0",
            "bar_color": null,
            "_model_module": "@jupyter-widgets/controls"
          }
        },
        "aee509357d8d45cb86f73354449ac7ed": {
          "model_module": "@jupyter-widgets/base",
          "model_name": "LayoutModel",
          "state": {
            "_view_name": "LayoutView",
            "grid_template_rows": null,
            "right": null,
            "justify_content": null,
            "_view_module": "@jupyter-widgets/base",
            "overflow": null,
            "_model_module_version": "1.2.0",
            "_view_count": null,
            "flex_flow": null,
            "width": null,
            "min_width": null,
            "border": null,
            "align_items": null,
            "bottom": null,
            "_model_module": "@jupyter-widgets/base",
            "top": null,
            "grid_column": null,
            "overflow_y": null,
            "overflow_x": null,
            "grid_auto_flow": null,
            "grid_area": null,
            "grid_template_columns": null,
            "flex": null,
            "_model_name": "LayoutModel",
            "justify_items": null,
            "grid_row": null,
            "max_height": null,
            "align_content": null,
            "visibility": null,
            "align_self": null,
            "height": null,
            "min_height": null,
            "padding": null,
            "grid_auto_rows": null,
            "grid_gap": null,
            "max_width": null,
            "order": null,
            "_view_module_version": "1.2.0",
            "grid_template_areas": null,
            "object_position": null,
            "object_fit": null,
            "grid_auto_columns": null,
            "margin": null,
            "display": null,
            "left": null
          }
        },
        "7492de94e8a84981a603c21e1cf4cd5b": {
          "model_module": "@jupyter-widgets/controls",
          "model_name": "DescriptionStyleModel",
          "state": {
            "_view_name": "StyleView",
            "_model_name": "DescriptionStyleModel",
            "description_width": "",
            "_view_module": "@jupyter-widgets/base",
            "_model_module_version": "1.5.0",
            "_view_count": null,
            "_view_module_version": "1.2.0",
            "_model_module": "@jupyter-widgets/controls"
          }
        },
        "a2bb7896c2d14ff3bfe6864e982fd065": {
          "model_module": "@jupyter-widgets/base",
          "model_name": "LayoutModel",
          "state": {
            "_view_name": "LayoutView",
            "grid_template_rows": null,
            "right": null,
            "justify_content": null,
            "_view_module": "@jupyter-widgets/base",
            "overflow": null,
            "_model_module_version": "1.2.0",
            "_view_count": null,
            "flex_flow": null,
            "width": null,
            "min_width": null,
            "border": null,
            "align_items": null,
            "bottom": null,
            "_model_module": "@jupyter-widgets/base",
            "top": null,
            "grid_column": null,
            "overflow_y": null,
            "overflow_x": null,
            "grid_auto_flow": null,
            "grid_area": null,
            "grid_template_columns": null,
            "flex": null,
            "_model_name": "LayoutModel",
            "justify_items": null,
            "grid_row": null,
            "max_height": null,
            "align_content": null,
            "visibility": null,
            "align_self": null,
            "height": null,
            "min_height": null,
            "padding": null,
            "grid_auto_rows": null,
            "grid_gap": null,
            "max_width": null,
            "order": null,
            "_view_module_version": "1.2.0",
            "grid_template_areas": null,
            "object_position": null,
            "object_fit": null,
            "grid_auto_columns": null,
            "margin": null,
            "display": null,
            "left": null
          }
        },
        "c7075af48c134065a898968569613914": {
          "model_module": "@jupyter-widgets/controls",
          "model_name": "HBoxModel",
          "state": {
            "_view_name": "HBoxView",
            "_dom_classes": [],
            "_model_name": "HBoxModel",
            "_view_module": "@jupyter-widgets/controls",
            "_model_module_version": "1.5.0",
            "_view_count": null,
            "_view_module_version": "1.5.0",
            "box_style": "",
            "layout": "IPY_MODEL_2e732e4062954106bbc87c77c8e93b44",
            "_model_module": "@jupyter-widgets/controls",
            "children": [
              "IPY_MODEL_996e6f4878114c4c82275c3393515115",
              "IPY_MODEL_1deff30d44914a4faf4533b3abdab9b3"
            ]
          }
        },
        "2e732e4062954106bbc87c77c8e93b44": {
          "model_module": "@jupyter-widgets/base",
          "model_name": "LayoutModel",
          "state": {
            "_view_name": "LayoutView",
            "grid_template_rows": null,
            "right": null,
            "justify_content": null,
            "_view_module": "@jupyter-widgets/base",
            "overflow": null,
            "_model_module_version": "1.2.0",
            "_view_count": null,
            "flex_flow": null,
            "width": null,
            "min_width": null,
            "border": null,
            "align_items": null,
            "bottom": null,
            "_model_module": "@jupyter-widgets/base",
            "top": null,
            "grid_column": null,
            "overflow_y": null,
            "overflow_x": null,
            "grid_auto_flow": null,
            "grid_area": null,
            "grid_template_columns": null,
            "flex": null,
            "_model_name": "LayoutModel",
            "justify_items": null,
            "grid_row": null,
            "max_height": null,
            "align_content": null,
            "visibility": null,
            "align_self": null,
            "height": null,
            "min_height": null,
            "padding": null,
            "grid_auto_rows": null,
            "grid_gap": null,
            "max_width": null,
            "order": null,
            "_view_module_version": "1.2.0",
            "grid_template_areas": null,
            "object_position": null,
            "object_fit": null,
            "grid_auto_columns": null,
            "margin": null,
            "display": null,
            "left": null
          }
        },
        "996e6f4878114c4c82275c3393515115": {
          "model_module": "@jupyter-widgets/controls",
          "model_name": "FloatProgressModel",
          "state": {
            "_view_name": "ProgressView",
            "style": "IPY_MODEL_01eeefa89f7a4c6ca20ea509c4a533c7",
            "_dom_classes": [],
            "description": "100%",
            "_model_name": "FloatProgressModel",
            "bar_style": "",
            "max": 1000,
            "_view_module": "@jupyter-widgets/controls",
            "_model_module_version": "1.5.0",
            "value": 1000,
            "_view_count": null,
            "_view_module_version": "1.5.0",
            "orientation": "horizontal",
            "min": 0,
            "description_tooltip": null,
            "_model_module": "@jupyter-widgets/controls",
            "layout": "IPY_MODEL_31b03714dbc34564bffe8dd30147b6f5"
          }
        },
        "1deff30d44914a4faf4533b3abdab9b3": {
          "model_module": "@jupyter-widgets/controls",
          "model_name": "HTMLModel",
          "state": {
            "_view_name": "HTMLView",
            "style": "IPY_MODEL_2e17c9bf9bbc4f4b888cbc402522eaae",
            "_dom_classes": [],
            "description": "",
            "_model_name": "HTMLModel",
            "placeholder": "​",
            "_view_module": "@jupyter-widgets/controls",
            "_model_module_version": "1.5.0",
            "value": " 1000/1000 [00:02&lt;00:00, 389.26it/s]",
            "_view_count": null,
            "_view_module_version": "1.5.0",
            "description_tooltip": null,
            "_model_module": "@jupyter-widgets/controls",
            "layout": "IPY_MODEL_fc823229f98b40de8269a3fb9472fc3e"
          }
        },
        "01eeefa89f7a4c6ca20ea509c4a533c7": {
          "model_module": "@jupyter-widgets/controls",
          "model_name": "ProgressStyleModel",
          "state": {
            "_view_name": "StyleView",
            "_model_name": "ProgressStyleModel",
            "description_width": "initial",
            "_view_module": "@jupyter-widgets/base",
            "_model_module_version": "1.5.0",
            "_view_count": null,
            "_view_module_version": "1.2.0",
            "bar_color": null,
            "_model_module": "@jupyter-widgets/controls"
          }
        },
        "31b03714dbc34564bffe8dd30147b6f5": {
          "model_module": "@jupyter-widgets/base",
          "model_name": "LayoutModel",
          "state": {
            "_view_name": "LayoutView",
            "grid_template_rows": null,
            "right": null,
            "justify_content": null,
            "_view_module": "@jupyter-widgets/base",
            "overflow": null,
            "_model_module_version": "1.2.0",
            "_view_count": null,
            "flex_flow": null,
            "width": null,
            "min_width": null,
            "border": null,
            "align_items": null,
            "bottom": null,
            "_model_module": "@jupyter-widgets/base",
            "top": null,
            "grid_column": null,
            "overflow_y": null,
            "overflow_x": null,
            "grid_auto_flow": null,
            "grid_area": null,
            "grid_template_columns": null,
            "flex": null,
            "_model_name": "LayoutModel",
            "justify_items": null,
            "grid_row": null,
            "max_height": null,
            "align_content": null,
            "visibility": null,
            "align_self": null,
            "height": null,
            "min_height": null,
            "padding": null,
            "grid_auto_rows": null,
            "grid_gap": null,
            "max_width": null,
            "order": null,
            "_view_module_version": "1.2.0",
            "grid_template_areas": null,
            "object_position": null,
            "object_fit": null,
            "grid_auto_columns": null,
            "margin": null,
            "display": null,
            "left": null
          }
        },
        "2e17c9bf9bbc4f4b888cbc402522eaae": {
          "model_module": "@jupyter-widgets/controls",
          "model_name": "DescriptionStyleModel",
          "state": {
            "_view_name": "StyleView",
            "_model_name": "DescriptionStyleModel",
            "description_width": "",
            "_view_module": "@jupyter-widgets/base",
            "_model_module_version": "1.5.0",
            "_view_count": null,
            "_view_module_version": "1.2.0",
            "_model_module": "@jupyter-widgets/controls"
          }
        },
        "fc823229f98b40de8269a3fb9472fc3e": {
          "model_module": "@jupyter-widgets/base",
          "model_name": "LayoutModel",
          "state": {
            "_view_name": "LayoutView",
            "grid_template_rows": null,
            "right": null,
            "justify_content": null,
            "_view_module": "@jupyter-widgets/base",
            "overflow": null,
            "_model_module_version": "1.2.0",
            "_view_count": null,
            "flex_flow": null,
            "width": null,
            "min_width": null,
            "border": null,
            "align_items": null,
            "bottom": null,
            "_model_module": "@jupyter-widgets/base",
            "top": null,
            "grid_column": null,
            "overflow_y": null,
            "overflow_x": null,
            "grid_auto_flow": null,
            "grid_area": null,
            "grid_template_columns": null,
            "flex": null,
            "_model_name": "LayoutModel",
            "justify_items": null,
            "grid_row": null,
            "max_height": null,
            "align_content": null,
            "visibility": null,
            "align_self": null,
            "height": null,
            "min_height": null,
            "padding": null,
            "grid_auto_rows": null,
            "grid_gap": null,
            "max_width": null,
            "order": null,
            "_view_module_version": "1.2.0",
            "grid_template_areas": null,
            "object_position": null,
            "object_fit": null,
            "grid_auto_columns": null,
            "margin": null,
            "display": null,
            "left": null
          }
        }
      }
    }
  },
  "cells": [
    {
      "cell_type": "markdown",
      "metadata": {
        "id": "view-in-github",
        "colab_type": "text"
      },
      "source": [
        "<a href=\"https://colab.research.google.com/github/kalkolab/VorontsovMachineLearningSeminars/blob/master/sem2/main.ipynb\" target=\"_parent\"><img src=\"https://colab.research.google.com/assets/colab-badge.svg\" alt=\"Open In Colab\"/></a>"
      ]
    },
    {
      "cell_type": "markdown",
      "metadata": {
        "id": "fobjEP6fUEER"
      },
      "source": [
        "# Линейные методы классификации и регрессии: метод стохастического градиента"
      ]
    },
    {
      "cell_type": "markdown",
      "metadata": {
        "id": "6v_Ur0mNUEET"
      },
      "source": [
        "## Библиотеки"
      ]
    },
    {
      "cell_type": "code",
      "metadata": {
        "id": "bHXX8Bi-UEEV"
      },
      "source": [
        "import matplotlib.pyplot as plt\n",
        "from matplotlib import gridspec\n",
        "import seaborn as sns\n",
        "import pandas as pd\n",
        "from tqdm.notebook import tqdm\n",
        "\n",
        "from scipy.special import expit\n",
        "import numpy as np\n",
        "import torch\n",
        "\n",
        "from sklearn.linear_model import (LogisticRegression, \n",
        "                                  LinearRegression)\n",
        "from sklearn.model_selection import LeaveOneOut, KFold"
      ],
      "execution_count": 1,
      "outputs": []
    },
    {
      "cell_type": "markdown",
      "metadata": {
        "id": "Q8wCq4wqUEEW"
      },
      "source": [
        "## Разбор домашней задачи"
      ]
    },
    {
      "cell_type": "code",
      "metadata": {
        "id": "HIxRZuyWUEEW"
      },
      "source": [
        "# Генерация данных\n",
        "np.random.seed(0)\n",
        "l = 100\n",
        "n = 2\n",
        "X1 = np.array([[-1,-1]]) + 0.5*np.random.randn(l, n)\n",
        "X2 = np.array([[1,1]]) + 0.5*np.random.randn(l, n)\n",
        "X3 = np.array([[-1,1]]) + 0.5*np.random.randn(l, n)\n",
        "\n",
        "X = np.vstack([X1, X2, X3])\n",
        "y = np.hstack([[0]*l, [1]*l, [2]*l])\n",
        "\n",
        "# Добавляем константу\n",
        "X = np.hstack([X, np.ones([len(X), 1])])"
      ],
      "execution_count": 2,
      "outputs": []
    },
    {
      "cell_type": "code",
      "metadata": {
        "id": "b-UgUIVUUEEX"
      },
      "source": [
        "# обучения моделей\n",
        "models = []\n",
        "model = LogisticRegression(random_state=0, max_iter=2000, fit_intercept=False)\n",
        "_ = model.fit(X, np.array(y==0, dtype=np.int64))\n",
        "models.append(model)\n",
        "\n",
        "model = LogisticRegression(random_state=0, max_iter=2000, fit_intercept=False)\n",
        "_ = model.fit(X, np.array(y==1, dtype=np.int64))\n",
        "models.append(model)\n",
        "\n",
        "model = LogisticRegression(random_state=0, max_iter=2000, fit_intercept=False)\n",
        "_ = model.fit(X, np.array(y==2, dtype=np.int64))\n",
        "models.append(model)"
      ],
      "execution_count": 3,
      "outputs": []
    },
    {
      "cell_type": "code",
      "metadata": {
        "id": "O5MdEO8HUEEY"
      },
      "source": [
        "def get_line(a, b, c=0, x_min=-10, x_max=10):\n",
        "    x1, y1 = -(-models[k].coef_[0][1] + c)/models[k].coef_[0][0], -1\n",
        "    x2, y2 = -(models[k].coef_[0][1] + c)/models[k].coef_[0][0], 1\n",
        "    \n",
        "    polynomial = np.poly1d(np.polyfit([x1, x2], [y1, y2], 1))\n",
        "    x_axis = np.linspace(x_min, x_max)\n",
        "    y_axis = polynomial(x_axis)\n",
        "    \n",
        "    return x_axis, y_axis"
      ],
      "execution_count": 4,
      "outputs": []
    },
    {
      "cell_type": "code",
      "metadata": {
        "id": "jd9SJ9y_UEEZ",
        "colab": {
          "base_uri": "https://localhost:8080/",
          "height": 265
        },
        "outputId": "d54a2f8e-3689-4505-db25-eab6b79b19ab"
      },
      "source": [
        "cols = ['blue', 'red', 'green']\n",
        "fig, gs = plt.figure(figsize=(9,4)), gridspec.GridSpec(1, 2)\n",
        "\n",
        "ax = []\n",
        "for i in range(2):\n",
        "    ax.append(fig.add_subplot(gs[i]))\n",
        "    ax[i].set_xlim((-2.5, 2.5)), ax[i].set_ylim((-2.5, 2.5))\n",
        "\n",
        "for k in np.unique(y):\n",
        "    ax[0].plot(X[y==k,0], X[y==k,1], 'o', \n",
        "               label='класс {}'.format(k), color=cols[k])\n",
        "    ax[1].plot(X[y==k,0], X[y==k,1], 'o', \n",
        "               label='класс {}'.format(k), color=cols[k])\n",
        "\n",
        "for k in np.unique(y):\n",
        "    ax[0].plot(*get_line(*models[k].coef_[0][:2]), linewidth=2, color=cols[k])\n",
        "    ax[1].plot(*get_line(*models[k].coef_[0]), linewidth=2, color=cols[k])\n",
        "\n",
        "ax[0].legend(loc='best'), ax[1].legend(loc='best')\n",
        "plt.show()"
      ],
      "execution_count": 5,
      "outputs": [
        {
          "output_type": "display_data",
          "data": {
            "image/png": "[encoded data removed]",
            "text/plain": [
              "<Figure size 648x288 with 2 Axes>"
            ]
          },
          "metadata": {
            "tags": [],
            "needs_background": "light"
          }
        }
      ]
    },
    {
      "cell_type": "markdown",
      "metadata": {
        "id": "QDKHbv61UEEa"
      },
      "source": [
        "## Оптимизационные задачи"
      ]
    },
    {
      "cell_type": "markdown",
      "metadata": {
        "id": "6H_gqIVuUEEa"
      },
      "source": [
        "### Задача оптимизации\n",
        "На прошлом семинаре обсуждалось, что задачи машинного обучения всегда сводятся к решению некоторой задачи оптимизации:\n",
        "$$\n",
        "\\hat{\\mathbf{w}} = \\arg\\min_{\\mathbf{w} \\in \\mathcal{W}} \\mathcal{L}\\bigr(\\mathbf{w}, \\mathbf{X}, \\mathbf{y}\\bigr).\n",
        "$$\n",
        "\n",
        "Обычно данные задачи оптимизации решают двумя способами:\n",
        "1. Аналитическое решение.\n",
        "2. Стохастический градиентный спуск.\n",
        "\n",
        "Аналитическое решение имеет самый большой недостаток в том, что не для любого $\\mathcal{L}$ оно существует, или может быть выписано аналитически. В стохастического градиентного спуска, есть ряд ограничений, которые нужно удовлетворить, чтобы была сходимость."
      ]
    },
    {
      "cell_type": "markdown",
      "metadata": {
        "id": "blmkWHGFUEEb"
      },
      "source": [
        "### Аналитическое решение для задачи линейной регрессии\n",
        "Линейная модель регрессии:\n",
        "$$\n",
        "\\mathfrak{F}_{rg} = \\{f\\bigr(\\mathbf{w}, \\mathbf{x}\\bigr) = \\mathbf{w}^{\\mathsf{T}}\\mathbf{x}| \\mathbf{w}\\in \\mathbb{R}^{n}\\}.\n",
        "$$\n",
        "Требуется решить следующую оптимизационную задачу:\n",
        "$$\n",
        "\\hat{\\theta} = \\arg\\min_{\\mathbf{w} \\in \\mathbb{R}^{n}} \\frac{1}{l}\\sum_{i=1}^{l}\\left(\\mathbf{w}^{\\mathsf{T}}\\mathbf{x}_i - y_i\\right)^2.\n",
        "$$\n",
        "Для удобства перепишем в матричном виде:\n",
        "$$\n",
        "\\sum_{i=1}^{l}\\left(\\mathbf{w}^{\\mathsf{T}}\\mathbf{x}_i - y_i\\right)^2 =\n",
        "\\left(\\mathbf{X}\\mathbf{w} - \\mathbf{y}\\right)^{\\mathsf{T}}\\left(\\mathbf{X}\\mathbf{w} - \\mathbf{y}\\right) = \n",
        "\\mathbf{w}^{\\mathsf{T}}\\mathbf{X}^{\\mathsf{T}}\\mathbf{X}\\mathbf{w} - 2\\mathbf{y}\\mathbf{X}\\mathbf{w} + \\mathbf{y}^{\\mathsf{T}}\\mathbf{y}\n",
        "$$\n",
        "Заметим, что задача у нас выпуклая, то есть существует единственный экстремум - глобальный минимум, для его нахождения воспользуемся необходимым условием первого порядка:\n",
        "$$\n",
        "\\frac{\\partial}{\\partial \\mathbf{w}}\\left(\\mathbf{w}^{\\mathsf{T}}\\mathbf{X}^{\\mathsf{T}}\\mathbf{X}\\mathbf{w} - 2\\mathbf{y}\\mathbf{X}\\mathbf{w} + \\mathbf{y}^{\\mathsf{T}}\\mathbf{y}\\right) = 0 = 2\\mathbf{X}^{\\mathsf{T}}\\mathbf{X}\\mathbf{w} - 2\\mathbf{X}^{\\mathsf{T}}\\mathbf{y} \\Rightarrow \\hat{\\mathbf{w}} = \\left(\\mathbf{X}^{\\mathsf{T}}\\mathbf{X}\\right)^{-1}\\mathbf{X}^{\\mathsf{T}}\\mathbf{y}\n",
        "$$\n",
        "\n",
        "Получили аналитическое решение для задачи линейной регрессии."
      ]
    },
    {
      "cell_type": "code",
      "metadata": {
        "id": "_uUo4KvOUEEc"
      },
      "source": [
        "np.random.seed(0)\n",
        "l = 40\n",
        "\n",
        "# Генерация данных\n",
        "x = np.linspace(0, 30, num=l)\n",
        "Y = x + 4*np.sin(x) + 3*np.random.randn(l)\n",
        "\n",
        "# Генерация признаков\n",
        "X = np.vstack([np.ones_like(x), x, np.sin(x)]).T\n",
        "\n",
        "# Решение задачи регрессии\n",
        "w = np.linalg.inv(X.T@X)@X.T@Y"
      ],
      "execution_count": 6,
      "outputs": []
    },
    {
      "cell_type": "code",
      "metadata": {
        "id": "ZXufmbZLUEEc",
        "colab": {
          "base_uri": "https://localhost:8080/",
          "height": 267
        },
        "outputId": "0e466ff2-cb50-4edd-ac58-91f7fd9da3bf"
      },
      "source": [
        "plt.plot(x, Y, '.', label='train points')\n",
        "\n",
        "x_plot = np.linspace(0, 30, num=10000)\n",
        "plt.plot(x_plot, 4*np.sin(x_plot) + x_plot, label='real')\n",
        "\n",
        "X_plot = np.vstack([np.ones_like(x_plot), x_plot, np.sin(x_plot)]).T\n",
        "plt.plot(x_plot, X_plot@w, label='aproximation')\n",
        "\n",
        "plt.legend(loc='best')\n",
        "plt.show()"
      ],
      "execution_count": 7,
      "outputs": [
        {
          "output_type": "display_data",
          "data": {
            "image/png": "[encoded data removed]",
            "text/plain": [
              "<Figure size 432x288 with 1 Axes>"
            ]
          },
          "metadata": {
            "tags": [],
            "needs_background": "light"
          }
        }
      ]
    },
    {
      "cell_type": "markdown",
      "metadata": {
        "id": "JViPHotiUEEd"
      },
      "source": [
        "### Модель линейной классификации, как решать оптимизационную задачу\n",
        "Линейная модель бинарной (-1 и 1) классификации:\n",
        "$$\n",
        "\\mathfrak{F}_{bcl} = \\left\\{f\\bigr(\\mathbf{w}, \\mathbf{x}\\bigr)=\\text{sign}\\bigr(\\mathbf{w}^{\\mathsf{T}}\\mathbf{x}\\bigr)\\bigr| \\mathbf{w} \\in \\mathbb{R}^{n} \\right\\}.\n",
        "$$\n",
        "Требуется решить следующую оптимизационную задачу:\n",
        "$$\n",
        "\\hat{\\mathbf{w}} = \\arg \\min_{\\mathbf{w} \\in \\mathbb{R}^n} \\frac{1}{l}\\sum_{i=1}^l\\bigr[\\mathbf{w}^{\\mathsf{T}}\\mathbf{x}_i \\not= y_i\\bigr] = \\arg \\min_{\\mathbf{w} \\in \\mathbb{R}^n} \\frac{1}{l}\\sum_{i=1}^l\\bigr[y_i\\mathbf{w}^{\\mathsf{T}}\\mathbf{x}_i < 0 \\bigr].\n",
        "$$\n",
        "Но вместо этой задачи оптимизации будем минимизировать верхнюю оценку:\n",
        "$$\n",
        "\\hat{\\mathbf{w}} = \\arg \\min_{\\mathbf{w} \\in \\mathbb{R}^n} \\frac{1}{l}\\sum_{i=1}^l\\text{log}_{2}\\bigr(1+e^{-y_i\\mathbf{w}^{\\mathsf{T}}\\mathbf{x}_i}\\bigr)\n",
        "$$\n",
        "\n",
        "Но как ее минимизировать? Аналитическое решение найти не получится. Будем минизировать градиентными методами."
      ]
    },
    {
      "cell_type": "code",
      "metadata": {
        "id": "6TzszgzRUEEd",
        "colab": {
          "base_uri": "https://localhost:8080/",
          "height": 279
        },
        "outputId": "475cff2b-752b-494f-9c97-bde15c3c4f5e"
      },
      "source": [
        "def sign(x):\n",
        "    return np.array(x <= 0, dtype=np.int64)\n",
        "def upper_bound(x):\n",
        "    return np.log2(1+np.exp(-x))\n",
        "\n",
        "x = np.linspace(-2, 6, 100)\n",
        "plt.plot(x, sign(x), label='$sign(x)$')\n",
        "plt.plot(x, upper_bound(x), label='$\\log(1+\\exp(-x))$')\n",
        "\n",
        "plt.xlabel('$x$')\n",
        "plt.ylabel('$L$')\n",
        "plt.legend(loc='best')\n",
        "plt.show()"
      ],
      "execution_count": 8,
      "outputs": [
        {
          "output_type": "display_data",
          "data": {
            "image/png": "[encoded data removed]",
            "text/plain": [
              "<Figure size 432x288 with 1 Axes>"
            ]
          },
          "metadata": {
            "tags": [],
            "needs_background": "light"
          }
        }
      ]
    },
    {
      "cell_type": "markdown",
      "metadata": {
        "id": "1uuUSJmaUEEe"
      },
      "source": [
        "### Стохастический градиентный спуск\n",
        "Напомним простой градиентный спуск:\n",
        "$$\n",
        "\\mathbf{w}_{k+1} = \\mathbf{w}_k - \\alpha_k \\nabla \\mathcal{L}\\bigr(\\mathbf{w}, \\mathbf{X}, \\mathbf{y}\\bigr).\n",
        "$$\n",
        "В чем минусы?\n",
        "1. Очень долго считать градиент суммы $\\mathcal{L}\\bigr(\\mathbf{w}, \\mathbf{X}, \\mathbf{y}\\bigr) = \\frac{1}{l}\\sum_{i=1}^{l}q\\bigr(\\mathbf{w}, \\mathbf{x}_i, y_i\\bigr)$\n",
        "2. Как ускорить?\n",
        "\n",
        "Рассмотрим стохастический градиентный спуск:\n",
        "$$\n",
        "\\mathbf{w}_{k+1} = \\mathbf{w}_k - \\alpha_k \\nabla q\\bigr(\\mathbf{w}, \\mathbf{x}_{i_k}, y_{i_k}\\bigr).\n",
        "$$\n",
        "\n",
        "В случае, если индекс объекта $i_k$ сгенерирован равновероятно, то справедливо следующее свойство:\n",
        "$$\n",
        "\\mathsf{E} \\nabla q\\bigr(\\mathbf{w}, \\mathbf{x}_{i_k}, y_{i_k}\\bigr) = \\frac{1}{l}\\sum_{i=1}^{l}\\nabla q\\bigr(\\mathbf{w}, \\mathbf{x}_i, y_i\\bigr) = \\nabla\\mathcal{L}\\bigr(\\mathbf{w}, \\mathbf{X}, \\mathbf{y}\\bigr),\n",
        "$$\n",
        "то есть получаем, что в среднем градиент на каждой итерации направлен вдоль истинного градиента."
      ]
    },
    {
      "cell_type": "markdown",
      "metadata": {
        "id": "pi89dgDtUEEe"
      },
      "source": [
        "### Анализ сходимости стохастического градиента\n",
        "Рассмотрим задачу оптимизации:\n",
        "$$\n",
        "\\mathcal{L}\\bigr(\\mathbf{w}\\bigr) = \\frac{1}{l}\\sum_{i=1}^{l}q\\bigr(\\mathbf{w}, i\\bigr) \\to \\min_{\\mathbf{w}},\n",
        "$$\n",
        "где $\\mathcal{L}$ является выпуклой функцией по параметру $\\mathbf{w}$.\n",
        "\n",
        "Стохастический градиентный спуск:\n",
        "$$\n",
        "\\mathbf{w}_{k+1} = \\mathbf{w}_k - \\alpha_k \\hat{\\mathbf{g}}_k, \\quad \\mathsf{E}\\hat{\\mathbf{g}}_k = \\mathbf{g}_k = \\nabla\\mathcal{L}\\bigr(\\mathbf{w}\\bigr).\n",
        "$$\n",
        "\n",
        "Рассмотрим норму невязки:\n",
        "$$\n",
        "||\\textbf{x}_{k+1} - \\textbf{x}^*||^2 = ||\\textbf{x}_{k}-\\textbf{x}^* - \\alpha_{k}\\hat{\\textbf{g}}_k||^2 = ||\\textbf{x}_{k} - \\textbf{x}^*||^2 -2\\alpha_{k}\\hat{\\textbf{g}}_k^{\\mathsf{T}}(\\textbf{x}_{k} - \\textbf{x}^*) + \\alpha_{k}^2||\\hat{\\textbf{g}}_k||^2.\n",
        "$$\n",
        "\n",
        "Рассмотрим среднее значение невязки при случайном выборе $\\hat{\\mathbf{g}}_k$:\n",
        "$$\n",
        "\\mathsf{E}||\\textbf{x}_{k+1} - \\textbf{x}^*||^2 = ||\\textbf{x}_{k} - \\textbf{x}^*||^2 -2\\alpha_{k}\\textbf{g}_k^{\\mathsf{T}}(\\textbf{x}_{k} - \\textbf{x}^*) + \\alpha_{k}^2\\mathsf{E}||\\hat{\\textbf{g}}_k||^2.\n",
        "$$\n",
        "Далее нам поребуется следующая величина:\n",
        "$$\n",
        "\\alpha_{k}\\textbf{g}_k^{\\mathsf{T}}(\\textbf{x}_{k} - \\textbf{x}^*) = \\frac{1}{2}||\\textbf{x}_{k} - \\textbf{x}^*||^2 - \\frac{1}{2}\\mathsf{E}||\\textbf{x}_{k+1} - \\textbf{x}^*||^2 + \\alpha_{k}^2\\mathsf{E}||\\hat{\\textbf{g}}_k||^2.\n",
        "$$"
      ]
    },
    {
      "cell_type": "markdown",
      "metadata": {
        "id": "aYwTvfpqUEEf"
      },
      "source": [
        "В силу выпуклости функции $\\mathcal{L}$ справедливо следующее свойство:\n",
        "$$\n",
        "\\mathcal{L}\\bigr(\\mathbf{x}_k\\bigr) - \\mathcal{L}\\bigr(\\mathbf{x}^*\\bigr) \\leq\\textbf{g}_k^{\\mathsf{T}}(\\textbf{x}_{k} - \\textbf{x}^*)\n",
        "$$\n",
        "\n",
        "Откуда получаем:\n",
        "$$\n",
        "\\alpha_k\\left(\\mathcal{L}\\bigr(\\mathbf{x}_k\\bigr) - \\mathcal{L}\\bigr(\\mathbf{x}^*\\bigr)\\right) \\leq \\frac{1}{2}||\\textbf{x}_{k} - \\textbf{x}^*||^2 - \\frac{1}{2}\\mathsf{E}||\\textbf{x}_{k+1} - \\textbf{x}^*||^2 + \\frac{\\alpha_{k}^2}{2}\\mathsf{E}||\\hat{\\textbf{g}}_k||^2.\n",
        "$$\n",
        "\n",
        "Далее усредним уже по $\\mathbf{g}_k$ для всех $k=1\\cdots K$ и просумируем $K$ первых итераций:\n",
        "$$\n",
        "\\sum_{k=1}^{K}\\alpha_k\\left(\\mathsf{E}\\mathcal{L}\\bigr(\\mathbf{x}_k\\bigr) - \\mathcal{L}\\bigr(\\mathbf{x}^*\\bigr)\\right) \\leq \\frac{1}{2}||\\mathbf{x}_0 - \\mathbf{x}^*||^2 - \\frac{1}{2}\\mathsf{E}||\\textbf{x}_{k+1} - \\textbf{x}^*||^2 + \\sum_{k=1}^{K}\\frac{\\alpha_{k}^2}{2}\\mathsf{E}||\\hat{\\textbf{g}}_k||^2 \\leq \\frac{1}{2}||\\mathbf{x}_0 - \\mathbf{x}^*||^2 + \\sum_{k=1}^{K}\\frac{\\alpha_{k}^2}{2}\\mathsf{E}||\\hat{\\textbf{g}}_k||^2. \n",
        "$$"
      ]
    },
    {
      "cell_type": "markdown",
      "metadata": {
        "id": "3KB5dZ0fUEEg"
      },
      "source": [
        "Используем неравенство Йенсена для выпуклой функции $\\mathcal{L}$:\n",
        "$$\n",
        "\\mathsf{E}\\mathcal{L}\\bigr(\\frac{1}{\\sum\\alpha_k}\\sum\\alpha_k\\mathbf{x}_k\\bigr) - \\mathcal{L}\\bigr(\\mathbf{x}^*\\bigr) \\leq \\sum_{k=1}^{K}\\alpha_k\\left(\\mathsf{E}\\mathcal{L}\\bigr(\\mathbf{x}_k\\bigr) - \\mathcal{L}\\bigr(\\mathbf{x}^*\\bigr)\\right) \\leq \\frac{1}{2}||\\mathbf{x}_0 - \\mathbf{x}^*||^2 + \\sum_{k=1}^{K}\\frac{\\alpha_{k}^2}{2}\\mathsf{E}||\\hat{\\textbf{g}}_k||^2.\n",
        "$$\n",
        "\n",
        "Для удобства введем обозначение и предположения:\n",
        "$$\n",
        "\\hat{\\mathbf{x}}_{K} = \\frac{1}{\\sum\\alpha_k}\\sum\\alpha_k\\mathbf{x}_k, \\quad ||\\textbf{x}_0 - \\textbf{x}^*||^2 \\leq R^2, \\quad \\mathsf{E}||\\hat{\\textbf{g}}_k||^2 \\leq G^2.\n",
        "$$\n",
        "\n",
        "Получаем следующую оценку:\n",
        "$$\n",
        "\\mathsf{E}\\mathcal{L}\\bigr(\\hat{\\mathbf{x}}_K\\bigr) - \\mathcal{L}\\bigr(\\mathbf{x}^*\\bigr) \\leq \\frac{R^2+G^2\\sum\\alpha^2_k}{2\\sum\\alpha_k}\n",
        "$$"
      ]
    },
    {
      "cell_type": "markdown",
      "metadata": {
        "id": "k6nGIAsvUEEh"
      },
      "source": [
        "Проанализируем выражение на скорость сходимости:\n",
        "$$\n",
        "\\mathsf{E}\\mathcal{L}\\bigr(\\mathbf{x}_K\\bigr) - \\mathcal{L}\\bigr(\\mathbf{x}^*\\bigr) \\leq \\frac{R^2+G^2\\sum\\alpha^2_k}{2\\sum\\alpha_k}\n",
        "$$\n",
        "\n",
        "Первый способ выборка шага:\n",
        "$$\n",
        "\\quad \\sum\\alpha_k = \\infty, \\quad \\sum\\alpha^2_k < \\infty, \\qquad \\left[ \\alpha_k = \\frac{1}{k}\\right]\n",
        "$$\n",
        "получаем скорость сходимости $\\approx O(\\frac{1}{\\log K})$.\n",
        "\n",
        "Второй способ выбора шага:\n",
        "$$\n",
        "\\quad \\sum\\alpha_k = \\infty, \\quad \\frac{\\sum\\alpha^2_k}{\\sum\\alpha_k} = 0, \\qquad \\left[ \\alpha_k = \\frac{1}{\\sqrt{k}}\\right]\n",
        "$$\n",
        "получаем скорость сходимости $\\approx O(\\frac{\\log K}{\\sqrt{K}})$.\n",
        "\n",
        "Получили важное свойство, что при константном шаге, метод стохастического градиента не сходится."
      ]
    },
    {
      "cell_type": "markdown",
      "metadata": {
        "id": "3NYTWYZyUEEh"
      },
      "source": [
        "### Вернемся к задаче бинарной классификации\n",
        "$$\n",
        "\\hat{\\mathbf{w}} = \\arg \\min_{\\mathbf{w} \\in \\mathbb{R}^n} \\frac{1}{l}\\sum_{i=1}^l\\log_{2}\\bigr(1+e^{-y_i\\mathbf{w}^{\\mathsf{T}}\\mathbf{x}_i}\\bigr)\n",
        "$$"
      ]
    },
    {
      "cell_type": "code",
      "metadata": {
        "id": "RyfWMHnMUEEh"
      },
      "source": [
        "torch.manual_seed(0)\n",
        "\n",
        "l = 1000\n",
        "n = 2\n",
        "\n",
        "X = torch.randn([l, n])\n",
        "w_true = torch.randn([n])\n",
        "Y = torch.ones([l])\n",
        "Y[X@w_true < 0] = -1"
      ],
      "execution_count": 9,
      "outputs": []
    },
    {
      "cell_type": "code",
      "metadata": {
        "id": "zTTW2SeNUEEi"
      },
      "source": [
        "torch.manual_seed(0)\n",
        "np.random.seed(0)\n",
        "w = torch.randn([n], requires_grad=True)\n",
        "\n",
        "K = l\n",
        "list_of_loss_sqrt = []  \n",
        "for k in range(1, K+1):\n",
        "    # Считаем ошибку L на k-м шаге\n",
        "    with torch.no_grad():\n",
        "        list_of_loss_sqrt.append(\n",
        "            torch.mean(torch.log2(1+torch.exp(-Y*(X@w)))))\n",
        "    \n",
        "    # выбираем случайный элемент из выбооки\n",
        "    ind = np.random.randint(low=0, high=l)\n",
        "    alpha = 1/np.sqrt(k)\n",
        "    \n",
        "    # считаем ошибку на элементе\n",
        "    q = torch.log2(1+torch.exp(-Y[ind]*(X[ind]@w)))\n",
        "    \n",
        "    # считаем g с крышкой\n",
        "    q.backward()\n",
        "    \n",
        "    # делаем градиентный шаг\n",
        "    with torch.no_grad():\n",
        "        w.add_(w.grad, alpha=-1*alpha)\n",
        "\n",
        "    # обнуляем градиент\n",
        "    w.grad.zero_()"
      ],
      "execution_count": 10,
      "outputs": []
    },
    {
      "cell_type": "code",
      "metadata": {
        "scrolled": true,
        "id": "nxy1IMZ4UEEi",
        "colab": {
          "base_uri": "https://localhost:8080/"
        },
        "outputId": "e2b2c4cf-5944-4a80-b2df-40537ad1fe44"
      },
      "source": [
        "pred = torch.ones([l])\n",
        "pred[X@w < 0] = -1\n",
        "print('Точность прогноза: {}'.format(torch.mean((pred == Y).float()).item()))"
      ],
      "execution_count": 11,
      "outputs": [
        {
          "output_type": "stream",
          "text": [
            "Точность прогноза: 0.9980000257492065\n"
          ],
          "name": "stdout"
        }
      ]
    },
    {
      "cell_type": "code",
      "metadata": {
        "id": "QNjukNi-UEEj"
      },
      "source": [
        "torch.manual_seed(0)\n",
        "np.random.seed(0)\n",
        "w = torch.randn([n], requires_grad=True)\n",
        "\n",
        "K = l\n",
        "list_of_loss = []  \n",
        "for k in range(1, K+1):\n",
        "    # Считаем ошибку L на k-м шаге\n",
        "    with torch.no_grad():\n",
        "        list_of_loss.append(torch.mean(torch.log2(1+torch.exp(-Y*(X@w)))))\n",
        "    \n",
        "    # выбираем случайный элемент из выбооки\n",
        "    ind = np.random.randint(low=0, high=l)\n",
        "    alpha = 1/k\n",
        "    \n",
        "    # считаем ошибку на элементе\n",
        "    q = torch.log2(1+torch.exp(-Y[ind]*(X[ind]@w)))\n",
        "    \n",
        "    # считаем g с крышкой\n",
        "    q.backward()\n",
        "    \n",
        "    # делаем градиентный шаг\n",
        "    with torch.no_grad():\n",
        "        w.add_(w.grad, alpha=-1*alpha)\n",
        "\n",
        "    # обнуляем градиент\n",
        "    w.grad.zero_()"
      ],
      "execution_count": 12,
      "outputs": []
    },
    {
      "cell_type": "code",
      "metadata": {
        "id": "CVcEyG6KUEEj"
      },
      "source": [
        "torch.manual_seed(0)\n",
        "w = torch.randn([n], requires_grad=True)\n",
        "\n",
        "dataset = torch.utils.data.TensorDataset(X, Y)\n",
        "generator = torch.utils.data.DataLoader(dataset, batch_size=1, shuffle=True)\n",
        "\n",
        "optimizer = torch.optim.SGD([w], lr=1)\n",
        "scheduler = torch.optim.lr_scheduler.LambdaLR(optimizer, \n",
        "                                              lambda k: 1/np.sqrt(k+1))\n",
        "\n",
        "list_of_loss_torch = []\n",
        "for x, y in generator:\n",
        "    optimizer.zero_grad()\n",
        "\n",
        "    # Считаем ошибку L на k-м шаге\n",
        "    with torch.no_grad():\n",
        "        list_of_loss_torch.append(\n",
        "            torch.mean(torch.log2(1+torch.exp(-Y*(X@w)))))\n",
        "        \n",
        "    q = torch.log2(1+torch.exp(-y*(x@w))).mean()\n",
        "    \n",
        "    q.backward()\n",
        "    \n",
        "    optimizer.step()\n",
        "    scheduler.step()"
      ],
      "execution_count": 13,
      "outputs": []
    },
    {
      "cell_type": "code",
      "metadata": {
        "id": "aqqE2qyPUEEj",
        "colab": {
          "base_uri": "https://localhost:8080/",
          "height": 265
        },
        "outputId": "edb1d246-2b06-49bd-889d-c3205c99f294"
      },
      "source": [
        "plt.plot(list_of_loss, label=\"manual: $a_k = 1/k$\")\n",
        "plt.plot(list_of_loss_sqrt, label=\"manual: $a_k = 1/k^{0.5}$\")\n",
        "plt.plot(list_of_loss_torch, label=\"torch: $a_k = 1/k^{0.5}$\")\n",
        "plt.legend(loc='best')\n",
        "plt.show()"
      ],
      "execution_count": 14,
      "outputs": [
        {
          "output_type": "display_data",
          "data": {
            "image/png": "[encoded data removed]",
            "text/plain": [
              "<Figure size 432x288 with 1 Axes>"
            ]
          },
          "metadata": {
            "tags": [],
            "needs_background": "light"
          }
        }
      ]
    },
    {
      "cell_type": "markdown",
      "metadata": {
        "id": "GpcqqsSJUEEj"
      },
      "source": [
        "## Вероятностная постановка задачи машинного обучения"
      ]
    },
    {
      "cell_type": "markdown",
      "metadata": {
        "id": "isnjs4m5UEEk"
      },
      "source": [
        "### Линейная регрессия\n",
        "Рассмотрим следующее вероятностное предположение о данных:\n",
        "$$\n",
        "y = \\mathbf{w}^{\\mathsf{T}}\\mathbf{x} + \\varepsilon, \\quad \\varepsilon \\sim \\mathcal{N}\\bigr(0, \\beta\\bigr)\n",
        "$$\n",
        "\n",
        "Пусть вектора $\\mathbf{w}$ и $\\mathbf{x}$ являются не случайными, тогда получаем, что $y$ является нормальной случайной величной. Пусть все объекты выборки также являются не зависимыми случайными величинами, тогда получаем правдоподобие выборки:\n",
        "$$\n",
        "p\\bigr(\\mathbf{y}|\\mathbf{w}, \\mathbf{X}\\bigr) = \\prod_{i=1}^{l}p\\bigr(y_i|\\mathbf{w}, \\mathbf{x}_i\\bigr),\n",
        "$$\n",
        "где $p\\bigr(y_i|\\mathbf{w}, \\mathbf{x}_i\\bigr)=\\mathcal{N}\\bigr(\\mathbf{w}^{\\mathsf{T}}\\mathbf{x}_i, \\beta)$.\n",
        "\n",
        "Принцип максимума правдоподобия:\n",
        "$$\n",
        "\\mathcal{L}\\bigr(\\mathbf{w}, \\mathbf{X}, \\mathbf{y}\\bigr) = -\\sum_{i=1}^{l}\\log p\\bigr(y_i|\\mathbf{w}, \\mathbf{x}_i\\bigr) = \\sum_{i=1}^{l}\\left[\\frac{\\beta}{2}\\left(\\mathbf{w}^{\\mathsf{T}}\\mathbf{x}_i-y_i\\right)^2 + C\\right]\n",
        "$$\n",
        "\n",
        "Данная задача эквивалентна задаче, которая была рассмотрена в начале для линейной регрессии. Решение задачи имеет вид:\n",
        "$$\n",
        "\\hat{\\mathbf{w}} = \\left(\\mathbf{X}^{\\mathsf{T}}\\mathbf{X}\\right)^{-1}\\mathbf{X}^{\\mathsf{T}}\\mathbf{y}\n",
        "$$"
      ]
    },
    {
      "cell_type": "markdown",
      "metadata": {
        "id": "ZcJAuN4pUEEk"
      },
      "source": [
        "Теперь рассмотрим совместное правдоподобие модели и данных:\n",
        "$$\n",
        "p\\bigr(\\mathbf{y}, \\mathbf{w}|\\mathbf{X}\\bigr) = \\prod_{i=1}^{l}p\\bigr(y_i|\\mathbf{w}, \\mathbf{x}_i\\bigr)p\\bigr(\\mathbf{w}\\bigr),\n",
        "$$\n",
        "где для для простоты рассмотрим $p\\bigr(\\mathbf{w}\\bigr)=\\mathcal{N}\\bigr(\\mathbf{0}, \\gamma\\mathbf{I})$.\n",
        "\n",
        "По принципу максимума правдоподобия получаем следующую функцию для минимизации:\n",
        "$$\n",
        "\\mathcal{L}\\bigr(\\mathbf{w}, \\mathbf{X}, \\mathbf{y}\\bigr) = -\\sum_{i=1}^{l}\\log p\\bigr(y_i|\\mathbf{w}, \\mathbf{x}_i\\bigr) - \\log p\\bigr(\\mathbf{w}\\bigr) = \\sum_{i=1}^{l}\\left[\\frac{\\beta}{2}\\left(\\mathbf{w}^{\\mathsf{T}}\\mathbf{x}_i-y_i\\right)^2 + C_1\\right] + \\mathbf{w}^{\\mathsf{T}}\\mathbf{w} + C_2.\n",
        "$$\n",
        "\n",
        "Заметим, что следующая задача оптимизации имеет аналитическое решение:\n",
        "$$\n",
        "\\hat{\\mathbf{w}} = \\arg\\min_{\\mathbf{w} \\in \\mathbb{R}^{n}} \\left\\{-\\sum_{i=1}^{l}\\log p\\bigr(y_i|\\mathbf{w}, \\mathbf{x}_i\\bigr) - \\log p\\bigr(\\mathbf{w}\\bigr)\\right\\} = \\arg\\min_{\\mathbf{w} \\in \\mathbb{R}^{n}} \\left\\{ \\sum_{i=1}^{l}\\left[\\frac{\\beta}{2}\\left(\\mathbf{w}^{\\mathsf{T}}\\mathbf{x}_i-y_i\\right)^2 + C_1\\right] + \\frac{\\gamma}{2}\\mathbf{w}^{\\mathsf{T}}\\mathbf{w} + C_2 \\right\\}.\n",
        "$$"
      ]
    },
    {
      "cell_type": "markdown",
      "metadata": {
        "id": "zQy-a8AUUEEk"
      },
      "source": [
        "### Логистическая регрессия\n",
        "Рассмотрим следующее вероятностное предположение о данных:\n",
        "$$\n",
        "y \\sim \\text{Be}\\bigr(\\sigma\\bigr(\\mathbf{w}^{\\mathsf{T}}\\mathbf{x}\\bigr)\\bigr), \\quad \\sigma\\bigr(x\\bigr) = \\frac{1}{1+\\exp\\bigr(-x\\bigr)}.\n",
        "$$\n",
        "\n",
        "Принцип максимума правдоподобия:\n",
        "$$\n",
        "\\mathcal{L}\\bigr(\\mathbf{w}, \\mathbf{X}, \\mathbf{y}\\bigr) = -\\sum_{i=1}^{l}\\log p\\bigr(y_i|\\mathbf{w}, \\mathbf{x}_i\\bigr) = \\sum_{i=1}^{l}\\left[y_i\\log\\sigma\\bigr(\\mathbf{w}^{\\mathsf{T}}\\mathbf{x}_i\\bigr) + \\left(1-y_i\\right)\\log\\left(1-\\sigma\\bigr(\\mathbf{w}^{\\mathsf{T}}\\mathbf{x}_i\\bigr)\\right) + C\\right].\n",
        "$$\n",
        "\n",
        "Аналогично рассмотрим совместное правдоподобие модели и данных. Запишем правдоподобие в случае, когда $p\\bigr(\\mathbf{w}\\bigr)=\\mathcal{N}\\bigr(\\mathbf{0}, \\gamma\\mathbf{I})$:\n",
        "$$\n",
        "\\mathcal{L}\\bigr(\\mathbf{w}, \\mathbf{X}, \\mathbf{y}\\bigr) = -\\sum_{i=1}^{l}\\log p\\bigr(y_i|\\mathbf{w}, \\mathbf{x}_i\\bigr) - \\log p\\bigr(\\mathbf{w}\\bigr) = \\sum_{i=1}^{l}\\left[y_i\\log\\sigma\\bigr(\\mathbf{w}^{\\mathsf{T}}\\mathbf{x}_i\\bigr) + \\left(1-y_i\\right)\\log\\left(1-\\sigma\\bigr(\\mathbf{w}^{\\mathsf{T}}\\mathbf{x}_i\\bigr)\\right) + C_1\\right] + \\frac{\\gamma}{2}\\mathbf{w}^{\\mathsf{T}}\\mathbf{w} + C_2.\n",
        "$$"
      ]
    },
    {
      "cell_type": "markdown",
      "metadata": {
        "id": "JJrvzB66UEEk"
      },
      "source": [
        "## Анализ решения задачи оптимизации от параметра $\\gamma$\n",
        "Заметим, что решение оптимизационной задачи зависит от параметра $\\gamma$:\n",
        "$$\n",
        "\\hat{\\mathbf{w}}\\bigr(\\gamma\\bigr) = \\arg\\min_{\\mathbf{w} \\in \\mathbb{R}^{n}} \\left\\{\\sum_{i=1}^{l}\\left[y_i\\log\\sigma\\bigr(\\mathbf{w}^{\\mathsf{T}}\\mathbf{x}_i\\bigr) + \\left(1-y_i\\right)\\log\\left(1-\\sigma\\bigr(\\mathbf{w}^{\\mathsf{T}}\\mathbf{x}_i\\bigr)\\right)\\right] + \\frac{\\gamma}{2}\\mathbf{w}^{\\mathsf{T}}\\mathbf{w}\\right\\}.\n",
        "$$\n",
        "\n",
        "Рассмотрим решение логистической регрессии для разных параметров $\\gamma$. "
      ]
    },
    {
      "cell_type": "code",
      "metadata": {
        "id": "sg-Q3omBUEEk"
      },
      "source": [
        "np.random.seed(0)\n",
        "l = 50000\n",
        "n = 2\n",
        "\n",
        "X = np.random.randn(l, n)\n",
        "w = np.random.randn(n)\n",
        "Y = np.random.binomial(n=1, p=expit(X@w))\n"
      ],
      "execution_count": 15,
      "outputs": []
    },
    {
      "cell_type": "code",
      "metadata": {
        "id": "cemYTE0RUEEl"
      },
      "source": [
        "gammas = [1e-10, 1e-4, 1e-3, 1e-2, .1, 1., 10., 1e2, 1e3, 1e4, 1e10]\n",
        "\n",
        "models_l2 = dict()\n",
        "for gamma in gammas:\n",
        "    model = LogisticRegression(penalty='l2', C=2/gamma, fit_intercept=False, \n",
        "                               random_state=0, solver='saga')\n",
        "    model.fit(X, Y)\n",
        "    models_l2[gamma] = model\n",
        "    \n",
        "models_l1 = dict()\n",
        "for gamma in gammas:\n",
        "    model = LogisticRegression(penalty='l1', C=2/gamma, fit_intercept=False, \n",
        "                               random_state=0, solver='saga')\n",
        "    model.fit(X, Y)\n",
        "    models_l1[gamma] = model"
      ],
      "execution_count": 16,
      "outputs": []
    },
    {
      "cell_type": "code",
      "metadata": {
        "id": "CF41goaMUEEl",
        "colab": {
          "base_uri": "https://localhost:8080/",
          "height": 265
        },
        "outputId": "6771e4a7-c3c3-4683-e58d-d8d0a80fbeec"
      },
      "source": [
        "x = [models_l2[gamma].coef_[0][0] for gamma in models_l2]\n",
        "y = [models_l2[gamma].coef_[0][1] for gamma in models_l2]\n",
        "\n",
        "plt.plot(x, y, 'bo')\n",
        "plt.plot(x, y, 'b-', linewidth=1, label='l2 penalty')\n",
        "\n",
        "x = [models_l1[gamma].coef_[0][0] for gamma in models_l1]\n",
        "y = [models_l1[gamma].coef_[0][1] for gamma in models_l1]\n",
        "\n",
        "plt.plot(x, y, 'go')\n",
        "plt.plot(x, y, 'g-', linewidth=1, label='l1 penalty')\n",
        "    \n",
        "    \n",
        "plt.scatter(w[0], w[1], marker='*', c='r', label='true w')\n",
        "plt.legend(loc='best')\n",
        "plt.show()"
      ],
      "execution_count": 17,
      "outputs": [
        {
          "output_type": "display_data",
          "data": {
            "image/png": "[encoded data removed]",
            "text/plain": [
              "<Figure size 432x288 with 1 Axes>"
            ]
          },
          "metadata": {
            "tags": [],
            "needs_background": "light"
          }
        }
      ]
    },
    {
      "cell_type": "markdown",
      "metadata": {
        "id": "ZK3JXhNbUEEl"
      },
      "source": [
        "### Как находить оптимальное $\\gamma$"
      ]
    },
    {
      "cell_type": "markdown",
      "metadata": {
        "id": "TbY__yGzUEEl"
      },
      "source": [
        "Для поиска оптимального $\\gamma$ вспомним про Cross Validation и LOO методы.\n",
        "\n",
        "LOO:\n",
        "$$\n",
        "\\hat{\\gamma} = \\arg\\min_{\\gamma \\in \\Gamma} LOO\\bigr(\\gamma, \\textbf{X}_{tr}, \\textbf{y}_{tr}, \\textbf{X}_{vl}, \\textbf{y}_{vl}\\bigr), \\quad LOO\\bigr(\\mu, \\textbf{X}_{tr}, \\textbf{y}_{tr}, \\textbf{X}_{vl}, \\textbf{y}_{vl}\\bigr) = \n",
        "\\sum_{i=1}^{l_{tr}+l_{vl}}q\\bigr(\\hat{\\mathbf{w}}\\bigr(\\gamma\\bigr), \\mathbf{x}_i, y_i\\bigr),\n",
        "$$\n",
        "\n",
        "На лекции рассмотрим метод LOO, в Cross Validation все тоже самое, но откладываем не по одному элементу, а больше."
      ]
    },
    {
      "cell_type": "code",
      "metadata": {
        "id": "jmoio6vDUEEm"
      },
      "source": [
        "np.random.seed(0)\n",
        "l = 1000\n",
        "n = 2\n",
        "\n",
        "\n",
        "X_train = np.random.randn(l, n)\n",
        "X_test = np.random.randn(500, n)\n",
        "w = np.random.randn(n)\n",
        "Y_train = np.random.binomial(n=1, p=expit(X_train@w))\n",
        "Y_test = np.random.binomial(n=1, p=expit(X_test@w))"
      ],
      "execution_count": 18,
      "outputs": []
    },
    {
      "cell_type": "code",
      "metadata": {
        "id": "034425QsUEEm",
        "colab": {
          "base_uri": "https://localhost:8080/",
          "height": 66,
          "referenced_widgets": [
            "ecd78d93b4064071a57e3e20acaa3d26",
            "c8ea87fae35343448fa2cd6609ee2000",
            "d8e73be6f3504937908321069f8df854",
            "f69747da114543c890be62faefb226c7",
            "8c89afc1d8d34706b7eeefa63271b8c1",
            "186ab10bd6f64123b64dbdfc83efa5dc",
            "3f62d8e1a0c643b59ad751dd3944897b",
            "c0d56728b2e542ff9530056491d3bf39",
            "6728818703af4d79b6a17a5180ee41ea",
            "80a2023513fe4c32b09a577b47cf16ee",
            "4cc3ffe91d994fa5a4171697d6b81c2c",
            "2ca35750dc83413a9668cc06f55f1f19",
            "bf7009f6a77747dd8832e5030acaeb22",
            "eb53a61c940f4ee9939645a2b2bd3d07",
            "2266cdf1e7db4dc79df8ee16cb6b2d98",
            "6d4008f58c0b4937a7f3db1df7ba7541",
            "62ba9e6158044e09ae5652f49b20f481",
            "6380d5a56fa147d28518d2e670901e29",
            "30d946e68ee04a5d86a38dde8d187ffb",
            "89e42cb115124296b4b5309d4620bef2",
            "e5c73cbb21a9473ea2b7ae54b4a5d8a3",
            "d9feea1637084f4f915842b1cd4f54b1",
            "0b38b6e381fe4f9c9c3d36b7676da356",
            "5ebcaf8cb6ea4a4eaca863fa7828748a",
            "42ea0f0bacd240eab3710462f15d12ea",
            "8de0dc43501946b99aa20bc2a937a265",
            "0f880e4412344cc59037abb00732979d",
            "8e8dc03a8c8b4f67a6721d2a73685449",
            "6135958ae4f941859139fa9745509db6",
            "e16b5f58582d44ef9ec7ad4275002c7f",
            "b908faad27b147a59f2fa5009ff22e57",
            "f3af855f27a64a89a9310b5a40b2ed82",
            "3ec94ebaee734b3988b71180017ecb1a",
            "70fbce24a7f9474ea3fcd3b1f9c136d6",
            "81b751326b4f415585a79bd1301e5dd4",
            "5fcf8f7804724f7b99b5d6bc7ef44d50",
            "c1be1eda30844dbdb1cca4cf60e73dab",
            "17978a3e0f984635b5b4e1caddbe069b",
            "b0105a3e26544c20b0a7f0a77a802543",
            "f16d552b164c4a6b8657d32cf3126f1d",
            "1726cdf2351242feb88906442a59ed23",
            "1be556a771f2421abe2df75d78f9c4c4",
            "6b63c3174b09414d8f70f8d185c97046",
            "4f35789fad1d49c0addec21ceda2358b",
            "2f812aa54c4e42f297b9dc5f28a1e86a",
            "ad24c43f008c412f8488b1309f8ef1c5",
            "7b04cc44c7034038ab2bb8641b344d8e",
            "dbeb6cf4f7484b4ea98bf0b7f27f50b7",
            "201d5a45ffc34a12a099c21412867c56",
            "e9f3f38df61b4eb48f36228d1e98a7d5",
            "364bbaa7d0704f20899cc8034c5442f7",
            "929dbba45c4e46beb7eb0a0b202222c6",
            "659d6ec60e83489b9f0961d86666d5dd",
            "227badebaf4a4a58a5d0f8ad70160bfa",
            "efce87faedad4866aab46a15a5ec6547",
            "2f757c238c0844f7b6518385bc2ce427",
            "345f4646f3024b34a967b25bd959dd88",
            "b1b39dfafe424e77bf29444855d4b15d",
            "af536c2d40ba469289e4aa07fe6afb72",
            "5524745c3e364eb3a566db44c6044b92",
            "711fbae4c4794d0c8ed9423bfebcb0be",
            "ac94facee0b94c8299febd790e15896a",
            "d22e6cd642f049cf902cea889427f193",
            "ceebe1c0cfc54ca39354e0720b117f8e",
            "03b13338c92b4ecc8f771206d36fa7cd",
            "6faf93c18f584b91ac414ab32d06b836",
            "5194a93adeb04e8297d9fd0aeaabb562",
            "c78c2c9a4cae4ffb93cc7c76db7d735d",
            "201520fa36584fc9bc186199d84493d8",
            "b68ce6c2da7a4892b893bb6c5f7a2c93",
            "1451ebf7162347278c4a90155e4b0e37",
            "6d72b20d274b4ee1892ebc8792fd5bdf",
            "15d63443108f4df19022739e2aa14ade",
            "3d2b35386a5a4113ad7835927b8a2abb",
            "e5aae145c7ce435aa97d640e64779263",
            "851d7601d20a4a7cb1dbe6bc3170df55",
            "2ca92b82734741599c5727d11533137b",
            "9416fb819f114057a94bc027a7dd0f83",
            "26a7c01c303741428ca027cca8b478cb",
            "0a9b27068d674fa9ab2e89b0e39de8f7",
            "dd7caae9152049d2abcf34f732c3474d",
            "a42dd7464b17417fb109798de2637044",
            "a3f07a9a71854b71943472c10f555c09",
            "7d95c8ed7fca40dc8a818fa701c88679",
            "b1d52f924b91491cab9d0ff777e689d6",
            "aee509357d8d45cb86f73354449ac7ed",
            "7492de94e8a84981a603c21e1cf4cd5b",
            "a2bb7896c2d14ff3bfe6864e982fd065",
            "c7075af48c134065a898968569613914",
            "2e732e4062954106bbc87c77c8e93b44",
            "996e6f4878114c4c82275c3393515115",
            "1deff30d44914a4faf4533b3abdab9b3",
            "01eeefa89f7a4c6ca20ea509c4a533c7",
            "31b03714dbc34564bffe8dd30147b6f5",
            "2e17c9bf9bbc4f4b888cbc402522eaae",
            "fc823229f98b40de8269a3fb9472fc3e"
          ]
        },
        "outputId": "ce02bd35-d3c5-4cb3-fccb-ec7b75d33050"
      },
      "source": [
        "loo = LeaveOneOut()\n",
        "number_of_batch = loo.get_n_splits(X_train)\n",
        "\n",
        "gamma_scores = dict()\n",
        "for gamma in tqdm(gammas):\n",
        "    list_of_scores = []\n",
        "    for train_index, test_index in tqdm(loo.split(X_train), \n",
        "                                        total=number_of_batch, leave=False):\n",
        "        x_train, x_test = X_train[train_index], X_train[test_index]\n",
        "        y_train, y_test = Y_train[train_index], Y_train[test_index]\n",
        "\n",
        "        model = LogisticRegression(penalty='l2', C=2/gamma, solver='saga',\n",
        "                                   fit_intercept=False, random_state=0)\n",
        "        model.fit(x_train, y_train)\n",
        "        list_of_scores.append(model.score(x_test, y_test))\n",
        "        \n",
        "    gamma_scores[gamma] = np.mean(list_of_scores)"
      ],
      "execution_count": 19,
      "outputs": [
        {
          "output_type": "display_data",
          "data": {
            "application/vnd.jupyter.widget-view+json": {
              "model_id": "ecd78d93b4064071a57e3e20acaa3d26",
              "version_minor": 0,
              "version_major": 2
            },
            "text/plain": [
              "HBox(children=(FloatProgress(value=0.0, max=11.0), HTML(value='')))"
            ]
          },
          "metadata": {
            "tags": []
          }
        },
        {
          "output_type": "display_data",
          "data": {
            "application/vnd.jupyter.widget-view+json": {
              "model_id": "6728818703af4d79b6a17a5180ee41ea",
              "version_minor": 0,
              "version_major": 2
            },
            "text/plain": [
              "HBox(children=(FloatProgress(value=0.0, max=1000.0), HTML(value='')))"
            ]
          },
          "metadata": {
            "tags": []
          }
        },
        {
          "output_type": "display_data",
          "data": {
            "application/vnd.jupyter.widget-view+json": {
              "model_id": "62ba9e6158044e09ae5652f49b20f481",
              "version_minor": 0,
              "version_major": 2
            },
            "text/plain": [
              "HBox(children=(FloatProgress(value=0.0, max=1000.0), HTML(value='')))"
            ]
          },
          "metadata": {
            "tags": []
          }
        },
        {
          "output_type": "display_data",
          "data": {
            "application/vnd.jupyter.widget-view+json": {
              "model_id": "42ea0f0bacd240eab3710462f15d12ea",
              "version_minor": 0,
              "version_major": 2
            },
            "text/plain": [
              "HBox(children=(FloatProgress(value=0.0, max=1000.0), HTML(value='')))"
            ]
          },
          "metadata": {
            "tags": []
          }
        },
        {
          "output_type": "display_data",
          "data": {
            "application/vnd.jupyter.widget-view+json": {
              "model_id": "3ec94ebaee734b3988b71180017ecb1a",
              "version_minor": 0,
              "version_major": 2
            },
            "text/plain": [
              "HBox(children=(FloatProgress(value=0.0, max=1000.0), HTML(value='')))"
            ]
          },
          "metadata": {
            "tags": []
          }
        },
        {
          "output_type": "display_data",
          "data": {
            "application/vnd.jupyter.widget-view+json": {
              "model_id": "1726cdf2351242feb88906442a59ed23",
              "version_minor": 0,
              "version_major": 2
            },
            "text/plain": [
              "HBox(children=(FloatProgress(value=0.0, max=1000.0), HTML(value='')))"
            ]
          },
          "metadata": {
            "tags": []
          }
        },
        {
          "output_type": "display_data",
          "data": {
            "application/vnd.jupyter.widget-view+json": {
              "model_id": "201d5a45ffc34a12a099c21412867c56",
              "version_minor": 0,
              "version_major": 2
            },
            "text/plain": [
              "HBox(children=(FloatProgress(value=0.0, max=1000.0), HTML(value='')))"
            ]
          },
          "metadata": {
            "tags": []
          }
        },
        {
          "output_type": "display_data",
          "data": {
            "application/vnd.jupyter.widget-view+json": {
              "model_id": "345f4646f3024b34a967b25bd959dd88",
              "version_minor": 0,
              "version_major": 2
            },
            "text/plain": [
              "HBox(children=(FloatProgress(value=0.0, max=1000.0), HTML(value='')))"
            ]
          },
          "metadata": {
            "tags": []
          }
        },
        {
          "output_type": "display_data",
          "data": {
            "application/vnd.jupyter.widget-view+json": {
              "model_id": "03b13338c92b4ecc8f771206d36fa7cd",
              "version_minor": 0,
              "version_major": 2
            },
            "text/plain": [
              "HBox(children=(FloatProgress(value=0.0, max=1000.0), HTML(value='')))"
            ]
          },
          "metadata": {
            "tags": []
          }
        },
        {
          "output_type": "display_data",
          "data": {
            "application/vnd.jupyter.widget-view+json": {
              "model_id": "15d63443108f4df19022739e2aa14ade",
              "version_minor": 0,
              "version_major": 2
            },
            "text/plain": [
              "HBox(children=(FloatProgress(value=0.0, max=1000.0), HTML(value='')))"
            ]
          },
          "metadata": {
            "tags": []
          }
        },
        {
          "output_type": "display_data",
          "data": {
            "application/vnd.jupyter.widget-view+json": {
              "model_id": "dd7caae9152049d2abcf34f732c3474d",
              "version_minor": 0,
              "version_major": 2
            },
            "text/plain": [
              "HBox(children=(FloatProgress(value=0.0, max=1000.0), HTML(value='')))"
            ]
          },
          "metadata": {
            "tags": []
          }
        },
        {
          "output_type": "display_data",
          "data": {
            "application/vnd.jupyter.widget-view+json": {
              "model_id": "c7075af48c134065a898968569613914",
              "version_minor": 0,
              "version_major": 2
            },
            "text/plain": [
              "HBox(children=(FloatProgress(value=0.0, max=1000.0), HTML(value='')))"
            ]
          },
          "metadata": {
            "tags": []
          }
        },
        {
          "output_type": "stream",
          "text": [
            "\n"
          ],
          "name": "stdout"
        }
      ]
    },
    {
      "cell_type": "code",
      "metadata": {
        "colab": {
          "base_uri": "https://localhost:8080/"
        },
        "id": "8RgsCsiBlLMP",
        "outputId": "b2a0ae04-51c3-443f-b02c-34b946437dd6"
      },
      "source": [
        "gamma_scores"
      ],
      "execution_count": 20,
      "outputs": [
        {
          "output_type": "execute_result",
          "data": {
            "text/plain": [
              "{1e-10: 0.777,\n",
              " 0.0001: 0.777,\n",
              " 0.001: 0.777,\n",
              " 0.01: 0.777,\n",
              " 0.1: 0.777,\n",
              " 1.0: 0.777,\n",
              " 10.0: 0.776,\n",
              " 100.0: 0.776,\n",
              " 1000.0: 0.777,\n",
              " 10000.0: 0.777,\n",
              " 10000000000.0: 0.777}"
            ]
          },
          "metadata": {
            "tags": []
          },
          "execution_count": 20
        }
      ]
    },
    {
      "cell_type": "code",
      "metadata": {
        "id": "u705_zUmUEEm",
        "colab": {
          "base_uri": "https://localhost:8080/"
        },
        "outputId": "4ed4959c-e65c-4afc-d5ec-98394236f9cd"
      },
      "source": [
        "best_gamma = sorted(gamma_scores, \n",
        "                    key=lambda x: gamma_scores[x], reverse=True)[0]\n",
        "\n",
        "model = LogisticRegression(penalty='l2', C=2/best_gamma, fit_intercept=False, \n",
        "                           random_state=0, solver='saga')\n",
        "model.fit(X_train, Y_train)\n",
        "print('Точность: {}'.format(model.score(X_test, Y_test)))"
      ],
      "execution_count": 21,
      "outputs": [
        {
          "output_type": "stream",
          "text": [
            "Точность: 0.768\n"
          ],
          "name": "stdout"
        }
      ]
    },
    {
      "cell_type": "code",
      "metadata": {
        "id": "xsM-C32ZUEEn",
        "colab": {
          "base_uri": "https://localhost:8080/",
          "height": 265
        },
        "outputId": "51c25a68-9ae8-406a-cd9f-dbe10e9826f0"
      },
      "source": [
        "cols = ['blue', 'red']\n",
        "\n",
        "for k in np.unique(Y_test):\n",
        "    plt.plot(X_test[Y_test==k,0], X_test[Y_test==k,1], 'o', \n",
        "             label='класс {}'.format(k), color=cols[k])\n",
        "\n",
        "plt.plot(*get_line(*model.coef_[0], x_min=-0.6, x_max=0.6), \n",
        "         linewidth=2, color='black')\n",
        "\n",
        "plt.legend(loc='best')\n",
        "plt.show()"
      ],
      "execution_count": 22,
      "outputs": [
        {
          "output_type": "display_data",
          "data": {
            "image/png": "[encoded data removed]",
            "text/plain": [
              "<Figure size 432x288 with 1 Axes>"
            ]
          },
          "metadata": {
            "tags": [],
            "needs_background": "light"
          }
        }
      ]
    },
    {
      "cell_type": "markdown",
      "metadata": {
        "id": "w_jsCkqDl_q6"
      },
      "source": [
        "### Та же фигня на TF"
      ]
    },
    {
      "cell_type": "code",
      "metadata": {
        "id": "Hz4BZ2Aol6wL"
      },
      "source": [
        "import tensorflow as tf"
      ],
      "execution_count": 23,
      "outputs": []
    },
    {
      "cell_type": "code",
      "metadata": {
        "colab": {
          "base_uri": "https://localhost:8080/"
        },
        "id": "Rx1Eou8NmMWr",
        "outputId": "7efb12ee-c921-4c98-f388-cf526828877f"
      },
      "source": [
        "tf.random.set_seed(0)\n",
        "\n",
        "l = 1000\n",
        "n = 2\n",
        "\n",
        "X = tf.random.normal([l, n])\n",
        "\n",
        "w_true = tf.random.normal([n,1])\n",
        "Y = tf.where(tf.less(X@w_true, 0), -1.0, 1.0)\n",
        "print(w_true.numpy())"
      ],
      "execution_count": 154,
      "outputs": [
        {
          "output_type": "stream",
          "text": [
            "[[1.0668802 ]\n",
            " [0.19454929]]\n"
          ],
          "name": "stdout"
        }
      ]
    },
    {
      "cell_type": "code",
      "metadata": {
        "id": "1smDs3_dmMW2"
      },
      "source": [
        "tf.random.set_seed(0)\n",
        "np.random.seed(0)\n",
        "w = tf.Variable(tf.random.normal([n,1]))\n",
        "K = l\n",
        "list_of_loss_sqrt = []  \n",
        "for k in range(1, K+1):\n",
        "    # print('Step ', k, ' w: ', w.numpy())\n",
        "    # Считаем ошибку L на k-м шаге\n",
        "    loss = tf.reduce_mean(\n",
        "          tf.experimental.numpy.log2(1 + tf.math.exp(-Y*(X@w))))\n",
        "    list_of_loss_sqrt.append(loss)\n",
        "    # print('Loss: ', loss.numpy())\n",
        "    # выбираем случайный элемент из выбооки\n",
        "    ind = np.random.randint(low=0, high=l)\n",
        "    alpha = 1/np.sqrt(k)\n",
        "    with tf.GradientTape() as tape:\n",
        "      q = tf.math.log(1 + tf.math.exp(-Y[ind]*(tf.reshape(X[ind], (1,n))@w)))/tf.math.log(2.0)\n",
        "    # считаем градиент\n",
        "    # print('Element loss: ', q.numpy())\n",
        "    g = tape.gradient(q, [w])[0]\n",
        "    # print('Gradient: ', g.numpy())\n",
        "    # делаем градиентный шаг\n",
        "    w.assign(w - g * alpha)\n"
      ],
      "execution_count": 167,
      "outputs": []
    },
    {
      "cell_type": "code",
      "metadata": {
        "scrolled": true,
        "colab": {
          "base_uri": "https://localhost:8080/"
        },
        "id": "uPFsHJk_mMW2",
        "outputId": "a7693ad1-94d3-4642-dfa2-8ea5ee72c72a"
      },
      "source": [
        "print(w.numpy())\n",
        "pred = torch.ones([l])\n",
        "pred = tf.where(tf.less(X@w,0), -1.0, 1.0)\n",
        "\n",
        "acc = np.mean(tf.where(pred == Y, 1, 0).numpy())\n",
        "print('Точность прогноза: {}'.format(acc))"
      ],
      "execution_count": 168,
      "outputs": [
        {
          "output_type": "stream",
          "text": [
            "[[5.1754093]\n",
            " [0.9783494]]\n",
            "Точность прогноза: 0.997\n"
          ],
          "name": "stdout"
        }
      ]
    },
    {
      "cell_type": "markdown",
      "metadata": {
        "id": "IS0RDsPHzq9R"
      },
      "source": [
        "Теперь другой learning rate, 1/k"
      ]
    },
    {
      "cell_type": "code",
      "metadata": {
        "id": "40B438pfztUl",
        "outputId": "9be84878-da58-48f3-ad5c-5531b9828796",
        "colab": {
          "base_uri": "https://localhost:8080/"
        }
      },
      "source": [
        "tf.random.set_seed(0)\r\n",
        "np.random.seed(0)\r\n",
        "w = tf.Variable(tf.random.normal([n,1]))\r\n",
        "print(w.numpy())\r\n",
        "K = l\r\n",
        "list_of_loss = []  \r\n",
        "for k in range(1, K+1):\r\n",
        "    # print('Step ', k, ' w: ', w.numpy())\r\n",
        "    # Считаем ошибку L на k-м шаге\r\n",
        "    loss = tf.reduce_mean(\r\n",
        "          tf.experimental.numpy.log2(1 + tf.math.exp(-Y*(X@w))))\r\n",
        "    list_of_loss.append(loss)\r\n",
        "    # print('Loss: ', loss.numpy())\r\n",
        "    # выбираем случайный элемент из выбооки\r\n",
        "    ind = np.random.randint(low=0, high=l)\r\n",
        "    alpha = 1/k\r\n",
        "    with tf.GradientTape() as tape:\r\n",
        "      q = tf.math.log(1 + tf.math.exp(-Y[ind]*(tf.reshape(X[ind], (1,n))@w)))/tf.math.log(2.0)\r\n",
        "    # считаем градиент\r\n",
        "    # print('Element loss: ', q.numpy())\r\n",
        "    g = tape.gradient(q, [w])[0]\r\n",
        "    # print('Gradient: ', g.numpy())\r\n",
        "    # делаем градиентный шаг\r\n",
        "    w.assign(w - g * alpha)\r\n"
      ],
      "execution_count": 169,
      "outputs": [
        {
          "output_type": "stream",
          "text": [
            "[[1.5110626 ]\n",
            " [0.42292204]]\n"
          ],
          "name": "stdout"
        }
      ]
    },
    {
      "cell_type": "code",
      "metadata": {
        "id": "mVUm5eYCzxhD",
        "outputId": "f0bbbea8-07a1-43c7-c6cd-4807583edb65",
        "colab": {
          "base_uri": "https://localhost:8080/"
        }
      },
      "source": [
        "print(w.numpy())\r\n",
        "pred = torch.ones([l])\r\n",
        "pred = tf.where(tf.less(X@w,0), -1.0, 1.0)\r\n",
        "\r\n",
        "acc = np.mean(tf.where(pred == Y, 1, 0).numpy())\r\n",
        "print('Точность прогноза: {}'.format(acc))"
      ],
      "execution_count": 170,
      "outputs": [
        {
          "output_type": "stream",
          "text": [
            "[[2.50042   ]\n",
            " [0.53007364]]\n",
            "Точность прогноза: 0.989\n"
          ],
          "name": "stdout"
        }
      ]
    },
    {
      "cell_type": "markdown",
      "metadata": {
        "id": "x2umfh-pz2y_"
      },
      "source": [
        "Теперь используя Keras SGD"
      ]
    },
    {
      "cell_type": "code",
      "metadata": {
        "id": "6CDG7uL4l-2S"
      },
      "source": [
        "lr_schedule = tf.keras.callbacks.LearningRateScheduler(lambda k: 1/np.sqrt(k+1), verbose=1)\r\n",
        "opt = tf.keras.optimizers.SGD(learning_rate=0.1)\r\n",
        "\r\n",
        "dataset = tf.data.Dataset.zip((tf.data.Dataset.from_tensor_slices(X), tf.data.Dataset.from_tensor_slices(Y)))\r\n",
        "\r\n",
        "tf.random.set_seed(0)\r\n",
        "np.random.seed(0)\r\n",
        "w = tf.Variable(tf.random.normal([n,1]))\r\n",
        "K=l\r\n",
        "list_of_loss_tf = []\r\n",
        "# for x,y in dataset:\r\n",
        "for k in range(1,K+1):\r\n",
        "  with tf.GradientTape() as tape:\r\n",
        "    loss = tf.reduce_mean(\r\n",
        "          tf.experimental.numpy.log2(1 + tf.math.exp(-Y*(X@w))))\r\n",
        "  opt.minimize(loss, var_list=[w], tape=tape)\r\n",
        "  list_of_loss_tf.append(loss)"
      ],
      "execution_count": 199,
      "outputs": []
    },
    {
      "cell_type": "code",
      "metadata": {
        "id": "gGlU-_mS1aOt",
        "outputId": "51c6d139-1837-4f67-fa0b-d854a94114dd",
        "colab": {
          "base_uri": "https://localhost:8080/",
          "height": 265
        }
      },
      "source": [
        "\r\n",
        "plt.plot(list_of_loss, label=\"manual: $a_k = 1/k$\")\r\n",
        "plt.plot(list_of_loss_sqrt, label=\"manual: $a_k = 1/k^{0.5}$\")\r\n",
        "plt.plot(list_of_loss_tf, label=\"tf: $a_k = 0.1$\")\r\n",
        "plt.legend(loc='best')\r\n",
        "plt.show()"
      ],
      "execution_count": 201,
      "outputs": [
        {
          "output_type": "display_data",
          "data": {
            "image/png": "[encoded data removed]",
            "text/plain": [
              "<Figure size 432x288 with 1 Axes>"
            ]
          },
          "metadata": {
            "tags": [],
            "needs_background": "light"
          }
        }
      ]
    }
  ]
}