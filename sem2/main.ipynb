{
  "nbformat": 4,
  "nbformat_minor": 0,
  "metadata": {
    "celltoolbar": "Slideshow",
    "kernelspec": {
      "display_name": "Python 3",
      "language": "python",
      "name": "python3"
    },
    "language_info": {
      "codemirror_mode": {
        "name": "ipython",
        "version": 3
      },
      "file_extension": ".py",
      "mimetype": "text/x-python",
      "name": "python",
      "nbconvert_exporter": "python",
      "pygments_lexer": "ipython3",
      "version": "3.6.2"
    },
    "colab": {
      "name": "main.ipynb",
      "provenance": []
    },
    "widgets": {
      "application/vnd.jupyter.widget-state+json": {
        "965122ca85d64fc5a2d92abd52820037": {
          "model_module": "@jupyter-widgets/controls",
          "model_name": "HBoxModel",
          "state": {
            "_view_name": "HBoxView",
            "_dom_classes": [],
            "_model_name": "HBoxModel",
            "_view_module": "@jupyter-widgets/controls",
            "_model_module_version": "1.5.0",
            "_view_count": null,
            "_view_module_version": "1.5.0",
            "box_style": "",
            "layout": "IPY_MODEL_12c23acef98d4f91ba7da9b4930ff6ad",
            "_model_module": "@jupyter-widgets/controls",
            "children": [
              "IPY_MODEL_2d25145af80147879bb21b93b6e038c7",
              "IPY_MODEL_54ddfd21689f43a4b63659fe55de65c9"
            ]
          }
        },
        "12c23acef98d4f91ba7da9b4930ff6ad": {
          "model_module": "@jupyter-widgets/base",
          "model_name": "LayoutModel",
          "state": {
            "_view_name": "LayoutView",
            "grid_template_rows": null,
            "right": null,
            "justify_content": null,
            "_view_module": "@jupyter-widgets/base",
            "overflow": null,
            "_model_module_version": "1.2.0",
            "_view_count": null,
            "flex_flow": null,
            "width": null,
            "min_width": null,
            "border": null,
            "align_items": null,
            "bottom": null,
            "_model_module": "@jupyter-widgets/base",
            "top": null,
            "grid_column": null,
            "overflow_y": null,
            "overflow_x": null,
            "grid_auto_flow": null,
            "grid_area": null,
            "grid_template_columns": null,
            "flex": null,
            "_model_name": "LayoutModel",
            "justify_items": null,
            "grid_row": null,
            "max_height": null,
            "align_content": null,
            "visibility": null,
            "align_self": null,
            "height": null,
            "min_height": null,
            "padding": null,
            "grid_auto_rows": null,
            "grid_gap": null,
            "max_width": null,
            "order": null,
            "_view_module_version": "1.2.0",
            "grid_template_areas": null,
            "object_position": null,
            "object_fit": null,
            "grid_auto_columns": null,
            "margin": null,
            "display": null,
            "left": null
          }
        },
        "2d25145af80147879bb21b93b6e038c7": {
          "model_module": "@jupyter-widgets/controls",
          "model_name": "FloatProgressModel",
          "state": {
            "_view_name": "ProgressView",
            "style": "IPY_MODEL_cbfa612244a546dd92acdbb6486261dd",
            "_dom_classes": [],
            "description": "100%",
            "_model_name": "FloatProgressModel",
            "bar_style": "success",
            "max": 11,
            "_view_module": "@jupyter-widgets/controls",
            "_model_module_version": "1.5.0",
            "value": 11,
            "_view_count": null,
            "_view_module_version": "1.5.0",
            "orientation": "horizontal",
            "min": 0,
            "description_tooltip": null,
            "_model_module": "@jupyter-widgets/controls",
            "layout": "IPY_MODEL_33c2a211df3341d9b42516db7ee14c22"
          }
        },
        "54ddfd21689f43a4b63659fe55de65c9": {
          "model_module": "@jupyter-widgets/controls",
          "model_name": "HTMLModel",
          "state": {
            "_view_name": "HTMLView",
            "style": "IPY_MODEL_af3c3b1894a14d4eaa510cdc9d64f5b8",
            "_dom_classes": [],
            "description": "",
            "_model_name": "HTMLModel",
            "placeholder": "​",
            "_view_module": "@jupyter-widgets/controls",
            "_model_module_version": "1.5.0",
            "value": " 11/11 [00:34&lt;00:00,  3.12s/it]",
            "_view_count": null,
            "_view_module_version": "1.5.0",
            "description_tooltip": null,
            "_model_module": "@jupyter-widgets/controls",
            "layout": "IPY_MODEL_1503133a90e64a22b9ea0e8c2f02fd12"
          }
        },
        "cbfa612244a546dd92acdbb6486261dd": {
          "model_module": "@jupyter-widgets/controls",
          "model_name": "ProgressStyleModel",
          "state": {
            "_view_name": "StyleView",
            "_model_name": "ProgressStyleModel",
            "description_width": "initial",
            "_view_module": "@jupyter-widgets/base",
            "_model_module_version": "1.5.0",
            "_view_count": null,
            "_view_module_version": "1.2.0",
            "bar_color": null,
            "_model_module": "@jupyter-widgets/controls"
          }
        },
        "33c2a211df3341d9b42516db7ee14c22": {
          "model_module": "@jupyter-widgets/base",
          "model_name": "LayoutModel",
          "state": {
            "_view_name": "LayoutView",
            "grid_template_rows": null,
            "right": null,
            "justify_content": null,
            "_view_module": "@jupyter-widgets/base",
            "overflow": null,
            "_model_module_version": "1.2.0",
            "_view_count": null,
            "flex_flow": null,
            "width": null,
            "min_width": null,
            "border": null,
            "align_items": null,
            "bottom": null,
            "_model_module": "@jupyter-widgets/base",
            "top": null,
            "grid_column": null,
            "overflow_y": null,
            "overflow_x": null,
            "grid_auto_flow": null,
            "grid_area": null,
            "grid_template_columns": null,
            "flex": null,
            "_model_name": "LayoutModel",
            "justify_items": null,
            "grid_row": null,
            "max_height": null,
            "align_content": null,
            "visibility": null,
            "align_self": null,
            "height": null,
            "min_height": null,
            "padding": null,
            "grid_auto_rows": null,
            "grid_gap": null,
            "max_width": null,
            "order": null,
            "_view_module_version": "1.2.0",
            "grid_template_areas": null,
            "object_position": null,
            "object_fit": null,
            "grid_auto_columns": null,
            "margin": null,
            "display": null,
            "left": null
          }
        },
        "af3c3b1894a14d4eaa510cdc9d64f5b8": {
          "model_module": "@jupyter-widgets/controls",
          "model_name": "DescriptionStyleModel",
          "state": {
            "_view_name": "StyleView",
            "_model_name": "DescriptionStyleModel",
            "description_width": "",
            "_view_module": "@jupyter-widgets/base",
            "_model_module_version": "1.5.0",
            "_view_count": null,
            "_view_module_version": "1.2.0",
            "_model_module": "@jupyter-widgets/controls"
          }
        },
        "1503133a90e64a22b9ea0e8c2f02fd12": {
          "model_module": "@jupyter-widgets/base",
          "model_name": "LayoutModel",
          "state": {
            "_view_name": "LayoutView",
            "grid_template_rows": null,
            "right": null,
            "justify_content": null,
            "_view_module": "@jupyter-widgets/base",
            "overflow": null,
            "_model_module_version": "1.2.0",
            "_view_count": null,
            "flex_flow": null,
            "width": null,
            "min_width": null,
            "border": null,
            "align_items": null,
            "bottom": null,
            "_model_module": "@jupyter-widgets/base",
            "top": null,
            "grid_column": null,
            "overflow_y": null,
            "overflow_x": null,
            "grid_auto_flow": null,
            "grid_area": null,
            "grid_template_columns": null,
            "flex": null,
            "_model_name": "LayoutModel",
            "justify_items": null,
            "grid_row": null,
            "max_height": null,
            "align_content": null,
            "visibility": null,
            "align_self": null,
            "height": null,
            "min_height": null,
            "padding": null,
            "grid_auto_rows": null,
            "grid_gap": null,
            "max_width": null,
            "order": null,
            "_view_module_version": "1.2.0",
            "grid_template_areas": null,
            "object_position": null,
            "object_fit": null,
            "grid_auto_columns": null,
            "margin": null,
            "display": null,
            "left": null
          }
        },
        "e9efd566f5f24f54b93c2c7365079d71": {
          "model_module": "@jupyter-widgets/controls",
          "model_name": "HBoxModel",
          "state": {
            "_view_name": "HBoxView",
            "_dom_classes": [],
            "_model_name": "HBoxModel",
            "_view_module": "@jupyter-widgets/controls",
            "_model_module_version": "1.5.0",
            "_view_count": null,
            "_view_module_version": "1.5.0",
            "box_style": "",
            "layout": "IPY_MODEL_cf9020be89cf44c78832b46583c0f1eb",
            "_model_module": "@jupyter-widgets/controls",
            "children": [
              "IPY_MODEL_9faa3f0eeeda4ac09db976ab667ad375",
              "IPY_MODEL_c438413a5c6b469492272959ba2c21f2"
            ]
          }
        },
        "cf9020be89cf44c78832b46583c0f1eb": {
          "model_module": "@jupyter-widgets/base",
          "model_name": "LayoutModel",
          "state": {
            "_view_name": "LayoutView",
            "grid_template_rows": null,
            "right": null,
            "justify_content": null,
            "_view_module": "@jupyter-widgets/base",
            "overflow": null,
            "_model_module_version": "1.2.0",
            "_view_count": null,
            "flex_flow": null,
            "width": null,
            "min_width": null,
            "border": null,
            "align_items": null,
            "bottom": null,
            "_model_module": "@jupyter-widgets/base",
            "top": null,
            "grid_column": null,
            "overflow_y": null,
            "overflow_x": null,
            "grid_auto_flow": null,
            "grid_area": null,
            "grid_template_columns": null,
            "flex": null,
            "_model_name": "LayoutModel",
            "justify_items": null,
            "grid_row": null,
            "max_height": null,
            "align_content": null,
            "visibility": null,
            "align_self": null,
            "height": null,
            "min_height": null,
            "padding": null,
            "grid_auto_rows": null,
            "grid_gap": null,
            "max_width": null,
            "order": null,
            "_view_module_version": "1.2.0",
            "grid_template_areas": null,
            "object_position": null,
            "object_fit": null,
            "grid_auto_columns": null,
            "margin": null,
            "display": null,
            "left": null
          }
        },
        "9faa3f0eeeda4ac09db976ab667ad375": {
          "model_module": "@jupyter-widgets/controls",
          "model_name": "FloatProgressModel",
          "state": {
            "_view_name": "ProgressView",
            "style": "IPY_MODEL_e5cf62b7a6dc4081962232109eb21a26",
            "_dom_classes": [],
            "description": "100%",
            "_model_name": "FloatProgressModel",
            "bar_style": "",
            "max": 1000,
            "_view_module": "@jupyter-widgets/controls",
            "_model_module_version": "1.5.0",
            "value": 1000,
            "_view_count": null,
            "_view_module_version": "1.5.0",
            "orientation": "horizontal",
            "min": 0,
            "description_tooltip": null,
            "_model_module": "@jupyter-widgets/controls",
            "layout": "IPY_MODEL_6ffd888a58c645e58c759fb8ca7ce180"
          }
        },
        "c438413a5c6b469492272959ba2c21f2": {
          "model_module": "@jupyter-widgets/controls",
          "model_name": "HTMLModel",
          "state": {
            "_view_name": "HTMLView",
            "style": "IPY_MODEL_366c74c931cf456cbc06c6d8396775d1",
            "_dom_classes": [],
            "description": "",
            "_model_name": "HTMLModel",
            "placeholder": "​",
            "_view_module": "@jupyter-widgets/controls",
            "_model_module_version": "1.5.0",
            "value": " 1000/1000 [00:03&lt;00:00, 328.16it/s]",
            "_view_count": null,
            "_view_module_version": "1.5.0",
            "description_tooltip": null,
            "_model_module": "@jupyter-widgets/controls",
            "layout": "IPY_MODEL_0ebf2363e264461a9e50e17d7c82e3c0"
          }
        },
        "e5cf62b7a6dc4081962232109eb21a26": {
          "model_module": "@jupyter-widgets/controls",
          "model_name": "ProgressStyleModel",
          "state": {
            "_view_name": "StyleView",
            "_model_name": "ProgressStyleModel",
            "description_width": "initial",
            "_view_module": "@jupyter-widgets/base",
            "_model_module_version": "1.5.0",
            "_view_count": null,
            "_view_module_version": "1.2.0",
            "bar_color": null,
            "_model_module": "@jupyter-widgets/controls"
          }
        },
        "6ffd888a58c645e58c759fb8ca7ce180": {
          "model_module": "@jupyter-widgets/base",
          "model_name": "LayoutModel",
          "state": {
            "_view_name": "LayoutView",
            "grid_template_rows": null,
            "right": null,
            "justify_content": null,
            "_view_module": "@jupyter-widgets/base",
            "overflow": null,
            "_model_module_version": "1.2.0",
            "_view_count": null,
            "flex_flow": null,
            "width": null,
            "min_width": null,
            "border": null,
            "align_items": null,
            "bottom": null,
            "_model_module": "@jupyter-widgets/base",
            "top": null,
            "grid_column": null,
            "overflow_y": null,
            "overflow_x": null,
            "grid_auto_flow": null,
            "grid_area": null,
            "grid_template_columns": null,
            "flex": null,
            "_model_name": "LayoutModel",
            "justify_items": null,
            "grid_row": null,
            "max_height": null,
            "align_content": null,
            "visibility": null,
            "align_self": null,
            "height": null,
            "min_height": null,
            "padding": null,
            "grid_auto_rows": null,
            "grid_gap": null,
            "max_width": null,
            "order": null,
            "_view_module_version": "1.2.0",
            "grid_template_areas": null,
            "object_position": null,
            "object_fit": null,
            "grid_auto_columns": null,
            "margin": null,
            "display": null,
            "left": null
          }
        },
        "366c74c931cf456cbc06c6d8396775d1": {
          "model_module": "@jupyter-widgets/controls",
          "model_name": "DescriptionStyleModel",
          "state": {
            "_view_name": "StyleView",
            "_model_name": "DescriptionStyleModel",
            "description_width": "",
            "_view_module": "@jupyter-widgets/base",
            "_model_module_version": "1.5.0",
            "_view_count": null,
            "_view_module_version": "1.2.0",
            "_model_module": "@jupyter-widgets/controls"
          }
        },
        "0ebf2363e264461a9e50e17d7c82e3c0": {
          "model_module": "@jupyter-widgets/base",
          "model_name": "LayoutModel",
          "state": {
            "_view_name": "LayoutView",
            "grid_template_rows": null,
            "right": null,
            "justify_content": null,
            "_view_module": "@jupyter-widgets/base",
            "overflow": null,
            "_model_module_version": "1.2.0",
            "_view_count": null,
            "flex_flow": null,
            "width": null,
            "min_width": null,
            "border": null,
            "align_items": null,
            "bottom": null,
            "_model_module": "@jupyter-widgets/base",
            "top": null,
            "grid_column": null,
            "overflow_y": null,
            "overflow_x": null,
            "grid_auto_flow": null,
            "grid_area": null,
            "grid_template_columns": null,
            "flex": null,
            "_model_name": "LayoutModel",
            "justify_items": null,
            "grid_row": null,
            "max_height": null,
            "align_content": null,
            "visibility": null,
            "align_self": null,
            "height": null,
            "min_height": null,
            "padding": null,
            "grid_auto_rows": null,
            "grid_gap": null,
            "max_width": null,
            "order": null,
            "_view_module_version": "1.2.0",
            "grid_template_areas": null,
            "object_position": null,
            "object_fit": null,
            "grid_auto_columns": null,
            "margin": null,
            "display": null,
            "left": null
          }
        },
        "fc1ce21b2aab40d3b523abe42d2579d5": {
          "model_module": "@jupyter-widgets/controls",
          "model_name": "HBoxModel",
          "state": {
            "_view_name": "HBoxView",
            "_dom_classes": [],
            "_model_name": "HBoxModel",
            "_view_module": "@jupyter-widgets/controls",
            "_model_module_version": "1.5.0",
            "_view_count": null,
            "_view_module_version": "1.5.0",
            "box_style": "",
            "layout": "IPY_MODEL_e858afc98fdd4422bf8adbf40d55dd46",
            "_model_module": "@jupyter-widgets/controls",
            "children": [
              "IPY_MODEL_1cd4dac844e049589ebd29be7be74542",
              "IPY_MODEL_1a6b08d3377b4bcf8f94cca19b4b0ac2"
            ]
          }
        },
        "e858afc98fdd4422bf8adbf40d55dd46": {
          "model_module": "@jupyter-widgets/base",
          "model_name": "LayoutModel",
          "state": {
            "_view_name": "LayoutView",
            "grid_template_rows": null,
            "right": null,
            "justify_content": null,
            "_view_module": "@jupyter-widgets/base",
            "overflow": null,
            "_model_module_version": "1.2.0",
            "_view_count": null,
            "flex_flow": null,
            "width": null,
            "min_width": null,
            "border": null,
            "align_items": null,
            "bottom": null,
            "_model_module": "@jupyter-widgets/base",
            "top": null,
            "grid_column": null,
            "overflow_y": null,
            "overflow_x": null,
            "grid_auto_flow": null,
            "grid_area": null,
            "grid_template_columns": null,
            "flex": null,
            "_model_name": "LayoutModel",
            "justify_items": null,
            "grid_row": null,
            "max_height": null,
            "align_content": null,
            "visibility": null,
            "align_self": null,
            "height": null,
            "min_height": null,
            "padding": null,
            "grid_auto_rows": null,
            "grid_gap": null,
            "max_width": null,
            "order": null,
            "_view_module_version": "1.2.0",
            "grid_template_areas": null,
            "object_position": null,
            "object_fit": null,
            "grid_auto_columns": null,
            "margin": null,
            "display": null,
            "left": null
          }
        },
        "1cd4dac844e049589ebd29be7be74542": {
          "model_module": "@jupyter-widgets/controls",
          "model_name": "FloatProgressModel",
          "state": {
            "_view_name": "ProgressView",
            "style": "IPY_MODEL_d9b9dc9bbc194c1d9c2bf0da1c3be83a",
            "_dom_classes": [],
            "description": "100%",
            "_model_name": "FloatProgressModel",
            "bar_style": "",
            "max": 1000,
            "_view_module": "@jupyter-widgets/controls",
            "_model_module_version": "1.5.0",
            "value": 1000,
            "_view_count": null,
            "_view_module_version": "1.5.0",
            "orientation": "horizontal",
            "min": 0,
            "description_tooltip": null,
            "_model_module": "@jupyter-widgets/controls",
            "layout": "IPY_MODEL_96347f49df2241b59284b4fb2e170a76"
          }
        },
        "1a6b08d3377b4bcf8f94cca19b4b0ac2": {
          "model_module": "@jupyter-widgets/controls",
          "model_name": "HTMLModel",
          "state": {
            "_view_name": "HTMLView",
            "style": "IPY_MODEL_0b8c9809313a460393dc671d43762c14",
            "_dom_classes": [],
            "description": "",
            "_model_name": "HTMLModel",
            "placeholder": "​",
            "_view_module": "@jupyter-widgets/controls",
            "_model_module_version": "1.5.0",
            "value": " 1000/1000 [00:03&lt;00:00, 320.06it/s]",
            "_view_count": null,
            "_view_module_version": "1.5.0",
            "description_tooltip": null,
            "_model_module": "@jupyter-widgets/controls",
            "layout": "IPY_MODEL_b8fe886d918748ddbe4dcb2214130e68"
          }
        },
        "d9b9dc9bbc194c1d9c2bf0da1c3be83a": {
          "model_module": "@jupyter-widgets/controls",
          "model_name": "ProgressStyleModel",
          "state": {
            "_view_name": "StyleView",
            "_model_name": "ProgressStyleModel",
            "description_width": "initial",
            "_view_module": "@jupyter-widgets/base",
            "_model_module_version": "1.5.0",
            "_view_count": null,
            "_view_module_version": "1.2.0",
            "bar_color": null,
            "_model_module": "@jupyter-widgets/controls"
          }
        },
        "96347f49df2241b59284b4fb2e170a76": {
          "model_module": "@jupyter-widgets/base",
          "model_name": "LayoutModel",
          "state": {
            "_view_name": "LayoutView",
            "grid_template_rows": null,
            "right": null,
            "justify_content": null,
            "_view_module": "@jupyter-widgets/base",
            "overflow": null,
            "_model_module_version": "1.2.0",
            "_view_count": null,
            "flex_flow": null,
            "width": null,
            "min_width": null,
            "border": null,
            "align_items": null,
            "bottom": null,
            "_model_module": "@jupyter-widgets/base",
            "top": null,
            "grid_column": null,
            "overflow_y": null,
            "overflow_x": null,
            "grid_auto_flow": null,
            "grid_area": null,
            "grid_template_columns": null,
            "flex": null,
            "_model_name": "LayoutModel",
            "justify_items": null,
            "grid_row": null,
            "max_height": null,
            "align_content": null,
            "visibility": null,
            "align_self": null,
            "height": null,
            "min_height": null,
            "padding": null,
            "grid_auto_rows": null,
            "grid_gap": null,
            "max_width": null,
            "order": null,
            "_view_module_version": "1.2.0",
            "grid_template_areas": null,
            "object_position": null,
            "object_fit": null,
            "grid_auto_columns": null,
            "margin": null,
            "display": null,
            "left": null
          }
        },
        "0b8c9809313a460393dc671d43762c14": {
          "model_module": "@jupyter-widgets/controls",
          "model_name": "DescriptionStyleModel",
          "state": {
            "_view_name": "StyleView",
            "_model_name": "DescriptionStyleModel",
            "description_width": "",
            "_view_module": "@jupyter-widgets/base",
            "_model_module_version": "1.5.0",
            "_view_count": null,
            "_view_module_version": "1.2.0",
            "_model_module": "@jupyter-widgets/controls"
          }
        },
        "b8fe886d918748ddbe4dcb2214130e68": {
          "model_module": "@jupyter-widgets/base",
          "model_name": "LayoutModel",
          "state": {
            "_view_name": "LayoutView",
            "grid_template_rows": null,
            "right": null,
            "justify_content": null,
            "_view_module": "@jupyter-widgets/base",
            "overflow": null,
            "_model_module_version": "1.2.0",
            "_view_count": null,
            "flex_flow": null,
            "width": null,
            "min_width": null,
            "border": null,
            "align_items": null,
            "bottom": null,
            "_model_module": "@jupyter-widgets/base",
            "top": null,
            "grid_column": null,
            "overflow_y": null,
            "overflow_x": null,
            "grid_auto_flow": null,
            "grid_area": null,
            "grid_template_columns": null,
            "flex": null,
            "_model_name": "LayoutModel",
            "justify_items": null,
            "grid_row": null,
            "max_height": null,
            "align_content": null,
            "visibility": null,
            "align_self": null,
            "height": null,
            "min_height": null,
            "padding": null,
            "grid_auto_rows": null,
            "grid_gap": null,
            "max_width": null,
            "order": null,
            "_view_module_version": "1.2.0",
            "grid_template_areas": null,
            "object_position": null,
            "object_fit": null,
            "grid_auto_columns": null,
            "margin": null,
            "display": null,
            "left": null
          }
        },
        "cd9af8d1e0b342c8842735a58858329c": {
          "model_module": "@jupyter-widgets/controls",
          "model_name": "HBoxModel",
          "state": {
            "_view_name": "HBoxView",
            "_dom_classes": [],
            "_model_name": "HBoxModel",
            "_view_module": "@jupyter-widgets/controls",
            "_model_module_version": "1.5.0",
            "_view_count": null,
            "_view_module_version": "1.5.0",
            "box_style": "",
            "layout": "IPY_MODEL_0b7ab6d2c2894409aefec5d62c77d7e0",
            "_model_module": "@jupyter-widgets/controls",
            "children": [
              "IPY_MODEL_4e451fac097f456bae90d3d3ac76ed4f",
              "IPY_MODEL_668e9b51436f4b959fb965d3d7a2ea37"
            ]
          }
        },
        "0b7ab6d2c2894409aefec5d62c77d7e0": {
          "model_module": "@jupyter-widgets/base",
          "model_name": "LayoutModel",
          "state": {
            "_view_name": "LayoutView",
            "grid_template_rows": null,
            "right": null,
            "justify_content": null,
            "_view_module": "@jupyter-widgets/base",
            "overflow": null,
            "_model_module_version": "1.2.0",
            "_view_count": null,
            "flex_flow": null,
            "width": null,
            "min_width": null,
            "border": null,
            "align_items": null,
            "bottom": null,
            "_model_module": "@jupyter-widgets/base",
            "top": null,
            "grid_column": null,
            "overflow_y": null,
            "overflow_x": null,
            "grid_auto_flow": null,
            "grid_area": null,
            "grid_template_columns": null,
            "flex": null,
            "_model_name": "LayoutModel",
            "justify_items": null,
            "grid_row": null,
            "max_height": null,
            "align_content": null,
            "visibility": null,
            "align_self": null,
            "height": null,
            "min_height": null,
            "padding": null,
            "grid_auto_rows": null,
            "grid_gap": null,
            "max_width": null,
            "order": null,
            "_view_module_version": "1.2.0",
            "grid_template_areas": null,
            "object_position": null,
            "object_fit": null,
            "grid_auto_columns": null,
            "margin": null,
            "display": null,
            "left": null
          }
        },
        "4e451fac097f456bae90d3d3ac76ed4f": {
          "model_module": "@jupyter-widgets/controls",
          "model_name": "FloatProgressModel",
          "state": {
            "_view_name": "ProgressView",
            "style": "IPY_MODEL_55eb61657b004d939ae783a18545e7b2",
            "_dom_classes": [],
            "description": "100%",
            "_model_name": "FloatProgressModel",
            "bar_style": "",
            "max": 1000,
            "_view_module": "@jupyter-widgets/controls",
            "_model_module_version": "1.5.0",
            "value": 1000,
            "_view_count": null,
            "_view_module_version": "1.5.0",
            "orientation": "horizontal",
            "min": 0,
            "description_tooltip": null,
            "_model_module": "@jupyter-widgets/controls",
            "layout": "IPY_MODEL_7622b9cd3c9e43f288bda0436f1748f1"
          }
        },
        "668e9b51436f4b959fb965d3d7a2ea37": {
          "model_module": "@jupyter-widgets/controls",
          "model_name": "HTMLModel",
          "state": {
            "_view_name": "HTMLView",
            "style": "IPY_MODEL_9afcf70439a34da0ac10a03e6507a738",
            "_dom_classes": [],
            "description": "",
            "_model_name": "HTMLModel",
            "placeholder": "​",
            "_view_module": "@jupyter-widgets/controls",
            "_model_module_version": "1.5.0",
            "value": " 1000/1000 [00:03&lt;00:00, 311.61it/s]",
            "_view_count": null,
            "_view_module_version": "1.5.0",
            "description_tooltip": null,
            "_model_module": "@jupyter-widgets/controls",
            "layout": "IPY_MODEL_351907ffb2c34f15a34bd4b7733fd27e"
          }
        },
        "55eb61657b004d939ae783a18545e7b2": {
          "model_module": "@jupyter-widgets/controls",
          "model_name": "ProgressStyleModel",
          "state": {
            "_view_name": "StyleView",
            "_model_name": "ProgressStyleModel",
            "description_width": "initial",
            "_view_module": "@jupyter-widgets/base",
            "_model_module_version": "1.5.0",
            "_view_count": null,
            "_view_module_version": "1.2.0",
            "bar_color": null,
            "_model_module": "@jupyter-widgets/controls"
          }
        },
        "7622b9cd3c9e43f288bda0436f1748f1": {
          "model_module": "@jupyter-widgets/base",
          "model_name": "LayoutModel",
          "state": {
            "_view_name": "LayoutView",
            "grid_template_rows": null,
            "right": null,
            "justify_content": null,
            "_view_module": "@jupyter-widgets/base",
            "overflow": null,
            "_model_module_version": "1.2.0",
            "_view_count": null,
            "flex_flow": null,
            "width": null,
            "min_width": null,
            "border": null,
            "align_items": null,
            "bottom": null,
            "_model_module": "@jupyter-widgets/base",
            "top": null,
            "grid_column": null,
            "overflow_y": null,
            "overflow_x": null,
            "grid_auto_flow": null,
            "grid_area": null,
            "grid_template_columns": null,
            "flex": null,
            "_model_name": "LayoutModel",
            "justify_items": null,
            "grid_row": null,
            "max_height": null,
            "align_content": null,
            "visibility": null,
            "align_self": null,
            "height": null,
            "min_height": null,
            "padding": null,
            "grid_auto_rows": null,
            "grid_gap": null,
            "max_width": null,
            "order": null,
            "_view_module_version": "1.2.0",
            "grid_template_areas": null,
            "object_position": null,
            "object_fit": null,
            "grid_auto_columns": null,
            "margin": null,
            "display": null,
            "left": null
          }
        },
        "9afcf70439a34da0ac10a03e6507a738": {
          "model_module": "@jupyter-widgets/controls",
          "model_name": "DescriptionStyleModel",
          "state": {
            "_view_name": "StyleView",
            "_model_name": "DescriptionStyleModel",
            "description_width": "",
            "_view_module": "@jupyter-widgets/base",
            "_model_module_version": "1.5.0",
            "_view_count": null,
            "_view_module_version": "1.2.0",
            "_model_module": "@jupyter-widgets/controls"
          }
        },
        "351907ffb2c34f15a34bd4b7733fd27e": {
          "model_module": "@jupyter-widgets/base",
          "model_name": "LayoutModel",
          "state": {
            "_view_name": "LayoutView",
            "grid_template_rows": null,
            "right": null,
            "justify_content": null,
            "_view_module": "@jupyter-widgets/base",
            "overflow": null,
            "_model_module_version": "1.2.0",
            "_view_count": null,
            "flex_flow": null,
            "width": null,
            "min_width": null,
            "border": null,
            "align_items": null,
            "bottom": null,
            "_model_module": "@jupyter-widgets/base",
            "top": null,
            "grid_column": null,
            "overflow_y": null,
            "overflow_x": null,
            "grid_auto_flow": null,
            "grid_area": null,
            "grid_template_columns": null,
            "flex": null,
            "_model_name": "LayoutModel",
            "justify_items": null,
            "grid_row": null,
            "max_height": null,
            "align_content": null,
            "visibility": null,
            "align_self": null,
            "height": null,
            "min_height": null,
            "padding": null,
            "grid_auto_rows": null,
            "grid_gap": null,
            "max_width": null,
            "order": null,
            "_view_module_version": "1.2.0",
            "grid_template_areas": null,
            "object_position": null,
            "object_fit": null,
            "grid_auto_columns": null,
            "margin": null,
            "display": null,
            "left": null
          }
        },
        "955a8482e6f346f89327457a04d6dff0": {
          "model_module": "@jupyter-widgets/controls",
          "model_name": "HBoxModel",
          "state": {
            "_view_name": "HBoxView",
            "_dom_classes": [],
            "_model_name": "HBoxModel",
            "_view_module": "@jupyter-widgets/controls",
            "_model_module_version": "1.5.0",
            "_view_count": null,
            "_view_module_version": "1.5.0",
            "box_style": "",
            "layout": "IPY_MODEL_99c26423341341e38362c43e0bdfc2a3",
            "_model_module": "@jupyter-widgets/controls",
            "children": [
              "IPY_MODEL_5d3d3361632f4d99b202cf270dfc2d51",
              "IPY_MODEL_e568af9f81ba426b91a23bd233dd254b"
            ]
          }
        },
        "99c26423341341e38362c43e0bdfc2a3": {
          "model_module": "@jupyter-widgets/base",
          "model_name": "LayoutModel",
          "state": {
            "_view_name": "LayoutView",
            "grid_template_rows": null,
            "right": null,
            "justify_content": null,
            "_view_module": "@jupyter-widgets/base",
            "overflow": null,
            "_model_module_version": "1.2.0",
            "_view_count": null,
            "flex_flow": null,
            "width": null,
            "min_width": null,
            "border": null,
            "align_items": null,
            "bottom": null,
            "_model_module": "@jupyter-widgets/base",
            "top": null,
            "grid_column": null,
            "overflow_y": null,
            "overflow_x": null,
            "grid_auto_flow": null,
            "grid_area": null,
            "grid_template_columns": null,
            "flex": null,
            "_model_name": "LayoutModel",
            "justify_items": null,
            "grid_row": null,
            "max_height": null,
            "align_content": null,
            "visibility": null,
            "align_self": null,
            "height": null,
            "min_height": null,
            "padding": null,
            "grid_auto_rows": null,
            "grid_gap": null,
            "max_width": null,
            "order": null,
            "_view_module_version": "1.2.0",
            "grid_template_areas": null,
            "object_position": null,
            "object_fit": null,
            "grid_auto_columns": null,
            "margin": null,
            "display": null,
            "left": null
          }
        },
        "5d3d3361632f4d99b202cf270dfc2d51": {
          "model_module": "@jupyter-widgets/controls",
          "model_name": "FloatProgressModel",
          "state": {
            "_view_name": "ProgressView",
            "style": "IPY_MODEL_e6161abd4a244be6ba51b6c79f1bc409",
            "_dom_classes": [],
            "description": "100%",
            "_model_name": "FloatProgressModel",
            "bar_style": "",
            "max": 1000,
            "_view_module": "@jupyter-widgets/controls",
            "_model_module_version": "1.5.0",
            "value": 1000,
            "_view_count": null,
            "_view_module_version": "1.5.0",
            "orientation": "horizontal",
            "min": 0,
            "description_tooltip": null,
            "_model_module": "@jupyter-widgets/controls",
            "layout": "IPY_MODEL_eb1412d2e7ff4d8e848da70fe97bab86"
          }
        },
        "e568af9f81ba426b91a23bd233dd254b": {
          "model_module": "@jupyter-widgets/controls",
          "model_name": "HTMLModel",
          "state": {
            "_view_name": "HTMLView",
            "style": "IPY_MODEL_b63092dc4da24cabb165e725d4313c2a",
            "_dom_classes": [],
            "description": "",
            "_model_name": "HTMLModel",
            "placeholder": "​",
            "_view_module": "@jupyter-widgets/controls",
            "_model_module_version": "1.5.0",
            "value": " 1000/1000 [00:03&lt;00:00, 324.24it/s]",
            "_view_count": null,
            "_view_module_version": "1.5.0",
            "description_tooltip": null,
            "_model_module": "@jupyter-widgets/controls",
            "layout": "IPY_MODEL_54a9e68f392d44a591fa0ce5362c4544"
          }
        },
        "e6161abd4a244be6ba51b6c79f1bc409": {
          "model_module": "@jupyter-widgets/controls",
          "model_name": "ProgressStyleModel",
          "state": {
            "_view_name": "StyleView",
            "_model_name": "ProgressStyleModel",
            "description_width": "initial",
            "_view_module": "@jupyter-widgets/base",
            "_model_module_version": "1.5.0",
            "_view_count": null,
            "_view_module_version": "1.2.0",
            "bar_color": null,
            "_model_module": "@jupyter-widgets/controls"
          }
        },
        "eb1412d2e7ff4d8e848da70fe97bab86": {
          "model_module": "@jupyter-widgets/base",
          "model_name": "LayoutModel",
          "state": {
            "_view_name": "LayoutView",
            "grid_template_rows": null,
            "right": null,
            "justify_content": null,
            "_view_module": "@jupyter-widgets/base",
            "overflow": null,
            "_model_module_version": "1.2.0",
            "_view_count": null,
            "flex_flow": null,
            "width": null,
            "min_width": null,
            "border": null,
            "align_items": null,
            "bottom": null,
            "_model_module": "@jupyter-widgets/base",
            "top": null,
            "grid_column": null,
            "overflow_y": null,
            "overflow_x": null,
            "grid_auto_flow": null,
            "grid_area": null,
            "grid_template_columns": null,
            "flex": null,
            "_model_name": "LayoutModel",
            "justify_items": null,
            "grid_row": null,
            "max_height": null,
            "align_content": null,
            "visibility": null,
            "align_self": null,
            "height": null,
            "min_height": null,
            "padding": null,
            "grid_auto_rows": null,
            "grid_gap": null,
            "max_width": null,
            "order": null,
            "_view_module_version": "1.2.0",
            "grid_template_areas": null,
            "object_position": null,
            "object_fit": null,
            "grid_auto_columns": null,
            "margin": null,
            "display": null,
            "left": null
          }
        },
        "b63092dc4da24cabb165e725d4313c2a": {
          "model_module": "@jupyter-widgets/controls",
          "model_name": "DescriptionStyleModel",
          "state": {
            "_view_name": "StyleView",
            "_model_name": "DescriptionStyleModel",
            "description_width": "",
            "_view_module": "@jupyter-widgets/base",
            "_model_module_version": "1.5.0",
            "_view_count": null,
            "_view_module_version": "1.2.0",
            "_model_module": "@jupyter-widgets/controls"
          }
        },
        "54a9e68f392d44a591fa0ce5362c4544": {
          "model_module": "@jupyter-widgets/base",
          "model_name": "LayoutModel",
          "state": {
            "_view_name": "LayoutView",
            "grid_template_rows": null,
            "right": null,
            "justify_content": null,
            "_view_module": "@jupyter-widgets/base",
            "overflow": null,
            "_model_module_version": "1.2.0",
            "_view_count": null,
            "flex_flow": null,
            "width": null,
            "min_width": null,
            "border": null,
            "align_items": null,
            "bottom": null,
            "_model_module": "@jupyter-widgets/base",
            "top": null,
            "grid_column": null,
            "overflow_y": null,
            "overflow_x": null,
            "grid_auto_flow": null,
            "grid_area": null,
            "grid_template_columns": null,
            "flex": null,
            "_model_name": "LayoutModel",
            "justify_items": null,
            "grid_row": null,
            "max_height": null,
            "align_content": null,
            "visibility": null,
            "align_self": null,
            "height": null,
            "min_height": null,
            "padding": null,
            "grid_auto_rows": null,
            "grid_gap": null,
            "max_width": null,
            "order": null,
            "_view_module_version": "1.2.0",
            "grid_template_areas": null,
            "object_position": null,
            "object_fit": null,
            "grid_auto_columns": null,
            "margin": null,
            "display": null,
            "left": null
          }
        },
        "f62f21bf3cf74d6ebbea511d3fffb86f": {
          "model_module": "@jupyter-widgets/controls",
          "model_name": "HBoxModel",
          "state": {
            "_view_name": "HBoxView",
            "_dom_classes": [],
            "_model_name": "HBoxModel",
            "_view_module": "@jupyter-widgets/controls",
            "_model_module_version": "1.5.0",
            "_view_count": null,
            "_view_module_version": "1.5.0",
            "box_style": "",
            "layout": "IPY_MODEL_d5d2c1f1bbdd44059442343ac4a325f9",
            "_model_module": "@jupyter-widgets/controls",
            "children": [
              "IPY_MODEL_11c316e2243e4481be20d9b774b4bb92",
              "IPY_MODEL_17008a0cdbcb4ccbbed1c24b52b83d01"
            ]
          }
        },
        "d5d2c1f1bbdd44059442343ac4a325f9": {
          "model_module": "@jupyter-widgets/base",
          "model_name": "LayoutModel",
          "state": {
            "_view_name": "LayoutView",
            "grid_template_rows": null,
            "right": null,
            "justify_content": null,
            "_view_module": "@jupyter-widgets/base",
            "overflow": null,
            "_model_module_version": "1.2.0",
            "_view_count": null,
            "flex_flow": null,
            "width": null,
            "min_width": null,
            "border": null,
            "align_items": null,
            "bottom": null,
            "_model_module": "@jupyter-widgets/base",
            "top": null,
            "grid_column": null,
            "overflow_y": null,
            "overflow_x": null,
            "grid_auto_flow": null,
            "grid_area": null,
            "grid_template_columns": null,
            "flex": null,
            "_model_name": "LayoutModel",
            "justify_items": null,
            "grid_row": null,
            "max_height": null,
            "align_content": null,
            "visibility": null,
            "align_self": null,
            "height": null,
            "min_height": null,
            "padding": null,
            "grid_auto_rows": null,
            "grid_gap": null,
            "max_width": null,
            "order": null,
            "_view_module_version": "1.2.0",
            "grid_template_areas": null,
            "object_position": null,
            "object_fit": null,
            "grid_auto_columns": null,
            "margin": null,
            "display": null,
            "left": null
          }
        },
        "11c316e2243e4481be20d9b774b4bb92": {
          "model_module": "@jupyter-widgets/controls",
          "model_name": "FloatProgressModel",
          "state": {
            "_view_name": "ProgressView",
            "style": "IPY_MODEL_dcd3964c931849beb48e93618344c793",
            "_dom_classes": [],
            "description": "100%",
            "_model_name": "FloatProgressModel",
            "bar_style": "",
            "max": 1000,
            "_view_module": "@jupyter-widgets/controls",
            "_model_module_version": "1.5.0",
            "value": 1000,
            "_view_count": null,
            "_view_module_version": "1.5.0",
            "orientation": "horizontal",
            "min": 0,
            "description_tooltip": null,
            "_model_module": "@jupyter-widgets/controls",
            "layout": "IPY_MODEL_9524335b60ce434fb80bdaaaead30bcd"
          }
        },
        "17008a0cdbcb4ccbbed1c24b52b83d01": {
          "model_module": "@jupyter-widgets/controls",
          "model_name": "HTMLModel",
          "state": {
            "_view_name": "HTMLView",
            "style": "IPY_MODEL_9de8c14c6bf94500a38eb8b816a912e4",
            "_dom_classes": [],
            "description": "",
            "_model_name": "HTMLModel",
            "placeholder": "​",
            "_view_module": "@jupyter-widgets/controls",
            "_model_module_version": "1.5.0",
            "value": " 1000/1000 [00:03&lt;00:00, 323.11it/s]",
            "_view_count": null,
            "_view_module_version": "1.5.0",
            "description_tooltip": null,
            "_model_module": "@jupyter-widgets/controls",
            "layout": "IPY_MODEL_8ad41e489dc64210ad65929d751fa4d1"
          }
        },
        "dcd3964c931849beb48e93618344c793": {
          "model_module": "@jupyter-widgets/controls",
          "model_name": "ProgressStyleModel",
          "state": {
            "_view_name": "StyleView",
            "_model_name": "ProgressStyleModel",
            "description_width": "initial",
            "_view_module": "@jupyter-widgets/base",
            "_model_module_version": "1.5.0",
            "_view_count": null,
            "_view_module_version": "1.2.0",
            "bar_color": null,
            "_model_module": "@jupyter-widgets/controls"
          }
        },
        "9524335b60ce434fb80bdaaaead30bcd": {
          "model_module": "@jupyter-widgets/base",
          "model_name": "LayoutModel",
          "state": {
            "_view_name": "LayoutView",
            "grid_template_rows": null,
            "right": null,
            "justify_content": null,
            "_view_module": "@jupyter-widgets/base",
            "overflow": null,
            "_model_module_version": "1.2.0",
            "_view_count": null,
            "flex_flow": null,
            "width": null,
            "min_width": null,
            "border": null,
            "align_items": null,
            "bottom": null,
            "_model_module": "@jupyter-widgets/base",
            "top": null,
            "grid_column": null,
            "overflow_y": null,
            "overflow_x": null,
            "grid_auto_flow": null,
            "grid_area": null,
            "grid_template_columns": null,
            "flex": null,
            "_model_name": "LayoutModel",
            "justify_items": null,
            "grid_row": null,
            "max_height": null,
            "align_content": null,
            "visibility": null,
            "align_self": null,
            "height": null,
            "min_height": null,
            "padding": null,
            "grid_auto_rows": null,
            "grid_gap": null,
            "max_width": null,
            "order": null,
            "_view_module_version": "1.2.0",
            "grid_template_areas": null,
            "object_position": null,
            "object_fit": null,
            "grid_auto_columns": null,
            "margin": null,
            "display": null,
            "left": null
          }
        },
        "9de8c14c6bf94500a38eb8b816a912e4": {
          "model_module": "@jupyter-widgets/controls",
          "model_name": "DescriptionStyleModel",
          "state": {
            "_view_name": "StyleView",
            "_model_name": "DescriptionStyleModel",
            "description_width": "",
            "_view_module": "@jupyter-widgets/base",
            "_model_module_version": "1.5.0",
            "_view_count": null,
            "_view_module_version": "1.2.0",
            "_model_module": "@jupyter-widgets/controls"
          }
        },
        "8ad41e489dc64210ad65929d751fa4d1": {
          "model_module": "@jupyter-widgets/base",
          "model_name": "LayoutModel",
          "state": {
            "_view_name": "LayoutView",
            "grid_template_rows": null,
            "right": null,
            "justify_content": null,
            "_view_module": "@jupyter-widgets/base",
            "overflow": null,
            "_model_module_version": "1.2.0",
            "_view_count": null,
            "flex_flow": null,
            "width": null,
            "min_width": null,
            "border": null,
            "align_items": null,
            "bottom": null,
            "_model_module": "@jupyter-widgets/base",
            "top": null,
            "grid_column": null,
            "overflow_y": null,
            "overflow_x": null,
            "grid_auto_flow": null,
            "grid_area": null,
            "grid_template_columns": null,
            "flex": null,
            "_model_name": "LayoutModel",
            "justify_items": null,
            "grid_row": null,
            "max_height": null,
            "align_content": null,
            "visibility": null,
            "align_self": null,
            "height": null,
            "min_height": null,
            "padding": null,
            "grid_auto_rows": null,
            "grid_gap": null,
            "max_width": null,
            "order": null,
            "_view_module_version": "1.2.0",
            "grid_template_areas": null,
            "object_position": null,
            "object_fit": null,
            "grid_auto_columns": null,
            "margin": null,
            "display": null,
            "left": null
          }
        },
        "315a321e937443039ca9cfc356a409e7": {
          "model_module": "@jupyter-widgets/controls",
          "model_name": "HBoxModel",
          "state": {
            "_view_name": "HBoxView",
            "_dom_classes": [],
            "_model_name": "HBoxModel",
            "_view_module": "@jupyter-widgets/controls",
            "_model_module_version": "1.5.0",
            "_view_count": null,
            "_view_module_version": "1.5.0",
            "box_style": "",
            "layout": "IPY_MODEL_c49b09399a044ba8aab8188010301046",
            "_model_module": "@jupyter-widgets/controls",
            "children": [
              "IPY_MODEL_3f422bfc05de45d6a93f1d9d3c37eb15",
              "IPY_MODEL_29ffc9ddb5d044d1a081ca9f890a43c4"
            ]
          }
        },
        "c49b09399a044ba8aab8188010301046": {
          "model_module": "@jupyter-widgets/base",
          "model_name": "LayoutModel",
          "state": {
            "_view_name": "LayoutView",
            "grid_template_rows": null,
            "right": null,
            "justify_content": null,
            "_view_module": "@jupyter-widgets/base",
            "overflow": null,
            "_model_module_version": "1.2.0",
            "_view_count": null,
            "flex_flow": null,
            "width": null,
            "min_width": null,
            "border": null,
            "align_items": null,
            "bottom": null,
            "_model_module": "@jupyter-widgets/base",
            "top": null,
            "grid_column": null,
            "overflow_y": null,
            "overflow_x": null,
            "grid_auto_flow": null,
            "grid_area": null,
            "grid_template_columns": null,
            "flex": null,
            "_model_name": "LayoutModel",
            "justify_items": null,
            "grid_row": null,
            "max_height": null,
            "align_content": null,
            "visibility": null,
            "align_self": null,
            "height": null,
            "min_height": null,
            "padding": null,
            "grid_auto_rows": null,
            "grid_gap": null,
            "max_width": null,
            "order": null,
            "_view_module_version": "1.2.0",
            "grid_template_areas": null,
            "object_position": null,
            "object_fit": null,
            "grid_auto_columns": null,
            "margin": null,
            "display": null,
            "left": null
          }
        },
        "3f422bfc05de45d6a93f1d9d3c37eb15": {
          "model_module": "@jupyter-widgets/controls",
          "model_name": "FloatProgressModel",
          "state": {
            "_view_name": "ProgressView",
            "style": "IPY_MODEL_b7f8b55e884c43078c214fc8e3172d1e",
            "_dom_classes": [],
            "description": "100%",
            "_model_name": "FloatProgressModel",
            "bar_style": "",
            "max": 1000,
            "_view_module": "@jupyter-widgets/controls",
            "_model_module_version": "1.5.0",
            "value": 1000,
            "_view_count": null,
            "_view_module_version": "1.5.0",
            "orientation": "horizontal",
            "min": 0,
            "description_tooltip": null,
            "_model_module": "@jupyter-widgets/controls",
            "layout": "IPY_MODEL_74bf4bc1c854469a8433c7a08d21da01"
          }
        },
        "29ffc9ddb5d044d1a081ca9f890a43c4": {
          "model_module": "@jupyter-widgets/controls",
          "model_name": "HTMLModel",
          "state": {
            "_view_name": "HTMLView",
            "style": "IPY_MODEL_a528a6e4ef2a4e8e9b3d4e009f918e93",
            "_dom_classes": [],
            "description": "",
            "_model_name": "HTMLModel",
            "placeholder": "​",
            "_view_module": "@jupyter-widgets/controls",
            "_model_module_version": "1.5.0",
            "value": " 1000/1000 [00:03&lt;00:00, 311.56it/s]",
            "_view_count": null,
            "_view_module_version": "1.5.0",
            "description_tooltip": null,
            "_model_module": "@jupyter-widgets/controls",
            "layout": "IPY_MODEL_583b04447593470ab12ea6dd6ddae34b"
          }
        },
        "b7f8b55e884c43078c214fc8e3172d1e": {
          "model_module": "@jupyter-widgets/controls",
          "model_name": "ProgressStyleModel",
          "state": {
            "_view_name": "StyleView",
            "_model_name": "ProgressStyleModel",
            "description_width": "initial",
            "_view_module": "@jupyter-widgets/base",
            "_model_module_version": "1.5.0",
            "_view_count": null,
            "_view_module_version": "1.2.0",
            "bar_color": null,
            "_model_module": "@jupyter-widgets/controls"
          }
        },
        "74bf4bc1c854469a8433c7a08d21da01": {
          "model_module": "@jupyter-widgets/base",
          "model_name": "LayoutModel",
          "state": {
            "_view_name": "LayoutView",
            "grid_template_rows": null,
            "right": null,
            "justify_content": null,
            "_view_module": "@jupyter-widgets/base",
            "overflow": null,
            "_model_module_version": "1.2.0",
            "_view_count": null,
            "flex_flow": null,
            "width": null,
            "min_width": null,
            "border": null,
            "align_items": null,
            "bottom": null,
            "_model_module": "@jupyter-widgets/base",
            "top": null,
            "grid_column": null,
            "overflow_y": null,
            "overflow_x": null,
            "grid_auto_flow": null,
            "grid_area": null,
            "grid_template_columns": null,
            "flex": null,
            "_model_name": "LayoutModel",
            "justify_items": null,
            "grid_row": null,
            "max_height": null,
            "align_content": null,
            "visibility": null,
            "align_self": null,
            "height": null,
            "min_height": null,
            "padding": null,
            "grid_auto_rows": null,
            "grid_gap": null,
            "max_width": null,
            "order": null,
            "_view_module_version": "1.2.0",
            "grid_template_areas": null,
            "object_position": null,
            "object_fit": null,
            "grid_auto_columns": null,
            "margin": null,
            "display": null,
            "left": null
          }
        },
        "a528a6e4ef2a4e8e9b3d4e009f918e93": {
          "model_module": "@jupyter-widgets/controls",
          "model_name": "DescriptionStyleModel",
          "state": {
            "_view_name": "StyleView",
            "_model_name": "DescriptionStyleModel",
            "description_width": "",
            "_view_module": "@jupyter-widgets/base",
            "_model_module_version": "1.5.0",
            "_view_count": null,
            "_view_module_version": "1.2.0",
            "_model_module": "@jupyter-widgets/controls"
          }
        },
        "583b04447593470ab12ea6dd6ddae34b": {
          "model_module": "@jupyter-widgets/base",
          "model_name": "LayoutModel",
          "state": {
            "_view_name": "LayoutView",
            "grid_template_rows": null,
            "right": null,
            "justify_content": null,
            "_view_module": "@jupyter-widgets/base",
            "overflow": null,
            "_model_module_version": "1.2.0",
            "_view_count": null,
            "flex_flow": null,
            "width": null,
            "min_width": null,
            "border": null,
            "align_items": null,
            "bottom": null,
            "_model_module": "@jupyter-widgets/base",
            "top": null,
            "grid_column": null,
            "overflow_y": null,
            "overflow_x": null,
            "grid_auto_flow": null,
            "grid_area": null,
            "grid_template_columns": null,
            "flex": null,
            "_model_name": "LayoutModel",
            "justify_items": null,
            "grid_row": null,
            "max_height": null,
            "align_content": null,
            "visibility": null,
            "align_self": null,
            "height": null,
            "min_height": null,
            "padding": null,
            "grid_auto_rows": null,
            "grid_gap": null,
            "max_width": null,
            "order": null,
            "_view_module_version": "1.2.0",
            "grid_template_areas": null,
            "object_position": null,
            "object_fit": null,
            "grid_auto_columns": null,
            "margin": null,
            "display": null,
            "left": null
          }
        },
        "95dca64254c9482993e6d7bb581d2c1a": {
          "model_module": "@jupyter-widgets/controls",
          "model_name": "HBoxModel",
          "state": {
            "_view_name": "HBoxView",
            "_dom_classes": [],
            "_model_name": "HBoxModel",
            "_view_module": "@jupyter-widgets/controls",
            "_model_module_version": "1.5.0",
            "_view_count": null,
            "_view_module_version": "1.5.0",
            "box_style": "",
            "layout": "IPY_MODEL_bc3a76f7fa86491caa8a3a7167e7595b",
            "_model_module": "@jupyter-widgets/controls",
            "children": [
              "IPY_MODEL_a809c8542a4248db83a8c8505e354ccc",
              "IPY_MODEL_87ea548fb8184d2a96f891e8ce3b72d9"
            ]
          }
        },
        "bc3a76f7fa86491caa8a3a7167e7595b": {
          "model_module": "@jupyter-widgets/base",
          "model_name": "LayoutModel",
          "state": {
            "_view_name": "LayoutView",
            "grid_template_rows": null,
            "right": null,
            "justify_content": null,
            "_view_module": "@jupyter-widgets/base",
            "overflow": null,
            "_model_module_version": "1.2.0",
            "_view_count": null,
            "flex_flow": null,
            "width": null,
            "min_width": null,
            "border": null,
            "align_items": null,
            "bottom": null,
            "_model_module": "@jupyter-widgets/base",
            "top": null,
            "grid_column": null,
            "overflow_y": null,
            "overflow_x": null,
            "grid_auto_flow": null,
            "grid_area": null,
            "grid_template_columns": null,
            "flex": null,
            "_model_name": "LayoutModel",
            "justify_items": null,
            "grid_row": null,
            "max_height": null,
            "align_content": null,
            "visibility": null,
            "align_self": null,
            "height": null,
            "min_height": null,
            "padding": null,
            "grid_auto_rows": null,
            "grid_gap": null,
            "max_width": null,
            "order": null,
            "_view_module_version": "1.2.0",
            "grid_template_areas": null,
            "object_position": null,
            "object_fit": null,
            "grid_auto_columns": null,
            "margin": null,
            "display": null,
            "left": null
          }
        },
        "a809c8542a4248db83a8c8505e354ccc": {
          "model_module": "@jupyter-widgets/controls",
          "model_name": "FloatProgressModel",
          "state": {
            "_view_name": "ProgressView",
            "style": "IPY_MODEL_1de0e55697d642769ca98537eb4ba78a",
            "_dom_classes": [],
            "description": "100%",
            "_model_name": "FloatProgressModel",
            "bar_style": "",
            "max": 1000,
            "_view_module": "@jupyter-widgets/controls",
            "_model_module_version": "1.5.0",
            "value": 1000,
            "_view_count": null,
            "_view_module_version": "1.5.0",
            "orientation": "horizontal",
            "min": 0,
            "description_tooltip": null,
            "_model_module": "@jupyter-widgets/controls",
            "layout": "IPY_MODEL_2d14d0a0213a46d1a616682fceef73fa"
          }
        },
        "87ea548fb8184d2a96f891e8ce3b72d9": {
          "model_module": "@jupyter-widgets/controls",
          "model_name": "HTMLModel",
          "state": {
            "_view_name": "HTMLView",
            "style": "IPY_MODEL_3e495574660842368a3f4b19c3a39b16",
            "_dom_classes": [],
            "description": "",
            "_model_name": "HTMLModel",
            "placeholder": "​",
            "_view_module": "@jupyter-widgets/controls",
            "_model_module_version": "1.5.0",
            "value": " 1000/1000 [00:03&lt;00:00, 312.09it/s]",
            "_view_count": null,
            "_view_module_version": "1.5.0",
            "description_tooltip": null,
            "_model_module": "@jupyter-widgets/controls",
            "layout": "IPY_MODEL_f62ada207cdd4d3d9afaa066cbd09560"
          }
        },
        "1de0e55697d642769ca98537eb4ba78a": {
          "model_module": "@jupyter-widgets/controls",
          "model_name": "ProgressStyleModel",
          "state": {
            "_view_name": "StyleView",
            "_model_name": "ProgressStyleModel",
            "description_width": "initial",
            "_view_module": "@jupyter-widgets/base",
            "_model_module_version": "1.5.0",
            "_view_count": null,
            "_view_module_version": "1.2.0",
            "bar_color": null,
            "_model_module": "@jupyter-widgets/controls"
          }
        },
        "2d14d0a0213a46d1a616682fceef73fa": {
          "model_module": "@jupyter-widgets/base",
          "model_name": "LayoutModel",
          "state": {
            "_view_name": "LayoutView",
            "grid_template_rows": null,
            "right": null,
            "justify_content": null,
            "_view_module": "@jupyter-widgets/base",
            "overflow": null,
            "_model_module_version": "1.2.0",
            "_view_count": null,
            "flex_flow": null,
            "width": null,
            "min_width": null,
            "border": null,
            "align_items": null,
            "bottom": null,
            "_model_module": "@jupyter-widgets/base",
            "top": null,
            "grid_column": null,
            "overflow_y": null,
            "overflow_x": null,
            "grid_auto_flow": null,
            "grid_area": null,
            "grid_template_columns": null,
            "flex": null,
            "_model_name": "LayoutModel",
            "justify_items": null,
            "grid_row": null,
            "max_height": null,
            "align_content": null,
            "visibility": null,
            "align_self": null,
            "height": null,
            "min_height": null,
            "padding": null,
            "grid_auto_rows": null,
            "grid_gap": null,
            "max_width": null,
            "order": null,
            "_view_module_version": "1.2.0",
            "grid_template_areas": null,
            "object_position": null,
            "object_fit": null,
            "grid_auto_columns": null,
            "margin": null,
            "display": null,
            "left": null
          }
        },
        "3e495574660842368a3f4b19c3a39b16": {
          "model_module": "@jupyter-widgets/controls",
          "model_name": "DescriptionStyleModel",
          "state": {
            "_view_name": "StyleView",
            "_model_name": "DescriptionStyleModel",
            "description_width": "",
            "_view_module": "@jupyter-widgets/base",
            "_model_module_version": "1.5.0",
            "_view_count": null,
            "_view_module_version": "1.2.0",
            "_model_module": "@jupyter-widgets/controls"
          }
        },
        "f62ada207cdd4d3d9afaa066cbd09560": {
          "model_module": "@jupyter-widgets/base",
          "model_name": "LayoutModel",
          "state": {
            "_view_name": "LayoutView",
            "grid_template_rows": null,
            "right": null,
            "justify_content": null,
            "_view_module": "@jupyter-widgets/base",
            "overflow": null,
            "_model_module_version": "1.2.0",
            "_view_count": null,
            "flex_flow": null,
            "width": null,
            "min_width": null,
            "border": null,
            "align_items": null,
            "bottom": null,
            "_model_module": "@jupyter-widgets/base",
            "top": null,
            "grid_column": null,
            "overflow_y": null,
            "overflow_x": null,
            "grid_auto_flow": null,
            "grid_area": null,
            "grid_template_columns": null,
            "flex": null,
            "_model_name": "LayoutModel",
            "justify_items": null,
            "grid_row": null,
            "max_height": null,
            "align_content": null,
            "visibility": null,
            "align_self": null,
            "height": null,
            "min_height": null,
            "padding": null,
            "grid_auto_rows": null,
            "grid_gap": null,
            "max_width": null,
            "order": null,
            "_view_module_version": "1.2.0",
            "grid_template_areas": null,
            "object_position": null,
            "object_fit": null,
            "grid_auto_columns": null,
            "margin": null,
            "display": null,
            "left": null
          }
        },
        "100a1c530f3244d98adef91373ca7b94": {
          "model_module": "@jupyter-widgets/controls",
          "model_name": "HBoxModel",
          "state": {
            "_view_name": "HBoxView",
            "_dom_classes": [],
            "_model_name": "HBoxModel",
            "_view_module": "@jupyter-widgets/controls",
            "_model_module_version": "1.5.0",
            "_view_count": null,
            "_view_module_version": "1.5.0",
            "box_style": "",
            "layout": "IPY_MODEL_722840a4c92d4187994df212bd63205d",
            "_model_module": "@jupyter-widgets/controls",
            "children": [
              "IPY_MODEL_9d1e64a841134f82828b268bb5d68110",
              "IPY_MODEL_8a79b93441ff41db9274160ab0e4eff5"
            ]
          }
        },
        "722840a4c92d4187994df212bd63205d": {
          "model_module": "@jupyter-widgets/base",
          "model_name": "LayoutModel",
          "state": {
            "_view_name": "LayoutView",
            "grid_template_rows": null,
            "right": null,
            "justify_content": null,
            "_view_module": "@jupyter-widgets/base",
            "overflow": null,
            "_model_module_version": "1.2.0",
            "_view_count": null,
            "flex_flow": null,
            "width": null,
            "min_width": null,
            "border": null,
            "align_items": null,
            "bottom": null,
            "_model_module": "@jupyter-widgets/base",
            "top": null,
            "grid_column": null,
            "overflow_y": null,
            "overflow_x": null,
            "grid_auto_flow": null,
            "grid_area": null,
            "grid_template_columns": null,
            "flex": null,
            "_model_name": "LayoutModel",
            "justify_items": null,
            "grid_row": null,
            "max_height": null,
            "align_content": null,
            "visibility": null,
            "align_self": null,
            "height": null,
            "min_height": null,
            "padding": null,
            "grid_auto_rows": null,
            "grid_gap": null,
            "max_width": null,
            "order": null,
            "_view_module_version": "1.2.0",
            "grid_template_areas": null,
            "object_position": null,
            "object_fit": null,
            "grid_auto_columns": null,
            "margin": null,
            "display": null,
            "left": null
          }
        },
        "9d1e64a841134f82828b268bb5d68110": {
          "model_module": "@jupyter-widgets/controls",
          "model_name": "FloatProgressModel",
          "state": {
            "_view_name": "ProgressView",
            "style": "IPY_MODEL_76583a08468c4c359d1fcc6b08c3f571",
            "_dom_classes": [],
            "description": "100%",
            "_model_name": "FloatProgressModel",
            "bar_style": "",
            "max": 1000,
            "_view_module": "@jupyter-widgets/controls",
            "_model_module_version": "1.5.0",
            "value": 1000,
            "_view_count": null,
            "_view_module_version": "1.5.0",
            "orientation": "horizontal",
            "min": 0,
            "description_tooltip": null,
            "_model_module": "@jupyter-widgets/controls",
            "layout": "IPY_MODEL_ad2abe871ece4cb0b4f623881c65726b"
          }
        },
        "8a79b93441ff41db9274160ab0e4eff5": {
          "model_module": "@jupyter-widgets/controls",
          "model_name": "HTMLModel",
          "state": {
            "_view_name": "HTMLView",
            "style": "IPY_MODEL_b4cd0a7e00e64c719f2cfcc4614c2645",
            "_dom_classes": [],
            "description": "",
            "_model_name": "HTMLModel",
            "placeholder": "​",
            "_view_module": "@jupyter-widgets/controls",
            "_model_module_version": "1.5.0",
            "value": " 1000/1000 [00:03&lt;00:00, 332.08it/s]",
            "_view_count": null,
            "_view_module_version": "1.5.0",
            "description_tooltip": null,
            "_model_module": "@jupyter-widgets/controls",
            "layout": "IPY_MODEL_4d04877ced25450d9a1beba3b456d626"
          }
        },
        "76583a08468c4c359d1fcc6b08c3f571": {
          "model_module": "@jupyter-widgets/controls",
          "model_name": "ProgressStyleModel",
          "state": {
            "_view_name": "StyleView",
            "_model_name": "ProgressStyleModel",
            "description_width": "initial",
            "_view_module": "@jupyter-widgets/base",
            "_model_module_version": "1.5.0",
            "_view_count": null,
            "_view_module_version": "1.2.0",
            "bar_color": null,
            "_model_module": "@jupyter-widgets/controls"
          }
        },
        "ad2abe871ece4cb0b4f623881c65726b": {
          "model_module": "@jupyter-widgets/base",
          "model_name": "LayoutModel",
          "state": {
            "_view_name": "LayoutView",
            "grid_template_rows": null,
            "right": null,
            "justify_content": null,
            "_view_module": "@jupyter-widgets/base",
            "overflow": null,
            "_model_module_version": "1.2.0",
            "_view_count": null,
            "flex_flow": null,
            "width": null,
            "min_width": null,
            "border": null,
            "align_items": null,
            "bottom": null,
            "_model_module": "@jupyter-widgets/base",
            "top": null,
            "grid_column": null,
            "overflow_y": null,
            "overflow_x": null,
            "grid_auto_flow": null,
            "grid_area": null,
            "grid_template_columns": null,
            "flex": null,
            "_model_name": "LayoutModel",
            "justify_items": null,
            "grid_row": null,
            "max_height": null,
            "align_content": null,
            "visibility": null,
            "align_self": null,
            "height": null,
            "min_height": null,
            "padding": null,
            "grid_auto_rows": null,
            "grid_gap": null,
            "max_width": null,
            "order": null,
            "_view_module_version": "1.2.0",
            "grid_template_areas": null,
            "object_position": null,
            "object_fit": null,
            "grid_auto_columns": null,
            "margin": null,
            "display": null,
            "left": null
          }
        },
        "b4cd0a7e00e64c719f2cfcc4614c2645": {
          "model_module": "@jupyter-widgets/controls",
          "model_name": "DescriptionStyleModel",
          "state": {
            "_view_name": "StyleView",
            "_model_name": "DescriptionStyleModel",
            "description_width": "",
            "_view_module": "@jupyter-widgets/base",
            "_model_module_version": "1.5.0",
            "_view_count": null,
            "_view_module_version": "1.2.0",
            "_model_module": "@jupyter-widgets/controls"
          }
        },
        "4d04877ced25450d9a1beba3b456d626": {
          "model_module": "@jupyter-widgets/base",
          "model_name": "LayoutModel",
          "state": {
            "_view_name": "LayoutView",
            "grid_template_rows": null,
            "right": null,
            "justify_content": null,
            "_view_module": "@jupyter-widgets/base",
            "overflow": null,
            "_model_module_version": "1.2.0",
            "_view_count": null,
            "flex_flow": null,
            "width": null,
            "min_width": null,
            "border": null,
            "align_items": null,
            "bottom": null,
            "_model_module": "@jupyter-widgets/base",
            "top": null,
            "grid_column": null,
            "overflow_y": null,
            "overflow_x": null,
            "grid_auto_flow": null,
            "grid_area": null,
            "grid_template_columns": null,
            "flex": null,
            "_model_name": "LayoutModel",
            "justify_items": null,
            "grid_row": null,
            "max_height": null,
            "align_content": null,
            "visibility": null,
            "align_self": null,
            "height": null,
            "min_height": null,
            "padding": null,
            "grid_auto_rows": null,
            "grid_gap": null,
            "max_width": null,
            "order": null,
            "_view_module_version": "1.2.0",
            "grid_template_areas": null,
            "object_position": null,
            "object_fit": null,
            "grid_auto_columns": null,
            "margin": null,
            "display": null,
            "left": null
          }
        },
        "13130db7f22342b6aa398d3f58c94add": {
          "model_module": "@jupyter-widgets/controls",
          "model_name": "HBoxModel",
          "state": {
            "_view_name": "HBoxView",
            "_dom_classes": [],
            "_model_name": "HBoxModel",
            "_view_module": "@jupyter-widgets/controls",
            "_model_module_version": "1.5.0",
            "_view_count": null,
            "_view_module_version": "1.5.0",
            "box_style": "",
            "layout": "IPY_MODEL_0d289089d9084d5f813781778bd7dc6b",
            "_model_module": "@jupyter-widgets/controls",
            "children": [
              "IPY_MODEL_d4330523edb941588669659663a82bf4",
              "IPY_MODEL_079f04d2ac1345e69ae6a8e1c7d602c1"
            ]
          }
        },
        "0d289089d9084d5f813781778bd7dc6b": {
          "model_module": "@jupyter-widgets/base",
          "model_name": "LayoutModel",
          "state": {
            "_view_name": "LayoutView",
            "grid_template_rows": null,
            "right": null,
            "justify_content": null,
            "_view_module": "@jupyter-widgets/base",
            "overflow": null,
            "_model_module_version": "1.2.0",
            "_view_count": null,
            "flex_flow": null,
            "width": null,
            "min_width": null,
            "border": null,
            "align_items": null,
            "bottom": null,
            "_model_module": "@jupyter-widgets/base",
            "top": null,
            "grid_column": null,
            "overflow_y": null,
            "overflow_x": null,
            "grid_auto_flow": null,
            "grid_area": null,
            "grid_template_columns": null,
            "flex": null,
            "_model_name": "LayoutModel",
            "justify_items": null,
            "grid_row": null,
            "max_height": null,
            "align_content": null,
            "visibility": null,
            "align_self": null,
            "height": null,
            "min_height": null,
            "padding": null,
            "grid_auto_rows": null,
            "grid_gap": null,
            "max_width": null,
            "order": null,
            "_view_module_version": "1.2.0",
            "grid_template_areas": null,
            "object_position": null,
            "object_fit": null,
            "grid_auto_columns": null,
            "margin": null,
            "display": null,
            "left": null
          }
        },
        "d4330523edb941588669659663a82bf4": {
          "model_module": "@jupyter-widgets/controls",
          "model_name": "FloatProgressModel",
          "state": {
            "_view_name": "ProgressView",
            "style": "IPY_MODEL_d2a028f1b03a4c1d8c9b40b9f56c5e26",
            "_dom_classes": [],
            "description": "100%",
            "_model_name": "FloatProgressModel",
            "bar_style": "",
            "max": 1000,
            "_view_module": "@jupyter-widgets/controls",
            "_model_module_version": "1.5.0",
            "value": 1000,
            "_view_count": null,
            "_view_module_version": "1.5.0",
            "orientation": "horizontal",
            "min": 0,
            "description_tooltip": null,
            "_model_module": "@jupyter-widgets/controls",
            "layout": "IPY_MODEL_9d28d121ea0145f3a1ebbbb6b6766e9b"
          }
        },
        "079f04d2ac1345e69ae6a8e1c7d602c1": {
          "model_module": "@jupyter-widgets/controls",
          "model_name": "HTMLModel",
          "state": {
            "_view_name": "HTMLView",
            "style": "IPY_MODEL_71f66819bc9640eab8d43a508fde3703",
            "_dom_classes": [],
            "description": "",
            "_model_name": "HTMLModel",
            "placeholder": "​",
            "_view_module": "@jupyter-widgets/controls",
            "_model_module_version": "1.5.0",
            "value": " 1000/1000 [00:02&lt;00:00, 334.33it/s]",
            "_view_count": null,
            "_view_module_version": "1.5.0",
            "description_tooltip": null,
            "_model_module": "@jupyter-widgets/controls",
            "layout": "IPY_MODEL_2f59e3661e9e40f59ff5f3e30f44d0fe"
          }
        },
        "d2a028f1b03a4c1d8c9b40b9f56c5e26": {
          "model_module": "@jupyter-widgets/controls",
          "model_name": "ProgressStyleModel",
          "state": {
            "_view_name": "StyleView",
            "_model_name": "ProgressStyleModel",
            "description_width": "initial",
            "_view_module": "@jupyter-widgets/base",
            "_model_module_version": "1.5.0",
            "_view_count": null,
            "_view_module_version": "1.2.0",
            "bar_color": null,
            "_model_module": "@jupyter-widgets/controls"
          }
        },
        "9d28d121ea0145f3a1ebbbb6b6766e9b": {
          "model_module": "@jupyter-widgets/base",
          "model_name": "LayoutModel",
          "state": {
            "_view_name": "LayoutView",
            "grid_template_rows": null,
            "right": null,
            "justify_content": null,
            "_view_module": "@jupyter-widgets/base",
            "overflow": null,
            "_model_module_version": "1.2.0",
            "_view_count": null,
            "flex_flow": null,
            "width": null,
            "min_width": null,
            "border": null,
            "align_items": null,
            "bottom": null,
            "_model_module": "@jupyter-widgets/base",
            "top": null,
            "grid_column": null,
            "overflow_y": null,
            "overflow_x": null,
            "grid_auto_flow": null,
            "grid_area": null,
            "grid_template_columns": null,
            "flex": null,
            "_model_name": "LayoutModel",
            "justify_items": null,
            "grid_row": null,
            "max_height": null,
            "align_content": null,
            "visibility": null,
            "align_self": null,
            "height": null,
            "min_height": null,
            "padding": null,
            "grid_auto_rows": null,
            "grid_gap": null,
            "max_width": null,
            "order": null,
            "_view_module_version": "1.2.0",
            "grid_template_areas": null,
            "object_position": null,
            "object_fit": null,
            "grid_auto_columns": null,
            "margin": null,
            "display": null,
            "left": null
          }
        },
        "71f66819bc9640eab8d43a508fde3703": {
          "model_module": "@jupyter-widgets/controls",
          "model_name": "DescriptionStyleModel",
          "state": {
            "_view_name": "StyleView",
            "_model_name": "DescriptionStyleModel",
            "description_width": "",
            "_view_module": "@jupyter-widgets/base",
            "_model_module_version": "1.5.0",
            "_view_count": null,
            "_view_module_version": "1.2.0",
            "_model_module": "@jupyter-widgets/controls"
          }
        },
        "2f59e3661e9e40f59ff5f3e30f44d0fe": {
          "model_module": "@jupyter-widgets/base",
          "model_name": "LayoutModel",
          "state": {
            "_view_name": "LayoutView",
            "grid_template_rows": null,
            "right": null,
            "justify_content": null,
            "_view_module": "@jupyter-widgets/base",
            "overflow": null,
            "_model_module_version": "1.2.0",
            "_view_count": null,
            "flex_flow": null,
            "width": null,
            "min_width": null,
            "border": null,
            "align_items": null,
            "bottom": null,
            "_model_module": "@jupyter-widgets/base",
            "top": null,
            "grid_column": null,
            "overflow_y": null,
            "overflow_x": null,
            "grid_auto_flow": null,
            "grid_area": null,
            "grid_template_columns": null,
            "flex": null,
            "_model_name": "LayoutModel",
            "justify_items": null,
            "grid_row": null,
            "max_height": null,
            "align_content": null,
            "visibility": null,
            "align_self": null,
            "height": null,
            "min_height": null,
            "padding": null,
            "grid_auto_rows": null,
            "grid_gap": null,
            "max_width": null,
            "order": null,
            "_view_module_version": "1.2.0",
            "grid_template_areas": null,
            "object_position": null,
            "object_fit": null,
            "grid_auto_columns": null,
            "margin": null,
            "display": null,
            "left": null
          }
        },
        "73bf9b93226347ea8bfd8531be4cd771": {
          "model_module": "@jupyter-widgets/controls",
          "model_name": "HBoxModel",
          "state": {
            "_view_name": "HBoxView",
            "_dom_classes": [],
            "_model_name": "HBoxModel",
            "_view_module": "@jupyter-widgets/controls",
            "_model_module_version": "1.5.0",
            "_view_count": null,
            "_view_module_version": "1.5.0",
            "box_style": "",
            "layout": "IPY_MODEL_258a0de8c2134423967a3bc8ac4a464a",
            "_model_module": "@jupyter-widgets/controls",
            "children": [
              "IPY_MODEL_018654f05f7649f5b7bf90481da1393d",
              "IPY_MODEL_34dd89e5bf5a4bc89b68e2a2c415a8fe"
            ]
          }
        },
        "258a0de8c2134423967a3bc8ac4a464a": {
          "model_module": "@jupyter-widgets/base",
          "model_name": "LayoutModel",
          "state": {
            "_view_name": "LayoutView",
            "grid_template_rows": null,
            "right": null,
            "justify_content": null,
            "_view_module": "@jupyter-widgets/base",
            "overflow": null,
            "_model_module_version": "1.2.0",
            "_view_count": null,
            "flex_flow": null,
            "width": null,
            "min_width": null,
            "border": null,
            "align_items": null,
            "bottom": null,
            "_model_module": "@jupyter-widgets/base",
            "top": null,
            "grid_column": null,
            "overflow_y": null,
            "overflow_x": null,
            "grid_auto_flow": null,
            "grid_area": null,
            "grid_template_columns": null,
            "flex": null,
            "_model_name": "LayoutModel",
            "justify_items": null,
            "grid_row": null,
            "max_height": null,
            "align_content": null,
            "visibility": null,
            "align_self": null,
            "height": null,
            "min_height": null,
            "padding": null,
            "grid_auto_rows": null,
            "grid_gap": null,
            "max_width": null,
            "order": null,
            "_view_module_version": "1.2.0",
            "grid_template_areas": null,
            "object_position": null,
            "object_fit": null,
            "grid_auto_columns": null,
            "margin": null,
            "display": null,
            "left": null
          }
        },
        "018654f05f7649f5b7bf90481da1393d": {
          "model_module": "@jupyter-widgets/controls",
          "model_name": "FloatProgressModel",
          "state": {
            "_view_name": "ProgressView",
            "style": "IPY_MODEL_fa028a27927046dbb6136fbd5b02d779",
            "_dom_classes": [],
            "description": "100%",
            "_model_name": "FloatProgressModel",
            "bar_style": "",
            "max": 1000,
            "_view_module": "@jupyter-widgets/controls",
            "_model_module_version": "1.5.0",
            "value": 1000,
            "_view_count": null,
            "_view_module_version": "1.5.0",
            "orientation": "horizontal",
            "min": 0,
            "description_tooltip": null,
            "_model_module": "@jupyter-widgets/controls",
            "layout": "IPY_MODEL_511d63d4d671400f97c53c5da959c203"
          }
        },
        "34dd89e5bf5a4bc89b68e2a2c415a8fe": {
          "model_module": "@jupyter-widgets/controls",
          "model_name": "HTMLModel",
          "state": {
            "_view_name": "HTMLView",
            "style": "IPY_MODEL_09f065b4507d4d3daf9693914d756421",
            "_dom_classes": [],
            "description": "",
            "_model_name": "HTMLModel",
            "placeholder": "​",
            "_view_module": "@jupyter-widgets/controls",
            "_model_module_version": "1.5.0",
            "value": " 1000/1000 [00:02&lt;00:00, 371.11it/s]",
            "_view_count": null,
            "_view_module_version": "1.5.0",
            "description_tooltip": null,
            "_model_module": "@jupyter-widgets/controls",
            "layout": "IPY_MODEL_896ac3aef6d5401484866aba0c62f240"
          }
        },
        "fa028a27927046dbb6136fbd5b02d779": {
          "model_module": "@jupyter-widgets/controls",
          "model_name": "ProgressStyleModel",
          "state": {
            "_view_name": "StyleView",
            "_model_name": "ProgressStyleModel",
            "description_width": "initial",
            "_view_module": "@jupyter-widgets/base",
            "_model_module_version": "1.5.0",
            "_view_count": null,
            "_view_module_version": "1.2.0",
            "bar_color": null,
            "_model_module": "@jupyter-widgets/controls"
          }
        },
        "511d63d4d671400f97c53c5da959c203": {
          "model_module": "@jupyter-widgets/base",
          "model_name": "LayoutModel",
          "state": {
            "_view_name": "LayoutView",
            "grid_template_rows": null,
            "right": null,
            "justify_content": null,
            "_view_module": "@jupyter-widgets/base",
            "overflow": null,
            "_model_module_version": "1.2.0",
            "_view_count": null,
            "flex_flow": null,
            "width": null,
            "min_width": null,
            "border": null,
            "align_items": null,
            "bottom": null,
            "_model_module": "@jupyter-widgets/base",
            "top": null,
            "grid_column": null,
            "overflow_y": null,
            "overflow_x": null,
            "grid_auto_flow": null,
            "grid_area": null,
            "grid_template_columns": null,
            "flex": null,
            "_model_name": "LayoutModel",
            "justify_items": null,
            "grid_row": null,
            "max_height": null,
            "align_content": null,
            "visibility": null,
            "align_self": null,
            "height": null,
            "min_height": null,
            "padding": null,
            "grid_auto_rows": null,
            "grid_gap": null,
            "max_width": null,
            "order": null,
            "_view_module_version": "1.2.0",
            "grid_template_areas": null,
            "object_position": null,
            "object_fit": null,
            "grid_auto_columns": null,
            "margin": null,
            "display": null,
            "left": null
          }
        },
        "09f065b4507d4d3daf9693914d756421": {
          "model_module": "@jupyter-widgets/controls",
          "model_name": "DescriptionStyleModel",
          "state": {
            "_view_name": "StyleView",
            "_model_name": "DescriptionStyleModel",
            "description_width": "",
            "_view_module": "@jupyter-widgets/base",
            "_model_module_version": "1.5.0",
            "_view_count": null,
            "_view_module_version": "1.2.0",
            "_model_module": "@jupyter-widgets/controls"
          }
        },
        "896ac3aef6d5401484866aba0c62f240": {
          "model_module": "@jupyter-widgets/base",
          "model_name": "LayoutModel",
          "state": {
            "_view_name": "LayoutView",
            "grid_template_rows": null,
            "right": null,
            "justify_content": null,
            "_view_module": "@jupyter-widgets/base",
            "overflow": null,
            "_model_module_version": "1.2.0",
            "_view_count": null,
            "flex_flow": null,
            "width": null,
            "min_width": null,
            "border": null,
            "align_items": null,
            "bottom": null,
            "_model_module": "@jupyter-widgets/base",
            "top": null,
            "grid_column": null,
            "overflow_y": null,
            "overflow_x": null,
            "grid_auto_flow": null,
            "grid_area": null,
            "grid_template_columns": null,
            "flex": null,
            "_model_name": "LayoutModel",
            "justify_items": null,
            "grid_row": null,
            "max_height": null,
            "align_content": null,
            "visibility": null,
            "align_self": null,
            "height": null,
            "min_height": null,
            "padding": null,
            "grid_auto_rows": null,
            "grid_gap": null,
            "max_width": null,
            "order": null,
            "_view_module_version": "1.2.0",
            "grid_template_areas": null,
            "object_position": null,
            "object_fit": null,
            "grid_auto_columns": null,
            "margin": null,
            "display": null,
            "left": null
          }
        },
        "ba592c7e2ba74525af740a3c26bb2083": {
          "model_module": "@jupyter-widgets/controls",
          "model_name": "HBoxModel",
          "state": {
            "_view_name": "HBoxView",
            "_dom_classes": [],
            "_model_name": "HBoxModel",
            "_view_module": "@jupyter-widgets/controls",
            "_model_module_version": "1.5.0",
            "_view_count": null,
            "_view_module_version": "1.5.0",
            "box_style": "",
            "layout": "IPY_MODEL_a6738f6ef84a414a9fbb39c257f61726",
            "_model_module": "@jupyter-widgets/controls",
            "children": [
              "IPY_MODEL_ad6dd199506c46fe9565aea5df73250f",
              "IPY_MODEL_ed1ae63558e84f349ef19a51e4c57854"
            ]
          }
        },
        "a6738f6ef84a414a9fbb39c257f61726": {
          "model_module": "@jupyter-widgets/base",
          "model_name": "LayoutModel",
          "state": {
            "_view_name": "LayoutView",
            "grid_template_rows": null,
            "right": null,
            "justify_content": null,
            "_view_module": "@jupyter-widgets/base",
            "overflow": null,
            "_model_module_version": "1.2.0",
            "_view_count": null,
            "flex_flow": null,
            "width": null,
            "min_width": null,
            "border": null,
            "align_items": null,
            "bottom": null,
            "_model_module": "@jupyter-widgets/base",
            "top": null,
            "grid_column": null,
            "overflow_y": null,
            "overflow_x": null,
            "grid_auto_flow": null,
            "grid_area": null,
            "grid_template_columns": null,
            "flex": null,
            "_model_name": "LayoutModel",
            "justify_items": null,
            "grid_row": null,
            "max_height": null,
            "align_content": null,
            "visibility": null,
            "align_self": null,
            "height": null,
            "min_height": null,
            "padding": null,
            "grid_auto_rows": null,
            "grid_gap": null,
            "max_width": null,
            "order": null,
            "_view_module_version": "1.2.0",
            "grid_template_areas": null,
            "object_position": null,
            "object_fit": null,
            "grid_auto_columns": null,
            "margin": null,
            "display": null,
            "left": null
          }
        },
        "ad6dd199506c46fe9565aea5df73250f": {
          "model_module": "@jupyter-widgets/controls",
          "model_name": "FloatProgressModel",
          "state": {
            "_view_name": "ProgressView",
            "style": "IPY_MODEL_8dd780757533401c93162f707335e402",
            "_dom_classes": [],
            "description": "100%",
            "_model_name": "FloatProgressModel",
            "bar_style": "",
            "max": 1000,
            "_view_module": "@jupyter-widgets/controls",
            "_model_module_version": "1.5.0",
            "value": 1000,
            "_view_count": null,
            "_view_module_version": "1.5.0",
            "orientation": "horizontal",
            "min": 0,
            "description_tooltip": null,
            "_model_module": "@jupyter-widgets/controls",
            "layout": "IPY_MODEL_16f3246d9b3242e092dc54e5015040fb"
          }
        },
        "ed1ae63558e84f349ef19a51e4c57854": {
          "model_module": "@jupyter-widgets/controls",
          "model_name": "HTMLModel",
          "state": {
            "_view_name": "HTMLView",
            "style": "IPY_MODEL_3b5021049ff44e52b2c821fe54b83428",
            "_dom_classes": [],
            "description": "",
            "_model_name": "HTMLModel",
            "placeholder": "​",
            "_view_module": "@jupyter-widgets/controls",
            "_model_module_version": "1.5.0",
            "value": " 1000/1000 [00:02&lt;00:00, 401.10it/s]",
            "_view_count": null,
            "_view_module_version": "1.5.0",
            "description_tooltip": null,
            "_model_module": "@jupyter-widgets/controls",
            "layout": "IPY_MODEL_70b5fabb03d04e5db29edacb99d04d99"
          }
        },
        "8dd780757533401c93162f707335e402": {
          "model_module": "@jupyter-widgets/controls",
          "model_name": "ProgressStyleModel",
          "state": {
            "_view_name": "StyleView",
            "_model_name": "ProgressStyleModel",
            "description_width": "initial",
            "_view_module": "@jupyter-widgets/base",
            "_model_module_version": "1.5.0",
            "_view_count": null,
            "_view_module_version": "1.2.0",
            "bar_color": null,
            "_model_module": "@jupyter-widgets/controls"
          }
        },
        "16f3246d9b3242e092dc54e5015040fb": {
          "model_module": "@jupyter-widgets/base",
          "model_name": "LayoutModel",
          "state": {
            "_view_name": "LayoutView",
            "grid_template_rows": null,
            "right": null,
            "justify_content": null,
            "_view_module": "@jupyter-widgets/base",
            "overflow": null,
            "_model_module_version": "1.2.0",
            "_view_count": null,
            "flex_flow": null,
            "width": null,
            "min_width": null,
            "border": null,
            "align_items": null,
            "bottom": null,
            "_model_module": "@jupyter-widgets/base",
            "top": null,
            "grid_column": null,
            "overflow_y": null,
            "overflow_x": null,
            "grid_auto_flow": null,
            "grid_area": null,
            "grid_template_columns": null,
            "flex": null,
            "_model_name": "LayoutModel",
            "justify_items": null,
            "grid_row": null,
            "max_height": null,
            "align_content": null,
            "visibility": null,
            "align_self": null,
            "height": null,
            "min_height": null,
            "padding": null,
            "grid_auto_rows": null,
            "grid_gap": null,
            "max_width": null,
            "order": null,
            "_view_module_version": "1.2.0",
            "grid_template_areas": null,
            "object_position": null,
            "object_fit": null,
            "grid_auto_columns": null,
            "margin": null,
            "display": null,
            "left": null
          }
        },
        "3b5021049ff44e52b2c821fe54b83428": {
          "model_module": "@jupyter-widgets/controls",
          "model_name": "DescriptionStyleModel",
          "state": {
            "_view_name": "StyleView",
            "_model_name": "DescriptionStyleModel",
            "description_width": "",
            "_view_module": "@jupyter-widgets/base",
            "_model_module_version": "1.5.0",
            "_view_count": null,
            "_view_module_version": "1.2.0",
            "_model_module": "@jupyter-widgets/controls"
          }
        },
        "70b5fabb03d04e5db29edacb99d04d99": {
          "model_module": "@jupyter-widgets/base",
          "model_name": "LayoutModel",
          "state": {
            "_view_name": "LayoutView",
            "grid_template_rows": null,
            "right": null,
            "justify_content": null,
            "_view_module": "@jupyter-widgets/base",
            "overflow": null,
            "_model_module_version": "1.2.0",
            "_view_count": null,
            "flex_flow": null,
            "width": null,
            "min_width": null,
            "border": null,
            "align_items": null,
            "bottom": null,
            "_model_module": "@jupyter-widgets/base",
            "top": null,
            "grid_column": null,
            "overflow_y": null,
            "overflow_x": null,
            "grid_auto_flow": null,
            "grid_area": null,
            "grid_template_columns": null,
            "flex": null,
            "_model_name": "LayoutModel",
            "justify_items": null,
            "grid_row": null,
            "max_height": null,
            "align_content": null,
            "visibility": null,
            "align_self": null,
            "height": null,
            "min_height": null,
            "padding": null,
            "grid_auto_rows": null,
            "grid_gap": null,
            "max_width": null,
            "order": null,
            "_view_module_version": "1.2.0",
            "grid_template_areas": null,
            "object_position": null,
            "object_fit": null,
            "grid_auto_columns": null,
            "margin": null,
            "display": null,
            "left": null
          }
        }
      }
    }
  },
  "cells": [
    {
      "cell_type": "markdown",
      "metadata": {
        "id": "fobjEP6fUEER"
      },
      "source": [
        "# Линейные методы классификации и регрессии: метод стохастического градиента"
      ]
    },
    {
      "cell_type": "markdown",
      "metadata": {
        "id": "6v_Ur0mNUEET"
      },
      "source": [
        "## Библиотеки"
      ]
    },
    {
      "cell_type": "code",
      "metadata": {
        "id": "bHXX8Bi-UEEV"
      },
      "source": [
        "import matplotlib.pyplot as plt\n",
        "from matplotlib import gridspec\n",
        "import seaborn as sns\n",
        "import pandas as pd\n",
        "from tqdm.notebook import tqdm\n",
        "\n",
        "from scipy.special import expit\n",
        "import numpy as np\n",
        "import torch\n",
        "\n",
        "from sklearn.linear_model import (LogisticRegression, \n",
        "                                  LinearRegression)\n",
        "from sklearn.model_selection import LeaveOneOut, KFold"
      ],
      "execution_count": 22,
      "outputs": []
    },
    {
      "cell_type": "markdown",
      "metadata": {
        "id": "Q8wCq4wqUEEW"
      },
      "source": [
        "## Разбор домашней задачи"
      ]
    },
    {
      "cell_type": "code",
      "metadata": {
        "id": "HIxRZuyWUEEW"
      },
      "source": [
        "# Генерация данных\n",
        "np.random.seed(0)\n",
        "l = 100\n",
        "n = 2\n",
        "X1 = np.array([[-1,-1]]) + 0.5*np.random.randn(l, n)\n",
        "X2 = np.array([[1,1]]) + 0.5*np.random.randn(l, n)\n",
        "X3 = np.array([[-1,1]]) + 0.5*np.random.randn(l, n)\n",
        "\n",
        "X = np.vstack([X1, X2, X3])\n",
        "y = np.hstack([[0]*l, [1]*l, [2]*l])\n",
        "\n",
        "# Добавляем константу\n",
        "X = np.hstack([X, np.ones([len(X), 1])])"
      ],
      "execution_count": 23,
      "outputs": []
    },
    {
      "cell_type": "code",
      "metadata": {
        "id": "b-UgUIVUUEEX"
      },
      "source": [
        "# обучения моделей\n",
        "models = []\n",
        "model = LogisticRegression(random_state=0, max_iter=2000, fit_intercept=False)\n",
        "_ = model.fit(X, np.array(y==0, dtype=np.int64))\n",
        "models.append(model)\n",
        "\n",
        "model = LogisticRegression(random_state=0, max_iter=2000, fit_intercept=False)\n",
        "_ = model.fit(X, np.array(y==1, dtype=np.int64))\n",
        "models.append(model)\n",
        "\n",
        "model = LogisticRegression(random_state=0, max_iter=2000, fit_intercept=False)\n",
        "_ = model.fit(X, np.array(y==2, dtype=np.int64))\n",
        "models.append(model)"
      ],
      "execution_count": 24,
      "outputs": []
    },
    {
      "cell_type": "code",
      "metadata": {
        "id": "O5MdEO8HUEEY"
      },
      "source": [
        "def get_line(a, b, c=0, x_min=-10, x_max=10):\n",
        "    x1, y1 = -(-models[k].coef_[0][1] + c)/models[k].coef_[0][0], -1\n",
        "    x2, y2 = -(models[k].coef_[0][1] + c)/models[k].coef_[0][0], 1\n",
        "    \n",
        "    polynomial = np.poly1d(np.polyfit([x1, x2], [y1, y2], 1))\n",
        "    x_axis = np.linspace(x_min, x_max)\n",
        "    y_axis = polynomial(x_axis)\n",
        "    \n",
        "    return x_axis, y_axis"
      ],
      "execution_count": 25,
      "outputs": []
    },
    {
      "cell_type": "code",
      "metadata": {
        "id": "jd9SJ9y_UEEZ",
        "outputId": "b0697d72-dcea-483e-a038-cb4fa936970d",
        "colab": {
          "base_uri": "https://localhost:8080/",
          "height": 265
        }
      },
      "source": [
        "cols = ['blue', 'red', 'green']\n",
        "fig, gs = plt.figure(figsize=(9,4)), gridspec.GridSpec(1, 2)\n",
        "\n",
        "ax = []\n",
        "for i in range(2):\n",
        "    ax.append(fig.add_subplot(gs[i]))\n",
        "    ax[i].set_xlim((-2.5, 2.5)), ax[i].set_ylim((-2.5, 2.5))\n",
        "\n",
        "for k in np.unique(y):\n",
        "    ax[0].plot(X[y==k,0], X[y==k,1], 'o', \n",
        "               label='класс {}'.format(k), color=cols[k])\n",
        "    ax[1].plot(X[y==k,0], X[y==k,1], 'o', \n",
        "               label='класс {}'.format(k), color=cols[k])\n",
        "\n",
        "for k in np.unique(y):\n",
        "    ax[0].plot(*get_line(*models[k].coef_[0][:2]), linewidth=2, color=cols[k])\n",
        "    ax[1].plot(*get_line(*models[k].coef_[0]), linewidth=2, color=cols[k])\n",
        "\n",
        "ax[0].legend(loc='best'), ax[1].legend(loc='best')\n",
        "plt.show()"
      ],
      "execution_count": 27,
      "outputs": [
        {
          "output_type": "display_data",
          "data": {
            "image/png": "[encoded data removed]",
            "text/plain": [
              "<Figure size 648x288 with 2 Axes>"
            ]
          },
          "metadata": {
            "tags": [],
            "needs_background": "light"
          }
        }
      ]
    },
    {
      "cell_type": "markdown",
      "metadata": {
        "id": "QDKHbv61UEEa"
      },
      "source": [
        "## Оптимизационные задачи"
      ]
    },
    {
      "cell_type": "markdown",
      "metadata": {
        "id": "6H_gqIVuUEEa"
      },
      "source": [
        "### Задача оптимизации\n",
        "На прошлом семинаре обсуждалось, что задачи машинного обучения всегда сводятся к решению некоторой задачи оптимизации:\n",
        "$$\n",
        "\\hat{\\mathbf{w}} = \\arg\\min_{\\mathbf{w} \\in \\mathcal{W}} \\mathcal{L}\\bigr(\\mathbf{w}, \\mathbf{X}, \\mathbf{y}\\bigr).\n",
        "$$\n",
        "\n",
        "Обычно данные задачи оптимизации решают двумя способами:\n",
        "1. Аналитическое решение.\n",
        "2. Стохастический градиентный спуск.\n",
        "\n",
        "Аналитическое решение имеет самый большой недостаток в том, что не для любого $\\mathcal{L}$ оно существует, или может быть выписано аналитически. В стохастического градиентного спуска, есть ряд ограничений, которые нужно удовлетворить, чтобы была сходимость."
      ]
    },
    {
      "cell_type": "markdown",
      "metadata": {
        "id": "blmkWHGFUEEb"
      },
      "source": [
        "### Аналитическое решение для задачи линейной регрессии\n",
        "Линейная модель регрессии:\n",
        "$$\n",
        "\\mathfrak{F}_{rg} = \\{f\\bigr(\\mathbf{w}, \\mathbf{x}\\bigr) = \\mathbf{w}^{\\mathsf{T}}\\mathbf{x}| \\mathbf{w}\\in \\mathbb{R}^{n}\\}.\n",
        "$$\n",
        "Требуется решить следующую оптимизационную задачу:\n",
        "$$\n",
        "\\hat{\\theta} = \\arg\\min_{\\mathbf{w} \\in \\mathbb{R}^{n}} \\frac{1}{l}\\sum_{i=1}^{l}\\left(\\mathbf{w}^{\\mathsf{T}}\\mathbf{x}_i - y_i\\right)^2.\n",
        "$$\n",
        "Для удобства перепишем в матричном виде:\n",
        "$$\n",
        "\\sum_{i=1}^{l}\\left(\\mathbf{w}^{\\mathsf{T}}\\mathbf{x}_i - y_i\\right)^2 =\n",
        "\\left(\\mathbf{X}\\mathbf{w} - \\mathbf{y}\\right)^{\\mathsf{T}}\\left(\\mathbf{X}\\mathbf{w} - \\mathbf{y}\\right) = \n",
        "\\mathbf{w}^{\\mathsf{T}}\\mathbf{X}^{\\mathsf{T}}\\mathbf{X}\\mathbf{w} - 2\\mathbf{y}\\mathbf{X}\\mathbf{w} + \\mathbf{y}^{\\mathsf{T}}\\mathbf{y}\n",
        "$$\n",
        "Заметим, что задача у нас выпуклая, то есть существует единственный экстремум - глобальный минимум, для его нахождения воспользуемся необходимым условием первого порядка:\n",
        "$$\n",
        "\\frac{\\partial}{\\partial \\mathbf{w}}\\left(\\mathbf{w}^{\\mathsf{T}}\\mathbf{X}^{\\mathsf{T}}\\mathbf{X}\\mathbf{w} - 2\\mathbf{y}\\mathbf{X}\\mathbf{w} + \\mathbf{y}^{\\mathsf{T}}\\mathbf{y}\\right) = 0 = 2\\mathbf{X}^{\\mathsf{T}}\\mathbf{X}\\mathbf{w} - 2\\mathbf{X}^{\\mathsf{T}}\\mathbf{y} \\Rightarrow \\hat{\\mathbf{w}} = \\left(\\mathbf{X}^{\\mathsf{T}}\\mathbf{X}\\right)^{-1}\\mathbf{X}^{\\mathsf{T}}\\mathbf{y}\n",
        "$$\n",
        "\n",
        "Получили аналитическое решение для задачи линейной регрессии."
      ]
    },
    {
      "cell_type": "code",
      "metadata": {
        "id": "_uUo4KvOUEEc"
      },
      "source": [
        "np.random.seed(0)\n",
        "l = 40\n",
        "\n",
        "# Генерация данных\n",
        "x = np.linspace(0, 30, num=l)\n",
        "Y = x + 4*np.sin(x) + 3*np.random.randn(l)\n",
        "\n",
        "# Генерация признаков\n",
        "X = np.vstack([np.ones_like(x), x, np.sin(x)]).T\n",
        "\n",
        "# Решение задачи регрессии\n",
        "w = np.linalg.inv(X.T@X)@X.T@Y"
      ],
      "execution_count": 28,
      "outputs": []
    },
    {
      "cell_type": "code",
      "metadata": {
        "id": "ZXufmbZLUEEc",
        "outputId": "7e7cddf4-de24-43c9-dade-f05c9f686b4c",
        "colab": {
          "base_uri": "https://localhost:8080/",
          "height": 267
        }
      },
      "source": [
        "plt.plot(x, Y, '.', label='train points')\n",
        "\n",
        "x_plot = np.linspace(0, 30, num=10000)\n",
        "plt.plot(x_plot, 4*np.sin(x_plot) + x_plot, label='real')\n",
        "\n",
        "X_plot = np.vstack([np.ones_like(x_plot), x_plot, np.sin(x_plot)]).T\n",
        "plt.plot(x_plot, X_plot@w, label='aproximation')\n",
        "\n",
        "plt.legend(loc='best')\n",
        "plt.show()"
      ],
      "execution_count": 29,
      "outputs": [
        {
          "output_type": "display_data",
          "data": {
            "image/png": "[encoded data removed]",
            "text/plain": [
              "<Figure size 432x288 with 1 Axes>"
            ]
          },
          "metadata": {
            "tags": [],
            "needs_background": "light"
          }
        }
      ]
    },
    {
      "cell_type": "markdown",
      "metadata": {
        "id": "JViPHotiUEEd"
      },
      "source": [
        "### Модель линейной классификации, как решать оптимизационную задачу\n",
        "Линейная модель бинарной (-1 и 1) классификации:\n",
        "$$\n",
        "\\mathfrak{F}_{bcl} = \\left\\{f\\bigr(\\mathbf{w}, \\mathbf{x}\\bigr)=\\text{sign}\\bigr(\\mathbf{w}^{\\mathsf{T}}\\mathbf{x}\\bigr)\\bigr| \\mathbf{w} \\in \\mathbb{R}^{n} \\right\\}.\n",
        "$$\n",
        "Требуется решить следующую оптимизационную задачу:\n",
        "$$\n",
        "\\hat{\\mathbf{w}} = \\arg \\min_{\\mathbf{w} \\in \\mathbb{R}^n} \\frac{1}{l}\\sum_{i=1}^l\\bigr[\\mathbf{w}^{\\mathsf{T}}\\mathbf{x}_i \\not= y_i\\bigr] = \\arg \\min_{\\mathbf{w} \\in \\mathbb{R}^n} \\frac{1}{l}\\sum_{i=1}^l\\bigr[y_i\\mathbf{w}^{\\mathsf{T}}\\mathbf{x}_i < 0 \\bigr].\n",
        "$$\n",
        "Но вместо этой задачи оптимизации будем минимизировать верхнюю оценку:\n",
        "$$\n",
        "\\hat{\\mathbf{w}} = \\arg \\min_{\\mathbf{w} \\in \\mathbb{R}^n} \\frac{1}{l}\\sum_{i=1}^l\\text{log}_{2}\\bigr(1+e^{-y_i\\mathbf{w}^{\\mathsf{T}}\\mathbf{x}_i}\\bigr)\n",
        "$$\n",
        "\n",
        "Но как ее минимизировать? Аналитическое решение найти не получится. Будем минизировать градиентными методами."
      ]
    },
    {
      "cell_type": "code",
      "metadata": {
        "id": "6TzszgzRUEEd",
        "outputId": "dc8108dd-9b14-4938-a3e6-a59095a2f5a8",
        "colab": {
          "base_uri": "https://localhost:8080/",
          "height": 279
        }
      },
      "source": [
        "def sign(x):\n",
        "    return np.array(x <= 0, dtype=np.int64)\n",
        "def upper_bound(x):\n",
        "    return np.log2(1+np.exp(-x))\n",
        "\n",
        "x = np.linspace(-2, 6, 100)\n",
        "plt.plot(x, sign(x), label='$sign(x)$')\n",
        "plt.plot(x, upper_bound(x), label='$\\log(1+\\exp(-x))$')\n",
        "\n",
        "plt.xlabel('$x$')\n",
        "plt.ylabel('$L$')\n",
        "plt.legend(loc='best')\n",
        "plt.show()"
      ],
      "execution_count": 30,
      "outputs": [
        {
          "output_type": "display_data",
          "data": {
            "image/png": "[encoded data removed]",
            "text/plain": [
              "<Figure size 432x288 with 1 Axes>"
            ]
          },
          "metadata": {
            "tags": [],
            "needs_background": "light"
          }
        }
      ]
    },
    {
      "cell_type": "markdown",
      "metadata": {
        "id": "1uuUSJmaUEEe"
      },
      "source": [
        "### Стохастический градиентный спуск\n",
        "Напомним простой градиентный спуск:\n",
        "$$\n",
        "\\mathbf{w}_{k+1} = \\mathbf{w}_k - \\alpha_k \\nabla \\mathcal{L}\\bigr(\\mathbf{w}, \\mathbf{X}, \\mathbf{y}\\bigr).\n",
        "$$\n",
        "В чем минусы?\n",
        "1. Очень долго считать градиент суммы $\\mathcal{L}\\bigr(\\mathbf{w}, \\mathbf{X}, \\mathbf{y}\\bigr) = \\frac{1}{l}\\sum_{i=1}^{l}q\\bigr(\\mathbf{w}, \\mathbf{x}_i, y_i\\bigr)$\n",
        "2. Как ускорить?\n",
        "\n",
        "Рассмотрим стохастический градиентный спуск:\n",
        "$$\n",
        "\\mathbf{w}_{k+1} = \\mathbf{w}_k - \\alpha_k \\nabla q\\bigr(\\mathbf{w}, \\mathbf{x}_{i_k}, y_{i_k}\\bigr).\n",
        "$$\n",
        "\n",
        "В случае, если индекс объекта $i_k$ сгенерирован равновероятно, то справедливо следующее свойство:\n",
        "$$\n",
        "\\mathsf{E} \\nabla q\\bigr(\\mathbf{w}, \\mathbf{x}_{i_k}, y_{i_k}\\bigr) = \\frac{1}{l}\\sum_{i=1}^{l}q\\bigr(\\mathbf{w}, \\mathbf{x}_i, y_i\\bigr) = \\nabla\\mathcal{L}\\bigr(\\mathbf{w}, \\mathbf{X}, \\mathbf{y}\\bigr),\n",
        "$$\n",
        "то есть получаем, что в среднем градиент на каждой итерации направлен вдоль истинного градиента."
      ]
    },
    {
      "cell_type": "markdown",
      "metadata": {
        "id": "pi89dgDtUEEe"
      },
      "source": [
        "### Анализ сходимости стохастического градиента\n",
        "Рассмотрим задачу оптимизации:\n",
        "$$\n",
        "\\mathcal{L}\\bigr(\\mathbf{w}\\bigr) = \\frac{1}{l}\\sum_{i=1}^{l}q\\bigr(\\mathbf{w}, i\\bigr) \\to \\min_{\\mathbf{w}},\n",
        "$$\n",
        "где $\\mathcal{L}$ является выпуклой функцией по параметру $\\mathbf{w}$.\n",
        "\n",
        "Стохастический градиентный спуск:\n",
        "$$\n",
        "\\mathbf{w}_{k+1} = \\mathbf{w}_k - \\alpha_k \\hat{\\mathbf{g}}_k, \\quad \\mathsf{E}\\hat{\\mathbf{g}}_k = \\mathbf{g}_k = \\nabla\\mathcal{L}\\bigr(\\mathbf{w}\\bigr).\n",
        "$$\n",
        "\n",
        "Рассмотрим норму невязки:\n",
        "$$\n",
        "||\\textbf{x}_{k+1} - \\textbf{x}^*||^2 = ||\\textbf{x}_{k}-\\textbf{x}^* - \\alpha_{k}\\hat{\\textbf{g}}_k||^2 = ||\\textbf{x}_{k} - \\textbf{x}^*||^2 -2\\alpha_{k}\\hat{\\textbf{g}}_k^{\\mathsf{T}}(\\textbf{x}_{k} - \\textbf{x}^*) + \\alpha_{k}^2||\\hat{\\textbf{g}}_k||^2.\n",
        "$$\n",
        "\n",
        "Рассмотрим среднее значение невязки при случайном выборе $\\hat{\\mathbf{g}}_k$:\n",
        "$$\n",
        "\\mathsf{E}||\\textbf{x}_{k+1} - \\textbf{x}^*||^2 = ||\\textbf{x}_{k} - \\textbf{x}^*||^2 -2\\alpha_{k}\\textbf{g}_k^{\\mathsf{T}}(\\textbf{x}_{k} - \\textbf{x}^*) + \\alpha_{k}^2\\mathsf{E}||\\hat{\\textbf{g}}_k||^2.\n",
        "$$\n",
        "Далее нам поребуется следующая величина:\n",
        "$$\n",
        "\\alpha_{k}\\textbf{g}_k^{\\mathsf{T}}(\\textbf{x}_{k} - \\textbf{x}^*) = \\frac{1}{2}||\\textbf{x}_{k} - \\textbf{x}^*||^2 - \\frac{1}{2}\\mathsf{E}||\\textbf{x}_{k+1} - \\textbf{x}^*||^2 + \\alpha_{k}^2\\mathsf{E}||\\hat{\\textbf{g}}_k||^2.\n",
        "$$"
      ]
    },
    {
      "cell_type": "markdown",
      "metadata": {
        "id": "aYwTvfpqUEEf"
      },
      "source": [
        "В силу выпуклости функции $\\mathcal{L}$ справедливо следующее свойство:\n",
        "$$\n",
        "\\mathcal{L}\\bigr(\\mathbf{x}_k\\bigr) - \\mathcal{L}\\bigr(\\mathbf{x}^*\\bigr) \\leq\\textbf{g}_k^{\\mathsf{T}}(\\textbf{x}_{k} - \\textbf{x}^*)\n",
        "$$\n",
        "\n",
        "Откуда получаем:\n",
        "$$\n",
        "\\alpha_k\\left(\\mathcal{L}\\bigr(\\mathbf{x}_k\\bigr) - \\mathcal{L}\\bigr(\\mathbf{x}^*\\bigr)\\right) \\leq \\frac{1}{2}||\\textbf{x}_{k} - \\textbf{x}^*||^2 - \\frac{1}{2}\\mathsf{E}||\\textbf{x}_{k+1} - \\textbf{x}^*||^2 + \\frac{\\alpha_{k}^2}{2}\\mathsf{E}||\\hat{\\textbf{g}}_k||^2.\n",
        "$$\n",
        "\n",
        "Далее усредним уже по $\\mathbf{g}_k$ для всех $k=1\\cdots K$ и просумируем $K$ первых итераций:\n",
        "$$\n",
        "\\sum_{k=1}^{K}\\alpha_k\\left(\\mathsf{E}\\mathcal{L}\\bigr(\\mathbf{x}_k\\bigr) - \\mathcal{L}\\bigr(\\mathbf{x}^*\\bigr)\\right) \\leq \\frac{1}{2}||\\mathbf{x}_0 - \\mathbf{x}^*||^2 - \\frac{1}{2}\\mathsf{E}||\\textbf{x}_{k+1} - \\textbf{x}^*||^2 + \\sum_{k=1}^{K}\\frac{\\alpha_{k}^2}{2}\\mathsf{E}||\\hat{\\textbf{g}}_k||^2 \\leq \\frac{1}{2}||\\mathbf{x}_0 - \\mathbf{x}^*||^2 + \\sum_{k=1}^{K}\\frac{\\alpha_{k}^2}{2}\\mathsf{E}||\\hat{\\textbf{g}}_k||^2. \n",
        "$$"
      ]
    },
    {
      "cell_type": "markdown",
      "metadata": {
        "id": "3KB5dZ0fUEEg"
      },
      "source": [
        "Используем неравенство Йенсена для выпуклой функции $\\mathcal{L}$:\n",
        "$$\n",
        "\\mathsf{E}\\mathcal{L}\\bigr(\\frac{1}{\\sum\\alpha_k}\\sum\\alpha_k\\mathbf{x}_k\\bigr) - \\mathcal{L}\\bigr(\\mathbf{x}^*\\bigr) \\leq \\sum_{k=1}^{K}\\alpha_k\\left(\\mathsf{E}\\mathcal{L}\\bigr(\\mathbf{x}_k\\bigr) - \\mathcal{L}\\bigr(\\mathbf{x}^*\\bigr)\\right) \\leq \\frac{1}{2}||\\mathbf{x}_0 - \\mathbf{x}^*||^2 + \\sum_{k=1}^{K}\\frac{\\alpha_{k}^2}{2}\\mathsf{E}||\\hat{\\textbf{g}}_k||^2.\n",
        "$$\n",
        "\n",
        "Для удобства введем обозначение и предположения:\n",
        "$$\n",
        "\\hat{\\mathbf{x}}_{K} = \\frac{1}{\\sum\\alpha_k}\\sum\\alpha_k\\mathbf{x}_k, \\quad ||\\textbf{x}_0 - \\textbf{x}^*||^2 \\leq R^2, \\quad \\mathsf{E}||\\hat{\\textbf{g}}_k||^2 \\leq G^2.\n",
        "$$\n",
        "\n",
        "Получаем следующую оценку:\n",
        "$$\n",
        "\\mathsf{E}\\mathcal{L}\\bigr(\\hat{\\mathbf{x}}_K\\bigr) - \\mathcal{L}\\bigr(\\mathbf{x}^*\\bigr) \\leq \\frac{R^2+G^2\\sum\\alpha^2_k}{2\\sum\\alpha_k}\n",
        "$$"
      ]
    },
    {
      "cell_type": "markdown",
      "metadata": {
        "id": "k6nGIAsvUEEh"
      },
      "source": [
        "Проанализируем выражение на скорость сходимости:\n",
        "$$\n",
        "\\mathsf{E}\\mathcal{L}\\bigr(\\mathbf{x}_K\\bigr) - \\mathcal{L}\\bigr(\\mathbf{x}^*\\bigr) \\leq \\frac{R^2+G^2\\sum\\alpha^2_k}{2\\sum\\alpha_k}\n",
        "$$\n",
        "\n",
        "Первый способ выборка шага:\n",
        "$$\n",
        "\\quad \\sum\\alpha_k = \\infty, \\quad \\sum\\alpha^2_k < \\infty, \\qquad \\left[ \\alpha_k = \\frac{1}{k}\\right]\n",
        "$$\n",
        "получаем скорость сходимости $\\approx O(\\frac{1}{\\log K})$.\n",
        "\n",
        "Второй способ выбора шага:\n",
        "$$\n",
        "\\quad \\sum\\alpha_k = \\infty, \\quad \\frac{\\sum\\alpha^2_k}{\\sum\\alpha_k} = 0, \\qquad \\left[ \\alpha_k = \\frac{1}{\\sqrt{k}}\\right]\n",
        "$$\n",
        "получаем скорость сходимости $\\approx O(\\frac{\\log K}{\\sqrt{K}})$.\n",
        "\n",
        "Получили важное свойство, что при константном шаге, метод стохастического градиента не сходится."
      ]
    },
    {
      "cell_type": "markdown",
      "metadata": {
        "id": "3NYTWYZyUEEh"
      },
      "source": [
        "### Вернемся к задаче бинарной классификации\n",
        "$$\n",
        "\\hat{\\mathbf{w}} = \\arg \\min_{\\mathbf{w} \\in \\mathbb{R}^n} \\frac{1}{l}\\sum_{i=1}^l\\log_{2}\\bigr(1+e^{-y_i\\mathbf{w}^{\\mathsf{T}}\\mathbf{x}_i}\\bigr)\n",
        "$$"
      ]
    },
    {
      "cell_type": "code",
      "metadata": {
        "id": "RyfWMHnMUEEh"
      },
      "source": [
        "torch.manual_seed(0)\n",
        "\n",
        "l = 1000\n",
        "n = 2\n",
        "\n",
        "X = torch.randn([l, n])\n",
        "w_true = torch.randn([n])\n",
        "Y = torch.ones([l])\n",
        "Y[X@w_true < 0] = -1"
      ],
      "execution_count": 31,
      "outputs": []
    },
    {
      "cell_type": "code",
      "metadata": {
        "id": "zTTW2SeNUEEi"
      },
      "source": [
        "torch.manual_seed(0)\n",
        "np.random.seed(0)\n",
        "w = torch.randn([n], requires_grad=True)\n",
        "\n",
        "K = l\n",
        "list_of_loss_sqrt = []  \n",
        "for k in range(1, K+1):\n",
        "    # Считаем ошибку L на k-м шаге\n",
        "    with torch.no_grad():\n",
        "        list_of_loss_sqrt.append(\n",
        "            torch.mean(torch.log2(1+torch.exp(-Y*(X@w)))))\n",
        "    \n",
        "    # выбираем случайный элемент из выбооки\n",
        "    ind = np.random.randint(low=0, high=l)\n",
        "    alpha = 1/np.sqrt(k)\n",
        "    \n",
        "    # считаем ошибку на элементе\n",
        "    q = torch.log2(1+torch.exp(-Y[ind]*(X[ind]@w)))\n",
        "    \n",
        "    # считаем g с крышкой\n",
        "    q.backward()\n",
        "    \n",
        "    # делаем градиентный шаг\n",
        "    with torch.no_grad():\n",
        "        w.add_(w.grad, alpha=-1*alpha)\n",
        "\n",
        "    # обнуляем градиент\n",
        "    w.grad.zero_()"
      ],
      "execution_count": 32,
      "outputs": []
    },
    {
      "cell_type": "code",
      "metadata": {
        "scrolled": true,
        "id": "nxy1IMZ4UEEi",
        "outputId": "680a82d2-e648-4ce9-a9c7-33705489f358",
        "colab": {
          "base_uri": "https://localhost:8080/"
        }
      },
      "source": [
        "pred = torch.ones([l])\n",
        "pred[X@w < 0] = -1\n",
        "print('Точность прогноза: {}'.format(torch.mean((pred == Y).float()).item()))"
      ],
      "execution_count": 33,
      "outputs": [
        {
          "output_type": "stream",
          "text": [
            "Точность прогноза: 0.9980000257492065\n"
          ],
          "name": "stdout"
        }
      ]
    },
    {
      "cell_type": "code",
      "metadata": {
        "id": "QNjukNi-UEEj"
      },
      "source": [
        "torch.manual_seed(0)\n",
        "np.random.seed(0)\n",
        "w = torch.randn([n], requires_grad=True)\n",
        "\n",
        "K = l\n",
        "list_of_loss = []  \n",
        "for k in range(1, K+1):\n",
        "    # Считаем ошибку L на k-м шаге\n",
        "    with torch.no_grad():\n",
        "        list_of_loss.append(torch.mean(torch.log2(1+torch.exp(-Y*(X@w)))))\n",
        "    \n",
        "    # выбираем случайный элемент из выбооки\n",
        "    ind = np.random.randint(low=0, high=l)\n",
        "    alpha = 1/k\n",
        "    \n",
        "    # считаем ошибку на элементе\n",
        "    q = torch.log2(1+torch.exp(-Y[ind]*(X[ind]@w)))\n",
        "    \n",
        "    # считаем g с крышкой\n",
        "    q.backward()\n",
        "    \n",
        "    # делаем градиентный шаг\n",
        "    with torch.no_grad():\n",
        "        w.add_(w.grad, alpha=-1*alpha)\n",
        "\n",
        "    # обнуляем градиент\n",
        "    w.grad.zero_()"
      ],
      "execution_count": 34,
      "outputs": []
    },
    {
      "cell_type": "code",
      "metadata": {
        "id": "CVcEyG6KUEEj"
      },
      "source": [
        "torch.manual_seed(0)\n",
        "w = torch.randn([n], requires_grad=True)\n",
        "\n",
        "dataset = torch.utils.data.TensorDataset(X, Y)\n",
        "generator = torch.utils.data.DataLoader(dataset, batch_size=1, shuffle=True)\n",
        "\n",
        "optimizer = torch.optim.SGD([w], lr=1)\n",
        "scheduler = torch.optim.lr_scheduler.LambdaLR(optimizer, \n",
        "                                              lambda k: 1/np.sqrt(k+1))\n",
        "\n",
        "list_of_loss_torch = []\n",
        "for x, y in generator:\n",
        "    optimizer.zero_grad()\n",
        "\n",
        "    # Считаем ошибку L на k-м шаге\n",
        "    with torch.no_grad():\n",
        "        list_of_loss_torch.append(\n",
        "            torch.mean(torch.log2(1+torch.exp(-Y*(X@w)))))\n",
        "        \n",
        "    q = torch.log2(1+torch.exp(-y*(x@w))).mean()\n",
        "    \n",
        "    q.backward()\n",
        "    \n",
        "    optimizer.step()\n",
        "    scheduler.step()"
      ],
      "execution_count": 35,
      "outputs": []
    },
    {
      "cell_type": "code",
      "metadata": {
        "id": "aqqE2qyPUEEj",
        "outputId": "fcfb123b-0b46-4afc-dde4-31bbe17a725e",
        "colab": {
          "base_uri": "https://localhost:8080/",
          "height": 265
        }
      },
      "source": [
        "plt.plot(list_of_loss, label=\"manual: $a_k = 1/k$\")\n",
        "plt.plot(list_of_loss_sqrt, label=\"manual: $a_k = 1/k^{0.5}$\")\n",
        "plt.plot(list_of_loss_torch, label=\"torch: $a_k = 1/k^{0.5}$\")\n",
        "plt.legend(loc='best')\n",
        "plt.show()"
      ],
      "execution_count": 36,
      "outputs": [
        {
          "output_type": "display_data",
          "data": {
            "image/png": "[encoded data removed]",
            "text/plain": [
              "<Figure size 432x288 with 1 Axes>"
            ]
          },
          "metadata": {
            "tags": [],
            "needs_background": "light"
          }
        }
      ]
    },
    {
      "cell_type": "markdown",
      "metadata": {
        "id": "GpcqqsSJUEEj"
      },
      "source": [
        "## Вероятностная постановка задачи машинного обучения"
      ]
    },
    {
      "cell_type": "markdown",
      "metadata": {
        "id": "isnjs4m5UEEk"
      },
      "source": [
        "### Линейная регрессия\n",
        "Рассмотрим следующее вероятностное предположение о данных:\n",
        "$$\n",
        "y = \\mathbf{w}^{\\mathsf{T}}\\mathbf{x} + \\varepsilon, \\quad \\varepsilon \\sim \\mathcal{N}\\bigr(0, \\beta\\bigr)\n",
        "$$\n",
        "\n",
        "Пусть вектора $\\mathbf{w}$ и $\\mathbf{x}$ являются не случайными, тогда получаем, что $y$ является нормальной случайной величной. Пусть все объекты выборки также являются не зависимыми случайными величинами, тогда получаем правдоподобие выборки:\n",
        "$$\n",
        "p\\bigr(\\mathbf{y}|\\mathbf{w}, \\mathbf{X}\\bigr) = \\prod_{i=1}^{l}p\\bigr(y_i|\\mathbf{w}, \\mathbf{x}_i\\bigr),\n",
        "$$\n",
        "где $p\\bigr(y_i|\\mathbf{w}, \\mathbf{x}_i\\bigr)=\\mathcal{N}\\bigr(\\mathbf{w}^{\\mathsf{T}}\\mathbf{x}_i, \\beta)$.\n",
        "\n",
        "Принцип максимума правдоподобия:\n",
        "$$\n",
        "\\mathcal{L}\\bigr(\\mathbf{w}, \\mathbf{X}, \\mathbf{y}\\bigr) = -\\sum_{i=1}^{l}\\log p\\bigr(y_i|\\mathbf{w}, \\mathbf{x}_i\\bigr) = \\sum_{i=1}^{l}\\left[\\frac{\\beta}{2}\\left(\\mathbf{w}^{\\mathsf{T}}\\mathbf{x}_i-y_i\\right)^2 + C\\right]\n",
        "$$\n",
        "\n",
        "Данная задача эквивалентна задаче, которая была рассмотрена в начале для линейной регрессии. Решение задачи имеет вид:\n",
        "$$\n",
        "\\hat{\\mathbf{w}} = \\left(\\mathbf{X}^{\\mathsf{T}}\\mathbf{X}\\right)^{-1}\\mathbf{X}^{\\mathsf{T}}\\mathbf{y}\n",
        "$$"
      ]
    },
    {
      "cell_type": "markdown",
      "metadata": {
        "id": "ZcJAuN4pUEEk"
      },
      "source": [
        "Теперь рассмотрим совместное правдоподобие модели и данных:\n",
        "$$\n",
        "p\\bigr(\\mathbf{y}, \\mathbf{w}|\\mathbf{X}\\bigr) = \\prod_{i=1}^{l}p\\bigr(y_i|\\mathbf{w}, \\mathbf{x}_i\\bigr)p\\bigr(\\mathbf{w}\\bigr),\n",
        "$$\n",
        "где для для простоты рассмотрим $p\\bigr(\\mathbf{w}\\bigr)=\\mathcal{N}\\bigr(\\mathbf{0}, \\gamma\\mathbf{I})$.\n",
        "\n",
        "По принципу максимума правдоподобия получаем следующую функцию для минимизации:\n",
        "$$\n",
        "\\mathcal{L}\\bigr(\\mathbf{w}, \\mathbf{X}, \\mathbf{y}\\bigr) = -\\sum_{i=1}^{l}\\log p\\bigr(y_i|\\mathbf{w}, \\mathbf{x}_i\\bigr) - \\log p\\bigr(\\mathbf{w}\\bigr) = \\sum_{i=1}^{l}\\left[\\frac{\\beta}{2}\\left(\\mathbf{w}^{\\mathsf{T}}\\mathbf{x}_i-y_i\\right)^2 + C_1\\right] + \\mathbf{w}^{\\mathsf{T}}\\mathbf{w} + C_2.\n",
        "$$\n",
        "\n",
        "Заметим, что следующая задача оптимизации имеет аналитическое решение:\n",
        "$$\n",
        "\\hat{\\mathbf{w}} = \\arg\\min_{\\mathbf{w} \\in \\mathbb{R}^{n}} \\left\\{-\\sum_{i=1}^{l}\\log p\\bigr(y_i|\\mathbf{w}, \\mathbf{x}_i\\bigr) - \\log p\\bigr(\\mathbf{w}\\bigr)\\right\\} = \\arg\\min_{\\mathbf{w} \\in \\mathbb{R}^{n}} \\left\\{ \\sum_{i=1}^{l}\\left[\\frac{\\beta}{2}\\left(\\mathbf{w}^{\\mathsf{T}}\\mathbf{x}_i-y_i\\right)^2 + C_1\\right] + \\frac{\\gamma}{2}\\mathbf{w}^{\\mathsf{T}}\\mathbf{w} + C_2 \\right\\}.\n",
        "$$"
      ]
    },
    {
      "cell_type": "markdown",
      "metadata": {
        "id": "zQy-a8AUUEEk"
      },
      "source": [
        "### Логистическая регрессия\n",
        "Рассмотрим следующее вероятностное предположение о данных:\n",
        "$$\n",
        "y \\sim \\text{Be}\\bigr(\\sigma\\bigr(\\mathbf{w}^{\\mathsf{T}}\\mathbf{x}\\bigr)\\bigr), \\quad \\sigma\\bigr(x\\bigr) = \\frac{1}{1+\\exp\\bigr(-x\\bigr)}.\n",
        "$$\n",
        "\n",
        "Принцип максимума правдоподобия:\n",
        "$$\n",
        "\\mathcal{L}\\bigr(\\mathbf{w}, \\mathbf{X}, \\mathbf{y}\\bigr) = -\\sum_{i=1}^{l}\\log p\\bigr(y_i|\\mathbf{w}, \\mathbf{x}_i\\bigr) = \\sum_{i=1}^{l}\\left[y_i\\log\\sigma\\bigr(\\mathbf{w}^{\\mathsf{T}}\\mathbf{x}_i\\bigr) + \\left(1-y_i\\right)\\log\\left(1-\\sigma\\bigr(\\mathbf{w}^{\\mathsf{T}}\\mathbf{x}_i\\bigr)\\right) + C\\right].\n",
        "$$\n",
        "\n",
        "Аналогично рассмотрим совместное правдоподобие модели и данных. Запишем правдоподобие в случае, когда $p\\bigr(\\mathbf{w}\\bigr)=\\mathcal{N}\\bigr(\\mathbf{0}, \\gamma\\mathbf{I})$:\n",
        "$$\n",
        "\\mathcal{L}\\bigr(\\mathbf{w}, \\mathbf{X}, \\mathbf{y}\\bigr) = -\\sum_{i=1}^{l}\\log p\\bigr(y_i|\\mathbf{w}, \\mathbf{x}_i\\bigr) - \\log p\\bigr(\\mathbf{w}\\bigr) = \\sum_{i=1}^{l}\\left[y_i\\log\\sigma\\bigr(\\mathbf{w}^{\\mathsf{T}}\\mathbf{x}_i\\bigr) + \\left(1-y_i\\right)\\log\\left(1-\\sigma\\bigr(\\mathbf{w}^{\\mathsf{T}}\\mathbf{x}_i\\bigr)\\right) + C_1\\right] + \\frac{\\gamma}{2}\\mathbf{w}^{\\mathsf{T}}\\mathbf{w} + C_2.\n",
        "$$"
      ]
    },
    {
      "cell_type": "markdown",
      "metadata": {
        "id": "JJrvzB66UEEk"
      },
      "source": [
        "## Анализ решения задачи оптимизации от параметра $\\gamma$\n",
        "Заметим, что решение оптимизационной задачи зависит от параметра $\\gamma$:\n",
        "$$\n",
        "\\hat{\\mathbf{w}}\\bigr(\\gamma\\bigr) = \\arg\\min_{\\mathbf{w} \\in \\mathbb{R}^{n}} \\left\\{\\sum_{i=1}^{l}\\left[y_i\\log\\sigma\\bigr(\\mathbf{w}^{\\mathsf{T}}\\mathbf{x}_i\\bigr) + \\left(1-y_i\\right)\\log\\left(1-\\sigma\\bigr(\\mathbf{w}^{\\mathsf{T}}\\mathbf{x}_i\\bigr)\\right)\\right] + \\frac{\\gamma}{2}\\mathbf{w}^{\\mathsf{T}}\\mathbf{w}\\right\\}.\n",
        "$$\n",
        "\n",
        "Рассмотрим решение логистической регрессии для разных параметров $\\gamma$. "
      ]
    },
    {
      "cell_type": "code",
      "metadata": {
        "id": "sg-Q3omBUEEk"
      },
      "source": [
        "np.random.seed(0)\n",
        "l = 50000\n",
        "n = 2\n",
        "\n",
        "X = np.random.randn(l, n)\n",
        "w = np.random.randn(n)\n",
        "Y = np.random.binomial(n=1, p=expit(X@w))\n"
      ],
      "execution_count": 37,
      "outputs": []
    },
    {
      "cell_type": "code",
      "metadata": {
        "id": "cemYTE0RUEEl"
      },
      "source": [
        "gammas = [1e-10, 1e-4, 1e-3, 1e-2, .1, 1., 10., 1e2, 1e3, 1e4, 1e10]\n",
        "\n",
        "models_l2 = dict()\n",
        "for gamma in gammas:\n",
        "    model = LogisticRegression(penalty='l2', C=2/gamma, fit_intercept=False, \n",
        "                               random_state=0, solver='saga')\n",
        "    model.fit(X, Y)\n",
        "    models_l2[gamma] = model\n",
        "    \n",
        "models_l1 = dict()\n",
        "for gamma in gammas:\n",
        "    model = LogisticRegression(penalty='l1', C=2/gamma, fit_intercept=False, \n",
        "                               random_state=0, solver='saga')\n",
        "    model.fit(X, Y)\n",
        "    models_l1[gamma] = model"
      ],
      "execution_count": 38,
      "outputs": []
    },
    {
      "cell_type": "code",
      "metadata": {
        "id": "CF41goaMUEEl",
        "outputId": "04f6454a-ede4-4226-dc1b-b4b7d9ab83ee",
        "colab": {
          "base_uri": "https://localhost:8080/",
          "height": 265
        }
      },
      "source": [
        "x = [models_l2[gamma].coef_[0][0] for gamma in models_l2]\n",
        "y = [models_l2[gamma].coef_[0][1] for gamma in models_l2]\n",
        "\n",
        "plt.plot(x, y, 'bo')\n",
        "plt.plot(x, y, 'b-', linewidth=1, label='l2 penalty')\n",
        "\n",
        "x = [models_l1[gamma].coef_[0][0] for gamma in models_l1]\n",
        "y = [models_l1[gamma].coef_[0][1] for gamma in models_l1]\n",
        "\n",
        "plt.plot(x, y, 'go')\n",
        "plt.plot(x, y, 'g-', linewidth=1, label='l1 penalty')\n",
        "    \n",
        "    \n",
        "plt.scatter(w[0], w[1], marker='*', c='r', label='true w')\n",
        "plt.legend(loc='best')\n",
        "plt.show()"
      ],
      "execution_count": 39,
      "outputs": [
        {
          "output_type": "display_data",
          "data": {
            "image/png": "[encoded data removed]",
            "text/plain": [
              "<Figure size 432x288 with 1 Axes>"
            ]
          },
          "metadata": {
            "tags": [],
            "needs_background": "light"
          }
        }
      ]
    },
    {
      "cell_type": "markdown",
      "metadata": {
        "id": "ZK3JXhNbUEEl"
      },
      "source": [
        "### Как находить оптимальное $\\gamma$"
      ]
    },
    {
      "cell_type": "markdown",
      "metadata": {
        "id": "TbY__yGzUEEl"
      },
      "source": [
        "Для поиска оптимального $\\gamma$ вспомним про Cross Validation и LOO методы.\n",
        "\n",
        "LOO:\n",
        "$$\n",
        "\\hat{\\gamma} = \\arg\\min_{\\gamma \\in \\Gamma} LOO\\bigr(\\gamma, \\textbf{X}_{tr}, \\textbf{y}_{tr}, \\textbf{X}_{vl}, \\textbf{y}_{vl}\\bigr), \\quad LOO\\bigr(\\mu, \\textbf{X}_{tr}, \\textbf{y}_{tr}, \\textbf{X}_{vl}, \\textbf{y}_{vl}\\bigr) = \n",
        "\\sum_{i=1}^{l_{tr}+l_{vl}}q\\bigr(\\hat{\\mathbf{w}}\\bigr(\\gamma\\bigr), \\mathbf{x}_i, y_i\\bigr),\n",
        "$$\n",
        "\n",
        "На лекции рассмотрим метод LOO, в Cross Validation все тоже самое, но откладываем не по одному элементу, а больше."
      ]
    },
    {
      "cell_type": "code",
      "metadata": {
        "id": "jmoio6vDUEEm"
      },
      "source": [
        "np.random.seed(0)\n",
        "l = 1000\n",
        "n = 2\n",
        "\n",
        "\n",
        "X_train = np.random.randn(l, n)\n",
        "X_test = np.random.randn(500, n)\n",
        "w = np.random.randn(n)\n",
        "Y_train = np.random.binomial(n=1, p=expit(X_train@w))\n",
        "Y_test = np.random.binomial(n=1, p=expit(X_test@w))"
      ],
      "execution_count": 40,
      "outputs": []
    },
    {
      "cell_type": "code",
      "metadata": {
        "id": "034425QsUEEm",
        "outputId": "c144bf93-bb15-405b-a80e-51f5990c320f",
        "colab": {
          "base_uri": "https://localhost:8080/",
          "height": 66,
          "referenced_widgets": [
            "965122ca85d64fc5a2d92abd52820037",
            "12c23acef98d4f91ba7da9b4930ff6ad",
            "2d25145af80147879bb21b93b6e038c7",
            "54ddfd21689f43a4b63659fe55de65c9",
            "cbfa612244a546dd92acdbb6486261dd",
            "33c2a211df3341d9b42516db7ee14c22",
            "af3c3b1894a14d4eaa510cdc9d64f5b8",
            "1503133a90e64a22b9ea0e8c2f02fd12",
            "e9efd566f5f24f54b93c2c7365079d71",
            "cf9020be89cf44c78832b46583c0f1eb",
            "9faa3f0eeeda4ac09db976ab667ad375",
            "c438413a5c6b469492272959ba2c21f2",
            "e5cf62b7a6dc4081962232109eb21a26",
            "6ffd888a58c645e58c759fb8ca7ce180",
            "366c74c931cf456cbc06c6d8396775d1",
            "0ebf2363e264461a9e50e17d7c82e3c0",
            "fc1ce21b2aab40d3b523abe42d2579d5",
            "e858afc98fdd4422bf8adbf40d55dd46",
            "1cd4dac844e049589ebd29be7be74542",
            "1a6b08d3377b4bcf8f94cca19b4b0ac2",
            "d9b9dc9bbc194c1d9c2bf0da1c3be83a",
            "96347f49df2241b59284b4fb2e170a76",
            "0b8c9809313a460393dc671d43762c14",
            "b8fe886d918748ddbe4dcb2214130e68",
            "cd9af8d1e0b342c8842735a58858329c",
            "0b7ab6d2c2894409aefec5d62c77d7e0",
            "4e451fac097f456bae90d3d3ac76ed4f",
            "668e9b51436f4b959fb965d3d7a2ea37",
            "55eb61657b004d939ae783a18545e7b2",
            "7622b9cd3c9e43f288bda0436f1748f1",
            "9afcf70439a34da0ac10a03e6507a738",
            "351907ffb2c34f15a34bd4b7733fd27e",
            "955a8482e6f346f89327457a04d6dff0",
            "99c26423341341e38362c43e0bdfc2a3",
            "5d3d3361632f4d99b202cf270dfc2d51",
            "e568af9f81ba426b91a23bd233dd254b",
            "e6161abd4a244be6ba51b6c79f1bc409",
            "eb1412d2e7ff4d8e848da70fe97bab86",
            "b63092dc4da24cabb165e725d4313c2a",
            "54a9e68f392d44a591fa0ce5362c4544",
            "f62f21bf3cf74d6ebbea511d3fffb86f",
            "d5d2c1f1bbdd44059442343ac4a325f9",
            "11c316e2243e4481be20d9b774b4bb92",
            "17008a0cdbcb4ccbbed1c24b52b83d01",
            "dcd3964c931849beb48e93618344c793",
            "9524335b60ce434fb80bdaaaead30bcd",
            "9de8c14c6bf94500a38eb8b816a912e4",
            "8ad41e489dc64210ad65929d751fa4d1",
            "315a321e937443039ca9cfc356a409e7",
            "c49b09399a044ba8aab8188010301046",
            "3f422bfc05de45d6a93f1d9d3c37eb15",
            "29ffc9ddb5d044d1a081ca9f890a43c4",
            "b7f8b55e884c43078c214fc8e3172d1e",
            "74bf4bc1c854469a8433c7a08d21da01",
            "a528a6e4ef2a4e8e9b3d4e009f918e93",
            "583b04447593470ab12ea6dd6ddae34b",
            "95dca64254c9482993e6d7bb581d2c1a",
            "bc3a76f7fa86491caa8a3a7167e7595b",
            "a809c8542a4248db83a8c8505e354ccc",
            "87ea548fb8184d2a96f891e8ce3b72d9",
            "1de0e55697d642769ca98537eb4ba78a",
            "2d14d0a0213a46d1a616682fceef73fa",
            "3e495574660842368a3f4b19c3a39b16",
            "f62ada207cdd4d3d9afaa066cbd09560",
            "100a1c530f3244d98adef91373ca7b94",
            "722840a4c92d4187994df212bd63205d",
            "9d1e64a841134f82828b268bb5d68110",
            "8a79b93441ff41db9274160ab0e4eff5",
            "76583a08468c4c359d1fcc6b08c3f571",
            "ad2abe871ece4cb0b4f623881c65726b",
            "b4cd0a7e00e64c719f2cfcc4614c2645",
            "4d04877ced25450d9a1beba3b456d626",
            "13130db7f22342b6aa398d3f58c94add",
            "0d289089d9084d5f813781778bd7dc6b",
            "d4330523edb941588669659663a82bf4",
            "079f04d2ac1345e69ae6a8e1c7d602c1",
            "d2a028f1b03a4c1d8c9b40b9f56c5e26",
            "9d28d121ea0145f3a1ebbbb6b6766e9b",
            "71f66819bc9640eab8d43a508fde3703",
            "2f59e3661e9e40f59ff5f3e30f44d0fe",
            "73bf9b93226347ea8bfd8531be4cd771",
            "258a0de8c2134423967a3bc8ac4a464a",
            "018654f05f7649f5b7bf90481da1393d",
            "34dd89e5bf5a4bc89b68e2a2c415a8fe",
            "fa028a27927046dbb6136fbd5b02d779",
            "511d63d4d671400f97c53c5da959c203",
            "09f065b4507d4d3daf9693914d756421",
            "896ac3aef6d5401484866aba0c62f240",
            "ba592c7e2ba74525af740a3c26bb2083",
            "a6738f6ef84a414a9fbb39c257f61726",
            "ad6dd199506c46fe9565aea5df73250f",
            "ed1ae63558e84f349ef19a51e4c57854",
            "8dd780757533401c93162f707335e402",
            "16f3246d9b3242e092dc54e5015040fb",
            "3b5021049ff44e52b2c821fe54b83428",
            "70b5fabb03d04e5db29edacb99d04d99"
          ]
        }
      },
      "source": [
        "loo = LeaveOneOut()\n",
        "number_of_batch = loo.get_n_splits(X_train)\n",
        "\n",
        "gamma_scores = dict()\n",
        "for gamma in tqdm(gammas):\n",
        "    list_of_scores = []\n",
        "    for train_index, test_index in tqdm(loo.split(X_train), \n",
        "                                        total=number_of_batch, leave=False):\n",
        "        x_train, x_test = X_train[train_index], X_train[test_index]\n",
        "        y_train, y_test = Y_train[train_index], Y_train[test_index]\n",
        "\n",
        "        model = LogisticRegression(penalty='l2', C=2/gamma, solver='saga',\n",
        "                                   fit_intercept=False, random_state=0)\n",
        "        model.fit(x_train, y_train)\n",
        "        list_of_scores.append(model.score(x_test, y_test))\n",
        "        \n",
        "    gamma_scores[gamma] = np.mean(list_of_scores)"
      ],
      "execution_count": 41,
      "outputs": [
        {
          "output_type": "display_data",
          "data": {
            "application/vnd.jupyter.widget-view+json": {
              "model_id": "965122ca85d64fc5a2d92abd52820037",
              "version_minor": 0,
              "version_major": 2
            },
            "text/plain": [
              "HBox(children=(FloatProgress(value=0.0, max=11.0), HTML(value='')))"
            ]
          },
          "metadata": {
            "tags": []
          }
        },
        {
          "output_type": "display_data",
          "data": {
            "application/vnd.jupyter.widget-view+json": {
              "model_id": "e9efd566f5f24f54b93c2c7365079d71",
              "version_minor": 0,
              "version_major": 2
            },
            "text/plain": [
              "HBox(children=(FloatProgress(value=0.0, max=1000.0), HTML(value='')))"
            ]
          },
          "metadata": {
            "tags": []
          }
        },
        {
          "output_type": "display_data",
          "data": {
            "application/vnd.jupyter.widget-view+json": {
              "model_id": "fc1ce21b2aab40d3b523abe42d2579d5",
              "version_minor": 0,
              "version_major": 2
            },
            "text/plain": [
              "HBox(children=(FloatProgress(value=0.0, max=1000.0), HTML(value='')))"
            ]
          },
          "metadata": {
            "tags": []
          }
        },
        {
          "output_type": "display_data",
          "data": {
            "application/vnd.jupyter.widget-view+json": {
              "model_id": "cd9af8d1e0b342c8842735a58858329c",
              "version_minor": 0,
              "version_major": 2
            },
            "text/plain": [
              "HBox(children=(FloatProgress(value=0.0, max=1000.0), HTML(value='')))"
            ]
          },
          "metadata": {
            "tags": []
          }
        },
        {
          "output_type": "display_data",
          "data": {
            "application/vnd.jupyter.widget-view+json": {
              "model_id": "955a8482e6f346f89327457a04d6dff0",
              "version_minor": 0,
              "version_major": 2
            },
            "text/plain": [
              "HBox(children=(FloatProgress(value=0.0, max=1000.0), HTML(value='')))"
            ]
          },
          "metadata": {
            "tags": []
          }
        },
        {
          "output_type": "display_data",
          "data": {
            "application/vnd.jupyter.widget-view+json": {
              "model_id": "f62f21bf3cf74d6ebbea511d3fffb86f",
              "version_minor": 0,
              "version_major": 2
            },
            "text/plain": [
              "HBox(children=(FloatProgress(value=0.0, max=1000.0), HTML(value='')))"
            ]
          },
          "metadata": {
            "tags": []
          }
        },
        {
          "output_type": "display_data",
          "data": {
            "application/vnd.jupyter.widget-view+json": {
              "model_id": "315a321e937443039ca9cfc356a409e7",
              "version_minor": 0,
              "version_major": 2
            },
            "text/plain": [
              "HBox(children=(FloatProgress(value=0.0, max=1000.0), HTML(value='')))"
            ]
          },
          "metadata": {
            "tags": []
          }
        },
        {
          "output_type": "display_data",
          "data": {
            "application/vnd.jupyter.widget-view+json": {
              "model_id": "95dca64254c9482993e6d7bb581d2c1a",
              "version_minor": 0,
              "version_major": 2
            },
            "text/plain": [
              "HBox(children=(FloatProgress(value=0.0, max=1000.0), HTML(value='')))"
            ]
          },
          "metadata": {
            "tags": []
          }
        },
        {
          "output_type": "display_data",
          "data": {
            "application/vnd.jupyter.widget-view+json": {
              "model_id": "100a1c530f3244d98adef91373ca7b94",
              "version_minor": 0,
              "version_major": 2
            },
            "text/plain": [
              "HBox(children=(FloatProgress(value=0.0, max=1000.0), HTML(value='')))"
            ]
          },
          "metadata": {
            "tags": []
          }
        },
        {
          "output_type": "display_data",
          "data": {
            "application/vnd.jupyter.widget-view+json": {
              "model_id": "13130db7f22342b6aa398d3f58c94add",
              "version_minor": 0,
              "version_major": 2
            },
            "text/plain": [
              "HBox(children=(FloatProgress(value=0.0, max=1000.0), HTML(value='')))"
            ]
          },
          "metadata": {
            "tags": []
          }
        },
        {
          "output_type": "display_data",
          "data": {
            "application/vnd.jupyter.widget-view+json": {
              "model_id": "73bf9b93226347ea8bfd8531be4cd771",
              "version_minor": 0,
              "version_major": 2
            },
            "text/plain": [
              "HBox(children=(FloatProgress(value=0.0, max=1000.0), HTML(value='')))"
            ]
          },
          "metadata": {
            "tags": []
          }
        },
        {
          "output_type": "display_data",
          "data": {
            "application/vnd.jupyter.widget-view+json": {
              "model_id": "ba592c7e2ba74525af740a3c26bb2083",
              "version_minor": 0,
              "version_major": 2
            },
            "text/plain": [
              "HBox(children=(FloatProgress(value=0.0, max=1000.0), HTML(value='')))"
            ]
          },
          "metadata": {
            "tags": []
          }
        },
        {
          "output_type": "stream",
          "text": [
            "\n"
          ],
          "name": "stdout"
        }
      ]
    },
    {
      "cell_type": "code",
      "metadata": {
        "id": "u705_zUmUEEm",
        "outputId": "29c7a734-6922-44e0-db2d-2fb25f834a87",
        "colab": {
          "base_uri": "https://localhost:8080/"
        }
      },
      "source": [
        "best_gamma = sorted(gamma_scores, \n",
        "                    key=lambda x: gamma_scores[x], reverse=True)[0]\n",
        "\n",
        "model = LogisticRegression(penalty='l2', C=2/best_gamma, fit_intercept=False, \n",
        "                           random_state=0, solver='saga')\n",
        "model.fit(X_train, Y_train)\n",
        "print('Точность: {}'.format(model.score(X_test, Y_test)))"
      ],
      "execution_count": 42,
      "outputs": [
        {
          "output_type": "stream",
          "text": [
            "Точность: 0.768\n"
          ],
          "name": "stdout"
        }
      ]
    },
    {
      "cell_type": "code",
      "metadata": {
        "id": "xsM-C32ZUEEn",
        "outputId": "b861cc62-74b4-48cc-9cfe-48a7e4a6f358",
        "colab": {
          "base_uri": "https://localhost:8080/",
          "height": 265
        }
      },
      "source": [
        "cols = ['blue', 'red']\n",
        "\n",
        "for k in np.unique(Y_test):\n",
        "    plt.plot(X_test[Y_test==k,0], X_test[Y_test==k,1], 'o', \n",
        "             label='класс {}'.format(k), color=cols[k])\n",
        "\n",
        "plt.plot(*get_line(*model.coef_[0], x_min=-0.6, x_max=0.6), \n",
        "         linewidth=2, color='black')\n",
        "\n",
        "plt.legend(loc='best')\n",
        "plt.show()"
      ],
      "execution_count": 43,
      "outputs": [
        {
          "output_type": "display_data",
          "data": {
            "image/png": "[encoded data removed]",
            "text/plain": [
              "<Figure size 432x288 with 1 Axes>"
            ]
          },
          "metadata": {
            "tags": [],
            "needs_background": "light"
          }
        }
      ]
    }
  ]
}